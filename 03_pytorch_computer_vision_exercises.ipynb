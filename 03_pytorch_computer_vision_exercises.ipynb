{
 "cells": [
  {
   "cell_type": "markdown",
   "metadata": {
    "id": "Vex99np2wFVt"
   },
   "source": [
    "# 03. PyTorch Computer Vision Exercises\n",
    "\n",
    "The following is a collection of exercises based on computer vision fundamentals in PyTorch.\n",
    "\n",
    "They're a bunch of fun.\n",
    "\n",
    "You're going to get to write plenty of code!\n",
    "\n",
    "## Resources\n",
    "\n",
    "1. These exercises are based on [notebook 03 of the Learn PyTorch for Deep Learning course](https://www.learnpytorch.io/03_pytorch_computer_vision/). \n",
    "2. See a live [walkthrough of the solutions (errors and all) on YouTube](https://youtu.be/_PibmqpEyhA). \n",
    "  * **Note:** Going through these exercises took me just over 3 hours of solid coding, so you should expect around the same.\n",
    "3. See [other solutions on the course GitHub](https://github.com/mrdbourke/pytorch-deep-learning/tree/main/extras/solutions)."
   ]
  },
  {
   "cell_type": "code",
   "execution_count": 1,
   "metadata": {
    "colab": {
     "base_uri": "https://localhost:8080/"
    },
    "id": "GaeYzOTLwWh2",
    "outputId": "17dd5453-9639-4b01-aa18-7ddbfd5c3253"
   },
   "outputs": [
    {
     "name": "stdout",
     "output_type": "stream",
     "text": [
      "Thu Aug 25 12:07:13 2022       \r\n",
      "+-----------------------------------------------------------------------------+\r\n",
      "| NVIDIA-SMI 440.33.01    Driver Version: 440.33.01    CUDA Version: 10.2     |\r\n",
      "|-------------------------------+----------------------+----------------------+\r\n",
      "| GPU  Name        Persistence-M| Bus-Id        Disp.A | Volatile Uncorr. ECC |\r\n",
      "| Fan  Temp  Perf  Pwr:Usage/Cap|         Memory-Usage | GPU-Util  Compute M. |\r\n",
      "|===============================+======================+======================|\r\n",
      "|   0  GeForce RTX 208...  Off  | 00000000:3B:00.0 Off |                  N/A |\r\n",
      "| 27%   39C    P8     6W / 250W |     11MiB / 11019MiB |      0%      Default |\r\n",
      "+-------------------------------+----------------------+----------------------+\r\n",
      "|   1  GeForce RTX 208...  Off  | 00000000:5E:00.0 Off |                  N/A |\r\n",
      "| 27%   41C    P8    24W / 250W |     11MiB / 11019MiB |      0%      Default |\r\n",
      "+-------------------------------+----------------------+----------------------+\r\n",
      "|   2  GeForce RTX 208...  Off  | 00000000:86:00.0 Off |                  N/A |\r\n",
      "| 27%   37C    P8    13W / 250W |     11MiB / 11019MiB |      0%      Default |\r\n",
      "+-------------------------------+----------------------+----------------------+\r\n",
      "|   3  GeForce RTX 208...  Off  | 00000000:AF:00.0 Off |                  N/A |\r\n",
      "| 27%   38C    P8    13W / 250W |     11MiB / 11019MiB |      0%      Default |\r\n",
      "+-------------------------------+----------------------+----------------------+\r\n",
      "                                                                               \r\n",
      "+-----------------------------------------------------------------------------+\r\n",
      "| Processes:                                                       GPU Memory |\r\n",
      "|  GPU       PID   Type   Process name                             Usage      |\r\n",
      "|=============================================================================|\r\n",
      "|  No running processes found                                                 |\r\n",
      "+-----------------------------------------------------------------------------+\r\n"
     ]
    }
   ],
   "source": [
    "# Check for GPU\n",
    "!nvidia-smi"
   ]
  },
  {
   "cell_type": "code",
   "execution_count": 2,
   "metadata": {
    "colab": {
     "base_uri": "https://localhost:8080/",
     "height": 53
    },
    "id": "DNwZLMbCzJLk",
    "outputId": "9c150c50-a092-4f34-9d33-b45247fb080d"
   },
   "outputs": [
    {
     "name": "stdout",
     "output_type": "stream",
     "text": [
      "1.12.1+cu102\n"
     ]
    }
   ],
   "source": [
    "# Import torch\n",
    "import torch\n",
    "\n",
    "# Exercises require PyTorch > 1.10.0\n",
    "print(torch.__version__)\n",
    "\n",
    "# TODO: Setup device agnostic code\n"
   ]
  },
  {
   "cell_type": "markdown",
   "metadata": {
    "id": "FSFX7tc1w-en"
   },
   "source": [
    "## 1. What are 3 areas in industry where computer vision is currently being used?"
   ]
  },
  {
   "cell_type": "markdown",
   "metadata": {
    "id": "VyWRkvWGbCXj"
   },
   "source": [
    "1. Self-driving cars, such as Tesla.\n",
    "2. Healthcare imaging, such as computer vision to help interpret X-rays.. Google for detecting plyps in the itensstines\n",
    "3. Security, CV can detect whether someone is invading your hom or not"
   ]
  },
  {
   "cell_type": "markdown",
   "metadata": {
    "id": "oBK-WI6YxDYa"
   },
   "source": [
    "## 2. Search \"what is overfitting in machine learning\" and write down a sentence about what you find. "
   ]
  },
  {
   "cell_type": "markdown",
   "metadata": {
    "id": "d1rxD6GObCqh"
   },
   "source": [
    "In, ML modeling, overfitting is like a students those memorizing the content before the exam, however when the questions are slightly changes they can not answers them. ... TTherefore, overfitting happens when the model learns the training data very well but fails to generalize on the unseen / test dataset  "
   ]
  },
  {
   "cell_type": "markdown",
   "metadata": {
    "id": "XeYFEqw8xK26"
   },
   "source": [
    "## 3. Search \"ways to prevent overfitting in machine learning\", write down 3 of the things you find and a sentence about each. \n",
    "> **Note:** there are lots of these, so don't worry too much about all of them, just pick 3 and start with those."
   ]
  },
  {
   "cell_type": "markdown",
   "metadata": {
    "id": "ocvOdWKcbEKr"
   },
   "source": [
    "1. Reduce the noise in data / cleanup dataset and itnroduce data augmentation techniques : if the model is learning the data very well, it might be just memorizeing the data and the noise. One option would be to remove the noise/clen up the datset ofr if this doesn't, you can introduce artificial noise throught the use of data augmentation to artificially increase the diversity of your training dataset. \n",
    "2. Regularization techniques - such as dropout on your neural network - dropout involves randomly removing neurons in different layers so that the remaining neurons hopefully learn more robust weights/patterns representations.\n",
    "3. Change the model: if the model is too complicated and can fint to a specific problem, learning the data too well because it has to many layers. You could remove some layers to simplify your model. Or you could pick a totally different mdoel altogether, one that may be more suited to your pariticualry problem. or you could also use transfer learning, taking the patterns from one model an applying them to your own problem ... "
   ]
  },
  {
   "cell_type": "markdown",
   "metadata": {
    "id": "DKdEEFEqxM-8"
   },
   "source": [
    "## 4. Spend 20-minutes reading and clicking through the [CNN Explainer website](https://poloclub.github.io/cnn-explainer/).\n",
    "\n",
    "* Upload your own example image using the \"upload\" button on the website and see what happens in each layer of a CNN as your image passes through it."
   ]
  },
  {
   "cell_type": "code",
   "execution_count": 1,
   "metadata": {
    "id": "TqZaJIRMbFtS"
   },
   "outputs": [],
   "source": [
    "import torchvision\n",
    "from torchvision import datasets\n",
    "\n",
    "from torchvision import transforms"
   ]
  },
  {
   "cell_type": "code",
   "execution_count": 2,
   "metadata": {},
   "outputs": [],
   "source": [
    "# Create the path \n",
    "from pathlib import Path\n",
    "rootDir = Path(\"datasets\")\n",
    "rootDir.mkdir(parents=True,\n",
    "             exist_ok=True)\n"
   ]
  },
  {
   "cell_type": "markdown",
   "metadata": {
    "id": "lvf-3pODxXYI"
   },
   "source": [
    "## 5. Load the [`torchvision.datasets.MNIST()`](https://pytorch.org/vision/stable/generated/torchvision.datasets.MNIST.html#torchvision.datasets.MNIST) train and test datasets."
   ]
  },
  {
   "cell_type": "code",
   "execution_count": 3,
   "metadata": {
    "id": "SHjeuN81bHza"
   },
   "outputs": [
    {
     "name": "stdout",
     "output_type": "stream",
     "text": [
      "Downloading http://yann.lecun.com/exdb/mnist/train-images-idx3-ubyte.gz\n",
      "Downloading http://yann.lecun.com/exdb/mnist/train-images-idx3-ubyte.gz to datasets/MNIST/raw/train-images-idx3-ubyte.gz\n"
     ]
    },
    {
     "data": {
      "application/json": {
       "ascii": false,
       "bar_format": null,
       "colour": null,
       "elapsed": 0.03218531608581543,
       "initial": 0,
       "n": 0,
       "ncols": null,
       "nrows": 27,
       "postfix": null,
       "prefix": "",
       "rate": null,
       "total": 9912422,
       "unit": "it",
       "unit_divisor": 1000,
       "unit_scale": false
      },
      "application/vnd.jupyter.widget-view+json": {
       "model_id": "de1d76ac61964bfbb69256e379c963c9",
       "version_major": 2,
       "version_minor": 0
      },
      "text/plain": [
       "  0%|          | 0/9912422 [00:00<?, ?it/s]"
      ]
     },
     "metadata": {},
     "output_type": "display_data"
    },
    {
     "name": "stdout",
     "output_type": "stream",
     "text": [
      "Extracting datasets/MNIST/raw/train-images-idx3-ubyte.gz to datasets/MNIST/raw\n",
      "\n",
      "Downloading http://yann.lecun.com/exdb/mnist/train-labels-idx1-ubyte.gz\n",
      "Downloading http://yann.lecun.com/exdb/mnist/train-labels-idx1-ubyte.gz to datasets/MNIST/raw/train-labels-idx1-ubyte.gz\n"
     ]
    },
    {
     "data": {
      "application/json": {
       "ascii": false,
       "bar_format": null,
       "colour": null,
       "elapsed": 0.030306339263916016,
       "initial": 0,
       "n": 0,
       "ncols": null,
       "nrows": 27,
       "postfix": null,
       "prefix": "",
       "rate": null,
       "total": 28881,
       "unit": "it",
       "unit_divisor": 1000,
       "unit_scale": false
      },
      "application/vnd.jupyter.widget-view+json": {
       "model_id": "68ab882c649b4489adec44a275013df1",
       "version_major": 2,
       "version_minor": 0
      },
      "text/plain": [
       "  0%|          | 0/28881 [00:00<?, ?it/s]"
      ]
     },
     "metadata": {},
     "output_type": "display_data"
    },
    {
     "name": "stdout",
     "output_type": "stream",
     "text": [
      "Extracting datasets/MNIST/raw/train-labels-idx1-ubyte.gz to datasets/MNIST/raw\n",
      "\n",
      "Downloading http://yann.lecun.com/exdb/mnist/t10k-images-idx3-ubyte.gz\n",
      "Downloading http://yann.lecun.com/exdb/mnist/t10k-images-idx3-ubyte.gz to datasets/MNIST/raw/t10k-images-idx3-ubyte.gz\n"
     ]
    },
    {
     "data": {
      "application/json": {
       "ascii": false,
       "bar_format": null,
       "colour": null,
       "elapsed": 0.030652999877929688,
       "initial": 0,
       "n": 0,
       "ncols": null,
       "nrows": 27,
       "postfix": null,
       "prefix": "",
       "rate": null,
       "total": 1648877,
       "unit": "it",
       "unit_divisor": 1000,
       "unit_scale": false
      },
      "application/vnd.jupyter.widget-view+json": {
       "model_id": "9b41c6c113a34b4eb9f71735bbfc0be0",
       "version_major": 2,
       "version_minor": 0
      },
      "text/plain": [
       "  0%|          | 0/1648877 [00:00<?, ?it/s]"
      ]
     },
     "metadata": {},
     "output_type": "display_data"
    },
    {
     "name": "stdout",
     "output_type": "stream",
     "text": [
      "Extracting datasets/MNIST/raw/t10k-images-idx3-ubyte.gz to datasets/MNIST/raw\n",
      "\n",
      "Downloading http://yann.lecun.com/exdb/mnist/t10k-labels-idx1-ubyte.gz\n",
      "Downloading http://yann.lecun.com/exdb/mnist/t10k-labels-idx1-ubyte.gz to datasets/MNIST/raw/t10k-labels-idx1-ubyte.gz\n"
     ]
    },
    {
     "data": {
      "application/json": {
       "ascii": false,
       "bar_format": null,
       "colour": null,
       "elapsed": 0.029307126998901367,
       "initial": 0,
       "n": 0,
       "ncols": null,
       "nrows": 27,
       "postfix": null,
       "prefix": "",
       "rate": null,
       "total": 4542,
       "unit": "it",
       "unit_divisor": 1000,
       "unit_scale": false
      },
      "application/vnd.jupyter.widget-view+json": {
       "model_id": "a339beefde7f493ea28a7e68fe321b2e",
       "version_major": 2,
       "version_minor": 0
      },
      "text/plain": [
       "  0%|          | 0/4542 [00:00<?, ?it/s]"
      ]
     },
     "metadata": {},
     "output_type": "display_data"
    },
    {
     "name": "stdout",
     "output_type": "stream",
     "text": [
      "Extracting datasets/MNIST/raw/t10k-labels-idx1-ubyte.gz to datasets/MNIST/raw\n",
      "\n"
     ]
    }
   ],
   "source": [
    "# Get the MNIST train dataset\n",
    "train_data = datasets.MNIST(root=rootDir,\n",
    "                           train=True,\n",
    "                           download=True,\n",
    "                           transform=transforms.ToTensor())# Tronsform the into tensors while downloading ..\n",
    "\n",
    "# Get the MNIST test dataste\n",
    "test_data = datasets.MNIST(root=rootDir,\n",
    "                         train=False,\n",
    "                         download=True,\n",
    "                         transform=transforms.ToTensor())"
   ]
  },
  {
   "cell_type": "code",
   "execution_count": 5,
   "metadata": {},
   "outputs": [
    {
     "data": {
      "text/plain": [
       "(Dataset MNIST\n",
       "     Number of datapoints: 60000\n",
       "     Root location: datasets\n",
       "     Split: Train\n",
       "     StandardTransform\n",
       " Transform: ToTensor(),\n",
       " Dataset MNIST\n",
       "     Number of datapoints: 10000\n",
       "     Root location: datasets\n",
       "     Split: Test\n",
       "     StandardTransform\n",
       " Transform: ToTensor(),\n",
       " 60000,\n",
       " 10000)"
      ]
     },
     "execution_count": 5,
     "metadata": {},
     "output_type": "execute_result"
    }
   ],
   "source": [
    "train_data, test_data, len(train_data), len(test_data)\n",
    "\n"
   ]
  },
  {
   "cell_type": "code",
   "execution_count": 12,
   "metadata": {},
   "outputs": [
    {
     "name": "stdout",
     "output_type": "stream",
     "text": [
      "Image:\n",
      " tensor([[[0.0000, 0.0000, 0.0000, 0.0000, 0.0000, 0.0000, 0.0000, 0.0000,\n",
      "          0.0000, 0.0000, 0.0000, 0.0000, 0.0000, 0.0000, 0.0000, 0.0000,\n",
      "          0.0000, 0.0000, 0.0000, 0.0000, 0.0000, 0.0000, 0.0000, 0.0000,\n",
      "          0.0000, 0.0000, 0.0000, 0.0000],\n",
      "         [0.0000, 0.0000, 0.0000, 0.0000, 0.0000, 0.0000, 0.0000, 0.0000,\n",
      "          0.0000, 0.0000, 0.0000, 0.0000, 0.0000, 0.0000, 0.0000, 0.0000,\n",
      "          0.0000, 0.0000, 0.0000, 0.0000, 0.0000, 0.0000, 0.0000, 0.0000,\n",
      "          0.0000, 0.0000, 0.0000, 0.0000],\n",
      "         [0.0000, 0.0000, 0.0000, 0.0000, 0.0000, 0.0000, 0.0000, 0.0000,\n",
      "          0.0000, 0.0000, 0.0000, 0.0000, 0.0000, 0.0000, 0.0000, 0.0000,\n",
      "          0.0000, 0.0000, 0.0000, 0.0000, 0.0000, 0.0000, 0.0000, 0.0000,\n",
      "          0.0000, 0.0000, 0.0000, 0.0000],\n",
      "         [0.0000, 0.0000, 0.0000, 0.0000, 0.0000, 0.0000, 0.0000, 0.0000,\n",
      "          0.0000, 0.0000, 0.0000, 0.0000, 0.0000, 0.0000, 0.0000, 0.0000,\n",
      "          0.0000, 0.0000, 0.0000, 0.0000, 0.0000, 0.0000, 0.0000, 0.0000,\n",
      "          0.0000, 0.0000, 0.0000, 0.0000],\n",
      "         [0.0000, 0.0000, 0.0000, 0.0000, 0.0000, 0.0000, 0.0000, 0.0000,\n",
      "          0.0000, 0.0000, 0.0000, 0.0000, 0.0000, 0.0000, 0.0000, 0.0000,\n",
      "          0.0000, 0.0000, 0.0000, 0.0000, 0.0000, 0.0000, 0.0000, 0.0000,\n",
      "          0.0000, 0.0000, 0.0000, 0.0000],\n",
      "         [0.0000, 0.0000, 0.0000, 0.0000, 0.0000, 0.0000, 0.0000, 0.0000,\n",
      "          0.0000, 0.0000, 0.0000, 0.0000, 0.0118, 0.0706, 0.0706, 0.0706,\n",
      "          0.4941, 0.5333, 0.6863, 0.1020, 0.6510, 1.0000, 0.9686, 0.4980,\n",
      "          0.0000, 0.0000, 0.0000, 0.0000],\n",
      "         [0.0000, 0.0000, 0.0000, 0.0000, 0.0000, 0.0000, 0.0000, 0.0000,\n",
      "          0.1176, 0.1412, 0.3686, 0.6039, 0.6667, 0.9922, 0.9922, 0.9922,\n",
      "          0.9922, 0.9922, 0.8824, 0.6745, 0.9922, 0.9490, 0.7647, 0.2510,\n",
      "          0.0000, 0.0000, 0.0000, 0.0000],\n",
      "         [0.0000, 0.0000, 0.0000, 0.0000, 0.0000, 0.0000, 0.0000, 0.1922,\n",
      "          0.9333, 0.9922, 0.9922, 0.9922, 0.9922, 0.9922, 0.9922, 0.9922,\n",
      "          0.9922, 0.9843, 0.3647, 0.3216, 0.3216, 0.2196, 0.1529, 0.0000,\n",
      "          0.0000, 0.0000, 0.0000, 0.0000],\n",
      "         [0.0000, 0.0000, 0.0000, 0.0000, 0.0000, 0.0000, 0.0000, 0.0706,\n",
      "          0.8588, 0.9922, 0.9922, 0.9922, 0.9922, 0.9922, 0.7765, 0.7137,\n",
      "          0.9686, 0.9451, 0.0000, 0.0000, 0.0000, 0.0000, 0.0000, 0.0000,\n",
      "          0.0000, 0.0000, 0.0000, 0.0000],\n",
      "         [0.0000, 0.0000, 0.0000, 0.0000, 0.0000, 0.0000, 0.0000, 0.0000,\n",
      "          0.3137, 0.6118, 0.4196, 0.9922, 0.9922, 0.8039, 0.0431, 0.0000,\n",
      "          0.1686, 0.6039, 0.0000, 0.0000, 0.0000, 0.0000, 0.0000, 0.0000,\n",
      "          0.0000, 0.0000, 0.0000, 0.0000],\n",
      "         [0.0000, 0.0000, 0.0000, 0.0000, 0.0000, 0.0000, 0.0000, 0.0000,\n",
      "          0.0000, 0.0549, 0.0039, 0.6039, 0.9922, 0.3529, 0.0000, 0.0000,\n",
      "          0.0000, 0.0000, 0.0000, 0.0000, 0.0000, 0.0000, 0.0000, 0.0000,\n",
      "          0.0000, 0.0000, 0.0000, 0.0000],\n",
      "         [0.0000, 0.0000, 0.0000, 0.0000, 0.0000, 0.0000, 0.0000, 0.0000,\n",
      "          0.0000, 0.0000, 0.0000, 0.5451, 0.9922, 0.7451, 0.0078, 0.0000,\n",
      "          0.0000, 0.0000, 0.0000, 0.0000, 0.0000, 0.0000, 0.0000, 0.0000,\n",
      "          0.0000, 0.0000, 0.0000, 0.0000],\n",
      "         [0.0000, 0.0000, 0.0000, 0.0000, 0.0000, 0.0000, 0.0000, 0.0000,\n",
      "          0.0000, 0.0000, 0.0000, 0.0431, 0.7451, 0.9922, 0.2745, 0.0000,\n",
      "          0.0000, 0.0000, 0.0000, 0.0000, 0.0000, 0.0000, 0.0000, 0.0000,\n",
      "          0.0000, 0.0000, 0.0000, 0.0000],\n",
      "         [0.0000, 0.0000, 0.0000, 0.0000, 0.0000, 0.0000, 0.0000, 0.0000,\n",
      "          0.0000, 0.0000, 0.0000, 0.0000, 0.1373, 0.9451, 0.8824, 0.6275,\n",
      "          0.4235, 0.0039, 0.0000, 0.0000, 0.0000, 0.0000, 0.0000, 0.0000,\n",
      "          0.0000, 0.0000, 0.0000, 0.0000],\n",
      "         [0.0000, 0.0000, 0.0000, 0.0000, 0.0000, 0.0000, 0.0000, 0.0000,\n",
      "          0.0000, 0.0000, 0.0000, 0.0000, 0.0000, 0.3176, 0.9412, 0.9922,\n",
      "          0.9922, 0.4667, 0.0980, 0.0000, 0.0000, 0.0000, 0.0000, 0.0000,\n",
      "          0.0000, 0.0000, 0.0000, 0.0000],\n",
      "         [0.0000, 0.0000, 0.0000, 0.0000, 0.0000, 0.0000, 0.0000, 0.0000,\n",
      "          0.0000, 0.0000, 0.0000, 0.0000, 0.0000, 0.0000, 0.1765, 0.7294,\n",
      "          0.9922, 0.9922, 0.5882, 0.1059, 0.0000, 0.0000, 0.0000, 0.0000,\n",
      "          0.0000, 0.0000, 0.0000, 0.0000],\n",
      "         [0.0000, 0.0000, 0.0000, 0.0000, 0.0000, 0.0000, 0.0000, 0.0000,\n",
      "          0.0000, 0.0000, 0.0000, 0.0000, 0.0000, 0.0000, 0.0000, 0.0627,\n",
      "          0.3647, 0.9882, 0.9922, 0.7333, 0.0000, 0.0000, 0.0000, 0.0000,\n",
      "          0.0000, 0.0000, 0.0000, 0.0000],\n",
      "         [0.0000, 0.0000, 0.0000, 0.0000, 0.0000, 0.0000, 0.0000, 0.0000,\n",
      "          0.0000, 0.0000, 0.0000, 0.0000, 0.0000, 0.0000, 0.0000, 0.0000,\n",
      "          0.0000, 0.9765, 0.9922, 0.9765, 0.2510, 0.0000, 0.0000, 0.0000,\n",
      "          0.0000, 0.0000, 0.0000, 0.0000],\n",
      "         [0.0000, 0.0000, 0.0000, 0.0000, 0.0000, 0.0000, 0.0000, 0.0000,\n",
      "          0.0000, 0.0000, 0.0000, 0.0000, 0.0000, 0.0000, 0.1804, 0.5098,\n",
      "          0.7176, 0.9922, 0.9922, 0.8118, 0.0078, 0.0000, 0.0000, 0.0000,\n",
      "          0.0000, 0.0000, 0.0000, 0.0000],\n",
      "         [0.0000, 0.0000, 0.0000, 0.0000, 0.0000, 0.0000, 0.0000, 0.0000,\n",
      "          0.0000, 0.0000, 0.0000, 0.0000, 0.1529, 0.5804, 0.8980, 0.9922,\n",
      "          0.9922, 0.9922, 0.9804, 0.7137, 0.0000, 0.0000, 0.0000, 0.0000,\n",
      "          0.0000, 0.0000, 0.0000, 0.0000],\n",
      "         [0.0000, 0.0000, 0.0000, 0.0000, 0.0000, 0.0000, 0.0000, 0.0000,\n",
      "          0.0000, 0.0000, 0.0941, 0.4471, 0.8667, 0.9922, 0.9922, 0.9922,\n",
      "          0.9922, 0.7882, 0.3059, 0.0000, 0.0000, 0.0000, 0.0000, 0.0000,\n",
      "          0.0000, 0.0000, 0.0000, 0.0000],\n",
      "         [0.0000, 0.0000, 0.0000, 0.0000, 0.0000, 0.0000, 0.0000, 0.0000,\n",
      "          0.0902, 0.2588, 0.8353, 0.9922, 0.9922, 0.9922, 0.9922, 0.7765,\n",
      "          0.3176, 0.0078, 0.0000, 0.0000, 0.0000, 0.0000, 0.0000, 0.0000,\n",
      "          0.0000, 0.0000, 0.0000, 0.0000],\n",
      "         [0.0000, 0.0000, 0.0000, 0.0000, 0.0000, 0.0000, 0.0706, 0.6706,\n",
      "          0.8588, 0.9922, 0.9922, 0.9922, 0.9922, 0.7647, 0.3137, 0.0353,\n",
      "          0.0000, 0.0000, 0.0000, 0.0000, 0.0000, 0.0000, 0.0000, 0.0000,\n",
      "          0.0000, 0.0000, 0.0000, 0.0000],\n",
      "         [0.0000, 0.0000, 0.0000, 0.0000, 0.2157, 0.6745, 0.8863, 0.9922,\n",
      "          0.9922, 0.9922, 0.9922, 0.9569, 0.5216, 0.0431, 0.0000, 0.0000,\n",
      "          0.0000, 0.0000, 0.0000, 0.0000, 0.0000, 0.0000, 0.0000, 0.0000,\n",
      "          0.0000, 0.0000, 0.0000, 0.0000],\n",
      "         [0.0000, 0.0000, 0.0000, 0.0000, 0.5333, 0.9922, 0.9922, 0.9922,\n",
      "          0.8314, 0.5294, 0.5176, 0.0627, 0.0000, 0.0000, 0.0000, 0.0000,\n",
      "          0.0000, 0.0000, 0.0000, 0.0000, 0.0000, 0.0000, 0.0000, 0.0000,\n",
      "          0.0000, 0.0000, 0.0000, 0.0000],\n",
      "         [0.0000, 0.0000, 0.0000, 0.0000, 0.0000, 0.0000, 0.0000, 0.0000,\n",
      "          0.0000, 0.0000, 0.0000, 0.0000, 0.0000, 0.0000, 0.0000, 0.0000,\n",
      "          0.0000, 0.0000, 0.0000, 0.0000, 0.0000, 0.0000, 0.0000, 0.0000,\n",
      "          0.0000, 0.0000, 0.0000, 0.0000],\n",
      "         [0.0000, 0.0000, 0.0000, 0.0000, 0.0000, 0.0000, 0.0000, 0.0000,\n",
      "          0.0000, 0.0000, 0.0000, 0.0000, 0.0000, 0.0000, 0.0000, 0.0000,\n",
      "          0.0000, 0.0000, 0.0000, 0.0000, 0.0000, 0.0000, 0.0000, 0.0000,\n",
      "          0.0000, 0.0000, 0.0000, 0.0000],\n",
      "         [0.0000, 0.0000, 0.0000, 0.0000, 0.0000, 0.0000, 0.0000, 0.0000,\n",
      "          0.0000, 0.0000, 0.0000, 0.0000, 0.0000, 0.0000, 0.0000, 0.0000,\n",
      "          0.0000, 0.0000, 0.0000, 0.0000, 0.0000, 0.0000, 0.0000, 0.0000,\n",
      "          0.0000, 0.0000, 0.0000, 0.0000]]]), \n",
      "Label: \n",
      " 5\n"
     ]
    }
   ],
   "source": [
    "# data in tuple form (image, label)\n",
    "img = train_data[0][0]\n",
    "label = train_data[0][1]\n",
    "print(f\"Image:\\n {img[:1]}, \\nLabel: \\n {label}\")"
   ]
  },
  {
   "cell_type": "code",
   "execution_count": 13,
   "metadata": {},
   "outputs": [
    {
     "name": "stdout",
     "output_type": "stream",
     "text": [
      "Image shape: torch.Size([1, 28, 28]) -> [color_channels, height, width] (CHW)\n",
      "Label: 5 -> no shape, due to being integer\n"
     ]
    }
   ],
   "source": [
    "# Check out the shapes of our data\n",
    "print(f\"Image shape: {img.shape} -> [color_channels, height, width] (CHW)\")\n",
    "print(f\"Label: {label} -> no shape, due to being integer\")"
   ]
  },
  {
   "cell_type": "markdown",
   "metadata": {},
   "source": [
    "Note: There are two main agreed upon ways for representing images in machine learning:\n",
    "\n",
    "Color channels first: [color_channels, height, width] (CHW) -> PyTorch default  \n",
    "Color channels last: [height, width, color_channels] (HWC) -> Matplotlib/TensorFlow default  "
   ]
  },
  {
   "cell_type": "code",
   "execution_count": 14,
   "metadata": {},
   "outputs": [
    {
     "data": {
      "text/plain": [
       "['0 - zero',\n",
       " '1 - one',\n",
       " '2 - two',\n",
       " '3 - three',\n",
       " '4 - four',\n",
       " '5 - five',\n",
       " '6 - six',\n",
       " '7 - seven',\n",
       " '8 - eight',\n",
       " '9 - nine']"
      ]
     },
     "execution_count": 14,
     "metadata": {},
     "output_type": "execute_result"
    }
   ],
   "source": [
    "# Get the class names from the dataset \n",
    "class_names = train_data.classes\n",
    "class_names"
   ]
  },
  {
   "cell_type": "markdown",
   "metadata": {
    "id": "qxZW-uAbxe_F"
   },
   "source": [
    "## 6. Visualize at least 5 different samples of the MNIST training dataset."
   ]
  },
  {
   "cell_type": "code",
   "execution_count": 18,
   "metadata": {},
   "outputs": [],
   "source": [
    "import matplotlib.pyplot as plt"
   ]
  },
  {
   "cell_type": "code",
   "execution_count": 20,
   "metadata": {
    "id": "QVFsYi1PbItE"
   },
   "outputs": [
    {
     "name": "stdout",
     "output_type": "stream",
     "text": [
      "torch.Size([1, 28, 28])\n",
      "torch.Size([28, 28])\n",
      "torch.Size([1, 28, 28])\n",
      "torch.Size([28, 28])\n",
      "torch.Size([1, 28, 28])\n",
      "torch.Size([28, 28])\n",
      "torch.Size([1, 28, 28])\n",
      "torch.Size([28, 28])\n",
      "torch.Size([1, 28, 28])\n",
      "torch.Size([28, 28])\n"
     ]
    },
    {
     "data": {
      "image/png": "[encoded data removed]",
      "text/plain": [
       "<Figure size 300x300 with 1 Axes>"
      ]
     },
     "metadata": {},
     "output_type": "display_data"
    },
    {
     "data": {
      "image/png": "[encoded data removed]",
      "text/plain": [
       "<Figure size 300x300 with 1 Axes>"
      ]
     },
     "metadata": {},
     "output_type": "display_data"
    },
    {
     "data": {
      "image/png": "[encoded data removed]",
      "text/plain": [
       "<Figure size 300x300 with 1 Axes>"
      ]
     },
     "metadata": {},
     "output_type": "display_data"
    },
    {
     "data": {
      "image/png": "[encoded data removed]",
      "text/plain": [
       "<Figure size 300x300 with 1 Axes>"
      ]
     },
     "metadata": {},
     "output_type": "display_data"
    },
    {
     "data": {
      "image/png": "[encoded data removed]",
      "text/plain": [
       "<Figure size 300x300 with 1 Axes>"
      ]
     },
     "metadata": {},
     "output_type": "display_data"
    }
   ],
   "source": [
    "for i in range(5):\n",
    "    img = train_data[i][0]\n",
    "    print(img.shape)\n",
    "    img_squeeze = img.squeeze()\n",
    "    print(img_squeeze.shape)\n",
    "    label = train_data[i][1]\n",
    "    plt.figure(figsize=(3, 3))\n",
    "    plt.imshow(img_squeeze, cmap=\"gray\")\n",
    "    plt.title(label)\n",
    "    plt.axis(False);"
   ]
  },
  {
   "cell_type": "markdown",
   "metadata": {
    "id": "JAPDzW0wxhi3"
   },
   "source": [
    "## 7. Turn the MNIST train and test datasets into dataloaders using `torch.utils.data.DataLoader`, set the `batch_size=32`."
   ]
  },
  {
   "cell_type": "code",
   "execution_count": 23,
   "metadata": {
    "id": "ALA6MPcFbJXQ"
   },
   "outputs": [],
   "source": [
    "# Create train dataloader\n",
    "from torch.utils.data import DataLoader\n",
    "batch_size = 32\n",
    "train_dataloader = DataLoader(dataset=train_data,\n",
    "                             batch_size = batch_size,\n",
    "                             shuffle=True)\n",
    "\n",
    "test_dataloader = DataLoader(dataset=test_data,\n",
    "                            batch_size=batch_size,\n",
    "                            shuffle=False)"
   ]
  },
  {
   "cell_type": "code",
   "execution_count": 24,
   "metadata": {},
   "outputs": [
    {
     "data": {
      "text/plain": [
       "(<torch.utils.data.dataloader.DataLoader at 0x7fcd692f7b50>,\n",
       " <torch.utils.data.dataloader.DataLoader at 0x7fcd692f7d60>)"
      ]
     },
     "execution_count": 24,
     "metadata": {},
     "output_type": "execute_result"
    }
   ],
   "source": [
    "train_dataloader, test_dataloader"
   ]
  },
  {
   "cell_type": "code",
   "execution_count": 25,
   "metadata": {},
   "outputs": [
    {
     "name": "stdout",
     "output_type": "stream",
     "text": [
      "torch.Size([32, 1, 28, 28])\n",
      "torch.Size([32])\n"
     ]
    }
   ],
   "source": [
    "for sample in next(iter(train_dataloader)):\n",
    "    print(sample.shape)"
   ]
  },
  {
   "cell_type": "code",
   "execution_count": 26,
   "metadata": {},
   "outputs": [
    {
     "data": {
      "text/plain": [
       "(1875, 313)"
      ]
     },
     "execution_count": 26,
     "metadata": {},
     "output_type": "execute_result"
    }
   ],
   "source": [
    "len(train_dataloader), len(test_dataloader)"
   ]
  },
  {
   "cell_type": "code",
   "execution_count": 27,
   "metadata": {},
   "outputs": [
    {
     "data": {
      "text/plain": [
       "(60000, 10016)"
      ]
     },
     "execution_count": 27,
     "metadata": {},
     "output_type": "execute_result"
    }
   ],
   "source": [
    "traind = 1875 * 32\n",
    "testd = 313 * 32\n",
    "traind, testd"
   ]
  },
  {
   "cell_type": "markdown",
   "metadata": {
    "id": "bCCVfXk5xjYS"
   },
   "source": [
    "## 8. Recreate `model_2` used in notebook 03 (the same model from the [CNN Explainer website](https://poloclub.github.io/cnn-explainer/), also known as TinyVGG) capable of fitting on the MNIST dataset."
   ]
  },
  {
   "cell_type": "code",
   "execution_count": 28,
   "metadata": {},
   "outputs": [],
   "source": [
    "import torch \n",
    "from torch import nn\n",
    "\n",
    "device = \"cuda\" if torch.cuda.is_available() else \"cpu\""
   ]
  },
  {
   "cell_type": "code",
   "execution_count": 44,
   "metadata": {
    "id": "5IKNF22XbKYS"
   },
   "outputs": [],
   "source": [
    "\n",
    "\n",
    "class MNIST_model(nn.Module):\n",
    "    def __init__(self, input_shape: int, hidden_units: int, output_shape: int):\n",
    "        super().__init__()\n",
    "        self.conv_block_1 = nn.Sequential(\n",
    "            nn.Conv2d(in_channels=input_shape,\n",
    "                     out_channels=hidden_units,\n",
    "                     kernel_size=3,\n",
    "                     stride=1,\n",
    "                     padding=1),\n",
    "            nn.ReLU(),\n",
    "            nn.Conv2d(in_channels=hidden_units,\n",
    "                     out_channels=hidden_units,\n",
    "                     kernel_size=3,\n",
    "                     stride=1,\n",
    "                     padding=1),\n",
    "            nn.ReLU(),\n",
    "            nn.MaxPool2d(kernel_size=2)\n",
    "        )\n",
    "        self.conv_block_2 = nn.Sequential(\n",
    "            nn.Conv2d(in_channels=hidden_units,\n",
    "                     out_channels=hidden_units,\n",
    "                     kernel_size=3,\n",
    "                     stride=1,\n",
    "                     padding=1),\n",
    "            nn.ReLU(),\n",
    "            nn.Conv2d(in_channels=hidden_units,\n",
    "                     out_channels=hidden_units,\n",
    "                     kernel_size=3,\n",
    "                     stride=1,\n",
    "                     padding=1),\n",
    "            nn.ReLU(),\n",
    "            nn.MaxPool2d(kernel_size=2)\n",
    "        )\n",
    "        self.classifier = nn.Sequential(\n",
    "            nn.Flatten(),\n",
    "            nn.Linear(in_features=hidden_units * 7*7,\n",
    "                     out_features=output_shape)\n",
    "        \n",
    "        )\n",
    "        \n",
    "    def forward(self, x):\n",
    "        x = self.conv_block_1(x)\n",
    "      #  print(f\"Output shape of conv block 1: {x.shape}\")\n",
    "        x = self.conv_block_2(x)\n",
    "     #   print(f\"Output shape of conv block 2: {x.shape}\")\n",
    "        x = self.classifier(x)\n",
    "       # print(f\"Output shape of classifier: {x.shape}\")\n",
    "        \n",
    "        return x\n",
    "        \n",
    "        \n",
    "        "
   ]
  },
  {
   "cell_type": "code",
   "execution_count": 45,
   "metadata": {},
   "outputs": [
    {
     "data": {
      "text/plain": [
       "MNIST_model(\n",
       "  (conv_block_1): Sequential(\n",
       "    (0): Conv2d(1, 10, kernel_size=(3, 3), stride=(1, 1), padding=(1, 1))\n",
       "    (1): ReLU()\n",
       "    (2): Conv2d(10, 10, kernel_size=(3, 3), stride=(1, 1), padding=(1, 1))\n",
       "    (3): ReLU()\n",
       "    (4): MaxPool2d(kernel_size=2, stride=2, padding=0, dilation=1, ceil_mode=False)\n",
       "  )\n",
       "  (conv_block_2): Sequential(\n",
       "    (0): Conv2d(10, 10, kernel_size=(3, 3), stride=(1, 1), padding=(1, 1))\n",
       "    (1): ReLU()\n",
       "    (2): Conv2d(10, 10, kernel_size=(3, 3), stride=(1, 1), padding=(1, 1))\n",
       "    (3): ReLU()\n",
       "    (4): MaxPool2d(kernel_size=2, stride=2, padding=0, dilation=1, ceil_mode=False)\n",
       "  )\n",
       "  (classifier): Sequential(\n",
       "    (0): Flatten(start_dim=1, end_dim=-1)\n",
       "    (1): Linear(in_features=490, out_features=10, bias=True)\n",
       "  )\n",
       ")"
      ]
     },
     "execution_count": 45,
     "metadata": {},
     "output_type": "execute_result"
    }
   ],
   "source": [
    "model = MNIST_model (input_shape= 1,\n",
    "                     hidden_units=10,\n",
    "                    output_shape=len(class_names)).to(device)\n",
    "model"
   ]
  },
  {
   "cell_type": "code",
   "execution_count": 46,
   "metadata": {},
   "outputs": [
    {
     "data": {
      "text/plain": [
       "OrderedDict([('conv_block_1.0.weight',\n",
       "              tensor([[[[ 0.1403,  0.2456,  0.2955],\n",
       "                        [-0.2253, -0.1951, -0.3247],\n",
       "                        [ 0.3180,  0.2815, -0.0593]]],\n",
       "              \n",
       "              \n",
       "                      [[[-0.0787,  0.1774, -0.2071],\n",
       "                        [ 0.2744, -0.0108, -0.1294],\n",
       "                        [-0.0451,  0.2801, -0.1380]]],\n",
       "              \n",
       "              \n",
       "                      [[[ 0.0159, -0.3309, -0.0528],\n",
       "                        [ 0.1561,  0.0937,  0.1261],\n",
       "                        [-0.1414,  0.0488,  0.0834]]],\n",
       "              \n",
       "              \n",
       "                      [[[ 0.1464,  0.2268,  0.1689],\n",
       "                        [-0.0242,  0.3158, -0.1847],\n",
       "                        [ 0.0159, -0.2682,  0.1385]]],\n",
       "              \n",
       "              \n",
       "                      [[[-0.0219,  0.1959,  0.2140],\n",
       "                        [ 0.0816,  0.2469,  0.1068],\n",
       "                        [ 0.0803, -0.1070, -0.0408]]],\n",
       "              \n",
       "              \n",
       "                      [[[ 0.1836,  0.0461,  0.1612],\n",
       "                        [-0.3162, -0.3129,  0.1156],\n",
       "                        [-0.1873, -0.0489, -0.1980]]],\n",
       "              \n",
       "              \n",
       "                      [[[ 0.0547,  0.1309,  0.0738],\n",
       "                        [-0.3273,  0.2167, -0.2423],\n",
       "                        [-0.2188, -0.3177, -0.1997]]],\n",
       "              \n",
       "              \n",
       "                      [[[ 0.0207, -0.0189,  0.0696],\n",
       "                        [ 0.1213,  0.2116,  0.2474],\n",
       "                        [-0.2528,  0.3279, -0.1941]]],\n",
       "              \n",
       "              \n",
       "                      [[[-0.0331, -0.2692, -0.1578],\n",
       "                        [ 0.1130,  0.2973, -0.0617],\n",
       "                        [ 0.2110, -0.0593,  0.3188]]],\n",
       "              \n",
       "              \n",
       "                      [[[ 0.2417, -0.1437,  0.2078],\n",
       "                        [ 0.0415, -0.0068,  0.3172],\n",
       "                        [-0.1108,  0.2491,  0.2137]]]], device='cuda:0')),\n",
       "             ('conv_block_1.0.bias',\n",
       "              tensor([-0.2932, -0.2294,  0.1538,  0.2576,  0.1252,  0.2041, -0.0823,  0.3301,\n",
       "                       0.0989, -0.0669], device='cuda:0')),\n",
       "             ('conv_block_1.2.weight',\n",
       "              tensor([[[[ 6.7152e-02,  9.5559e-02,  3.1142e-02],\n",
       "                        [ 6.3165e-02,  4.2532e-03, -3.2032e-02],\n",
       "                        [-2.6377e-02, -4.9351e-02,  2.7483e-02]],\n",
       "              \n",
       "                       [[-1.0329e-01, -5.4764e-02,  8.7171e-02],\n",
       "                        [-8.9778e-02, -4.1631e-03, -6.0865e-02],\n",
       "                        [-2.9208e-02, -3.4528e-02, -9.8006e-02]],\n",
       "              \n",
       "                       [[-3.2109e-02,  7.1167e-02, -1.0425e-01],\n",
       "                        [-1.5336e-02, -4.6180e-02,  4.5964e-02],\n",
       "                        [ 6.2036e-02, -9.0368e-02,  2.6122e-02]],\n",
       "              \n",
       "                       [[-1.6762e-02,  5.0242e-02, -1.4676e-02],\n",
       "                        [ 7.2335e-02, -6.8650e-02, -3.5372e-02],\n",
       "                        [-9.8010e-02,  8.3200e-02, -5.8727e-02]],\n",
       "              \n",
       "                       [[-6.3606e-02, -9.3649e-03,  6.3765e-02],\n",
       "                        [ 1.1009e-02,  1.6296e-02, -2.4906e-02],\n",
       "                        [ 8.1800e-02, -7.3245e-02, -6.9597e-02]],\n",
       "              \n",
       "                       [[ 5.9137e-02,  2.4993e-02,  3.6502e-02],\n",
       "                        [ 8.9190e-02,  7.3588e-02, -2.9921e-02],\n",
       "                        [-7.6193e-02, -8.1177e-02, -7.1580e-02]],\n",
       "              \n",
       "                       [[-8.2375e-02,  5.3396e-03,  2.6893e-02],\n",
       "                        [ 7.2136e-02,  9.2649e-02, -7.1259e-02],\n",
       "                        [-6.8346e-02,  1.0298e-01,  6.5696e-02]],\n",
       "              \n",
       "                       [[-4.9659e-02, -1.0709e-02, -2.6153e-02],\n",
       "                        [ 1.0321e-01, -5.4774e-02,  2.2759e-02],\n",
       "                        [-3.0619e-02, -7.4296e-02,  1.5633e-02]],\n",
       "              \n",
       "                       [[ 5.9326e-02, -9.9315e-02,  8.6957e-02],\n",
       "                        [-4.9460e-03,  9.6672e-02, -3.5079e-02],\n",
       "                        [-9.3619e-02,  2.1879e-02, -8.9094e-02]],\n",
       "              \n",
       "                       [[-4.4524e-02,  4.8879e-02,  6.5209e-03],\n",
       "                        [-8.5486e-02,  2.3034e-02,  8.2255e-02],\n",
       "                        [-2.3546e-02, -9.2484e-02,  6.9111e-02]]],\n",
       "              \n",
       "              \n",
       "                      [[[ 4.6411e-02,  2.4798e-02,  2.9999e-02],\n",
       "                        [ 8.8169e-02,  6.5903e-02, -6.5870e-02],\n",
       "                        [ 4.3223e-02, -9.7201e-02, -4.8023e-02]],\n",
       "              \n",
       "                       [[-2.2799e-03, -2.6756e-02,  4.9568e-02],\n",
       "                        [ 8.8667e-02,  5.8344e-02, -8.9795e-03],\n",
       "                        [ 5.0357e-02,  1.0088e-01,  3.8818e-02]],\n",
       "              \n",
       "                       [[ 4.5213e-02,  1.9240e-02, -6.8869e-02],\n",
       "                        [ 1.1037e-02, -4.0719e-02, -9.7723e-02],\n",
       "                        [ 6.4272e-02, -1.0851e-02, -8.4037e-02]],\n",
       "              \n",
       "                       [[-5.5385e-02,  9.8121e-02,  8.9578e-02],\n",
       "                        [ 5.6486e-02,  2.7792e-02, -6.2541e-02],\n",
       "                        [ 5.0867e-02, -8.9127e-02, -6.7235e-02]],\n",
       "              \n",
       "                       [[-6.5120e-02,  1.2940e-02,  5.1320e-02],\n",
       "                        [-5.3620e-02, -6.4995e-02, -8.8069e-02],\n",
       "                        [ 6.6707e-02, -1.1195e-02, -6.0306e-02]],\n",
       "              \n",
       "                       [[ 4.0716e-02, -3.7636e-02, -1.0071e-01],\n",
       "                        [ 3.1483e-02,  3.4540e-02,  4.3466e-02],\n",
       "                        [ 4.9002e-02,  1.1920e-03,  2.7714e-02]],\n",
       "              \n",
       "                       [[-9.1810e-02, -2.6391e-02, -9.9957e-02],\n",
       "                        [ 6.0199e-02,  8.7691e-02, -2.1441e-02],\n",
       "                        [ 4.7407e-02, -6.7720e-02, -7.0218e-02]],\n",
       "              \n",
       "                       [[-4.3165e-02, -3.8536e-03, -2.6404e-02],\n",
       "                        [-7.5342e-02,  7.6509e-02, -5.5097e-02],\n",
       "                        [-7.8584e-02, -6.1257e-02, -6.7256e-02]],\n",
       "              \n",
       "                       [[ 6.5694e-02, -7.8741e-02,  6.0086e-02],\n",
       "                        [ 6.0188e-02, -1.2538e-02,  7.7837e-02],\n",
       "                        [-3.0094e-02, -3.2265e-02, -3.4083e-02]],\n",
       "              \n",
       "                       [[-2.6900e-02,  4.0425e-02,  8.4543e-03],\n",
       "                        [-8.2134e-02, -4.6038e-02, -8.1904e-03],\n",
       "                        [ 5.1699e-02, -9.9287e-02,  5.9049e-02]]],\n",
       "              \n",
       "              \n",
       "                      [[[-1.0231e-01, -3.7731e-02, -9.6495e-02],\n",
       "                        [ 4.7888e-02, -2.8406e-02,  6.3898e-02],\n",
       "                        [ 3.3322e-02, -8.7608e-02,  9.2694e-03]],\n",
       "              \n",
       "                       [[-8.3241e-02,  8.1392e-02,  8.5949e-02],\n",
       "                        [ 4.4769e-02,  1.2559e-02, -4.7359e-02],\n",
       "                        [ 6.4577e-02, -3.2995e-02,  9.5400e-02]],\n",
       "              \n",
       "                       [[ 1.1338e-02, -6.4020e-02,  1.0080e-01],\n",
       "                        [-1.5852e-02,  4.5905e-04, -6.7371e-02],\n",
       "                        [ 8.9723e-02,  2.6244e-02, -2.5634e-03]],\n",
       "              \n",
       "                       [[-2.1635e-02,  4.6909e-02, -7.7182e-02],\n",
       "                        [ 2.4358e-02,  7.2291e-02,  6.0680e-02],\n",
       "                        [ 2.2334e-03,  6.1322e-02,  3.4407e-03]],\n",
       "              \n",
       "                       [[ 2.8006e-02, -6.3437e-02,  4.9421e-02],\n",
       "                        [ 5.4070e-02,  8.4169e-03, -5.4167e-02],\n",
       "                        [-4.4056e-02, -7.5941e-02,  6.5856e-02]],\n",
       "              \n",
       "                       [[ 7.4557e-02, -6.2940e-02,  1.0447e-01],\n",
       "                        [-2.9982e-02, -1.0868e-02, -5.2796e-02],\n",
       "                        [-6.9829e-02, -6.6388e-02, -9.4771e-02]],\n",
       "              \n",
       "                       [[-5.9074e-02,  4.4627e-02, -7.1123e-02],\n",
       "                        [ 6.2247e-02,  1.1332e-02, -4.2816e-02],\n",
       "                        [-1.4019e-02, -1.3667e-02,  3.9803e-02]],\n",
       "              \n",
       "                       [[ 2.9774e-02, -1.1817e-02, -7.9390e-02],\n",
       "                        [-4.5366e-02,  5.9790e-02,  1.1194e-02],\n",
       "                        [-4.5753e-02,  1.0494e-01, -7.4170e-02]],\n",
       "              \n",
       "                       [[-1.7049e-02,  9.5948e-02,  3.2124e-02],\n",
       "                        [ 6.2813e-02, -6.5872e-02,  6.5731e-02],\n",
       "                        [ 7.5912e-02,  5.9367e-02, -4.3550e-02]],\n",
       "              \n",
       "                       [[ 1.5708e-02, -1.7413e-02,  9.0652e-03],\n",
       "                        [ 9.5426e-02, -2.8405e-02, -4.8574e-02],\n",
       "                        [-1.0006e-01, -4.8624e-02,  5.4857e-02]]],\n",
       "              \n",
       "              \n",
       "                      [[[ 1.9781e-02,  7.8551e-02, -3.8773e-03],\n",
       "                        [ 9.9913e-02,  3.8224e-02, -6.1335e-03],\n",
       "                        [-1.6552e-02,  3.8417e-02,  8.8346e-04]],\n",
       "              \n",
       "                       [[-6.0618e-02,  7.4729e-02, -1.0821e-02],\n",
       "                        [ 2.8231e-02,  1.4559e-02,  2.2276e-02],\n",
       "                        [-6.6418e-02, -1.5450e-02, -2.3506e-02]],\n",
       "              \n",
       "                       [[ 2.6745e-02, -6.8895e-02,  1.0015e-01],\n",
       "                        [-9.1756e-02,  1.2178e-02, -8.2156e-02],\n",
       "                        [ 3.2311e-02, -9.2619e-02, -6.7838e-02]],\n",
       "              \n",
       "                       [[-1.0530e-01, -5.9611e-02,  2.6636e-02],\n",
       "                        [ 5.8605e-02, -5.0485e-02,  8.1721e-02],\n",
       "                        [ 1.7479e-02,  1.0436e-01,  4.3189e-02]],\n",
       "              \n",
       "                       [[-9.7962e-02, -2.7514e-02, -6.1081e-04],\n",
       "                        [ 6.3737e-02, -2.6247e-03, -6.6770e-02],\n",
       "                        [-9.4060e-03,  9.6980e-02,  8.0680e-02]],\n",
       "              \n",
       "                       [[ 1.6566e-02, -2.0375e-02,  7.0714e-03],\n",
       "                        [ 2.0894e-02, -6.4878e-02,  2.1346e-02],\n",
       "                        [ 2.5344e-03, -4.6424e-02, -2.6474e-02]],\n",
       "              \n",
       "                       [[-1.5810e-02,  3.7290e-02, -1.0233e-01],\n",
       "                        [-9.3417e-02, -2.4882e-02,  8.5977e-02],\n",
       "                        [-7.6592e-02,  4.7468e-02,  3.6984e-02]],\n",
       "              \n",
       "                       [[-9.0966e-02, -9.9437e-02,  5.4710e-02],\n",
       "                        [-9.5931e-02,  1.4181e-02,  4.3666e-02],\n",
       "                        [-5.5035e-02, -2.0554e-02, -1.1706e-02]],\n",
       "              \n",
       "                       [[-9.9139e-02, -4.8847e-02, -2.6192e-02],\n",
       "                        [ 8.0669e-02,  8.2944e-02, -4.6059e-02],\n",
       "                        [ 3.3717e-02, -1.3272e-02, -7.8257e-02]],\n",
       "              \n",
       "                       [[-4.6813e-02, -4.8904e-02, -7.0497e-02],\n",
       "                        [ 4.0469e-02, -9.2012e-02,  5.1045e-02],\n",
       "                        [ 6.2644e-03, -3.5243e-03, -5.7671e-02]]],\n",
       "              \n",
       "              \n",
       "                      [[[-1.2363e-02, -1.0003e-01,  8.3917e-02],\n",
       "                        [-1.5061e-02, -9.6535e-02,  8.6878e-02],\n",
       "                        [-7.9150e-02,  6.1785e-02, -9.1859e-03]],\n",
       "              \n",
       "                       [[ 4.3229e-02, -7.9581e-02,  2.1780e-02],\n",
       "                        [-1.9889e-02,  9.4708e-02, -5.8611e-02],\n",
       "                        [ 4.5691e-02, -2.8477e-02,  4.2939e-02]],\n",
       "              \n",
       "                       [[-3.0121e-02, -5.0185e-03, -5.8657e-05],\n",
       "                        [ 8.6421e-02, -4.1130e-02,  8.8533e-02],\n",
       "                        [ 7.3715e-02, -6.6013e-02,  9.6269e-02]],\n",
       "              \n",
       "                       [[-4.3505e-02, -8.0900e-02, -6.7245e-03],\n",
       "                        [ 6.5857e-02,  3.9131e-02,  4.4129e-02],\n",
       "                        [-7.8879e-02,  9.7398e-02, -1.0374e-01]],\n",
       "              \n",
       "                       [[ 1.8014e-02,  5.8784e-02, -5.2584e-02],\n",
       "                        [ 4.9140e-02,  2.1972e-02,  6.6147e-02],\n",
       "                        [-3.1872e-02,  9.0861e-03, -8.7274e-02]],\n",
       "              \n",
       "                       [[ 4.8958e-02,  8.3651e-02,  7.5926e-02],\n",
       "                        [ 3.0188e-02,  5.7028e-03, -2.0524e-02],\n",
       "                        [ 6.8491e-02,  1.0360e-01,  7.0972e-02]],\n",
       "              \n",
       "                       [[-7.6373e-02,  4.9771e-02, -5.9650e-02],\n",
       "                        [ 4.2260e-02,  3.6003e-02, -4.6425e-02],\n",
       "                        [-4.4748e-02,  1.7254e-03,  4.9161e-03]],\n",
       "              \n",
       "                       [[ 8.4476e-02, -7.6589e-02,  5.3566e-02],\n",
       "                        [ 7.5821e-02,  7.6592e-02, -6.4869e-02],\n",
       "                        [ 4.5124e-02,  1.2458e-03, -6.2850e-02]],\n",
       "              \n",
       "                       [[-2.7142e-02, -8.8642e-02, -2.8560e-02],\n",
       "                        [-8.7457e-02, -3.8615e-02, -2.5007e-02],\n",
       "                        [-1.9160e-02,  5.5934e-02, -6.9976e-02]],\n",
       "              \n",
       "                       [[-2.8900e-02,  2.2271e-02, -4.6435e-03],\n",
       "                        [ 1.8716e-02,  3.9803e-02,  1.3654e-02],\n",
       "                        [ 7.8500e-02, -4.7253e-02, -2.5605e-02]]],\n",
       "              \n",
       "              \n",
       "                      [[[ 7.6781e-02, -7.2950e-03,  1.5805e-02],\n",
       "                        [-3.1769e-02,  9.6847e-02,  1.6163e-02],\n",
       "                        [-1.5459e-02, -8.5891e-03, -1.2537e-02]],\n",
       "              \n",
       "                       [[ 2.5933e-02,  4.1673e-02,  5.5079e-02],\n",
       "                        [-9.8981e-02, -4.8217e-02,  4.7500e-02],\n",
       "                        [-9.5691e-02, -8.6700e-03, -9.1162e-02]],\n",
       "              \n",
       "                       [[ 3.9851e-03,  2.1136e-02, -1.9851e-03],\n",
       "                        [-9.6737e-02, -3.8404e-02, -6.7410e-02],\n",
       "                        [-2.0249e-02, -3.0892e-02, -3.6265e-02]],\n",
       "              \n",
       "                       [[ 9.6427e-03, -1.0136e-01,  4.7094e-02],\n",
       "                        [-5.4479e-02, -7.3957e-02,  1.6552e-02],\n",
       "                        [ 8.0731e-02,  8.8050e-03, -1.7036e-02]],\n",
       "              \n",
       "                       [[-2.5167e-02, -2.8529e-02, -6.6906e-02],\n",
       "                        [-3.9535e-02, -2.7833e-02, -5.5103e-02],\n",
       "                        [ 8.8131e-02,  3.1006e-02, -1.9752e-02]],\n",
       "              \n",
       "                       [[-4.1700e-02, -6.7642e-02, -1.5566e-02],\n",
       "                        [-2.6705e-02,  4.8364e-02, -9.8368e-02],\n",
       "                        [-3.2700e-02,  6.9021e-03, -8.7702e-02]],\n",
       "              \n",
       "                       [[ 2.4178e-02, -9.0258e-02, -5.5157e-02],\n",
       "                        [ 9.1497e-02, -5.8213e-02, -4.7394e-02],\n",
       "                        [ 8.6229e-02,  4.0610e-02, -9.1674e-02]],\n",
       "              \n",
       "                       [[-4.4162e-02,  7.4026e-02,  1.3237e-02],\n",
       "                        [ 8.7567e-04,  9.7099e-02,  7.3467e-02],\n",
       "                        [ 1.9239e-02, -8.8100e-02, -9.6524e-02]],\n",
       "              \n",
       "                       [[-7.0907e-02,  1.9374e-02, -3.6188e-02],\n",
       "                        [-1.0067e-01,  8.7585e-02, -9.0642e-02],\n",
       "                        [-8.9555e-02,  1.8668e-02, -4.6227e-02]],\n",
       "              \n",
       "                       [[-8.5064e-02,  1.5246e-02, -1.1594e-02],\n",
       "                        [ 3.2121e-02,  1.0485e-01,  6.8500e-02],\n",
       "                        [-2.5771e-02, -2.6592e-02, -1.3145e-02]]],\n",
       "              \n",
       "              \n",
       "                      [[[-1.4171e-02,  7.4368e-02,  5.4943e-02],\n",
       "                        [-7.5447e-02, -8.4168e-02,  1.4726e-02],\n",
       "                        [ 4.0548e-02, -1.0535e-01, -7.0943e-02]],\n",
       "              \n",
       "                       [[ 2.6318e-03,  9.6825e-02, -5.2361e-02],\n",
       "                        [-1.0534e-01, -9.5043e-03,  7.1859e-02],\n",
       "                        [-7.1714e-02, -6.7203e-02, -7.8234e-02]],\n",
       "              \n",
       "                       [[-1.0340e-01,  9.5318e-02, -9.7707e-02],\n",
       "                        [-8.7332e-02, -4.6090e-02, -1.0338e-01],\n",
       "                        [ 4.4951e-02, -9.7222e-02,  9.4089e-02]],\n",
       "              \n",
       "                       [[ 5.9616e-02,  8.1201e-03, -8.7282e-05],\n",
       "                        [-3.8125e-04, -9.4265e-02,  4.4428e-02],\n",
       "                        [ 8.5347e-02, -4.1172e-02, -4.3342e-02]],\n",
       "              \n",
       "                       [[-1.0199e-03, -6.7333e-02, -4.4245e-02],\n",
       "                        [ 6.3044e-02,  4.7518e-02,  4.2698e-02],\n",
       "                        [-6.7452e-02, -9.2895e-02,  9.4318e-02]],\n",
       "              \n",
       "                       [[-2.8068e-02, -6.2562e-03, -6.6838e-02],\n",
       "                        [-8.0617e-02,  4.9270e-02, -6.5788e-02],\n",
       "                        [-7.5456e-03, -9.3353e-02, -4.6336e-02]],\n",
       "              \n",
       "                       [[-1.3027e-02, -3.6967e-02,  6.3500e-04],\n",
       "                        [ 4.0456e-02, -1.5898e-02,  2.0442e-02],\n",
       "                        [-5.6966e-02, -8.0398e-02,  7.9485e-02]],\n",
       "              \n",
       "                       [[ 5.9221e-02,  3.3315e-02,  5.1113e-02],\n",
       "                        [ 1.0957e-02, -9.6391e-02, -1.0314e-01],\n",
       "                        [ 5.6474e-02, -1.9891e-02, -5.9487e-02]],\n",
       "              \n",
       "                       [[ 6.0642e-02, -4.9868e-02,  3.8960e-02],\n",
       "                        [ 4.8100e-02, -6.6848e-02, -6.3680e-02],\n",
       "                        [-4.0317e-02, -8.2133e-02, -5.0479e-02]],\n",
       "              \n",
       "                       [[ 7.9093e-02, -4.6891e-02, -1.2731e-02],\n",
       "                        [ 6.4775e-02, -1.0693e-02, -4.1586e-02],\n",
       "                        [ 7.1493e-02,  8.2840e-02,  6.6973e-02]]],\n",
       "              \n",
       "              \n",
       "                      [[[-3.2030e-02, -1.5770e-02, -4.6082e-02],\n",
       "                        [-6.5721e-03, -8.0238e-02,  6.7412e-02],\n",
       "                        [-3.6623e-02, -1.3155e-02,  2.1241e-02]],\n",
       "              \n",
       "                       [[-4.9595e-02,  5.6417e-02,  2.3402e-02],\n",
       "                        [-6.3298e-02, -3.6275e-02, -1.0804e-02],\n",
       "                        [-7.5499e-02,  3.3204e-02,  9.4805e-02]],\n",
       "              \n",
       "                       [[ 7.0527e-02, -2.7501e-02,  1.2570e-02],\n",
       "                        [ 1.0503e-01, -4.6664e-02,  8.7387e-02],\n",
       "                        [ 9.0305e-02, -1.0253e-01, -2.2884e-02]],\n",
       "              \n",
       "                       [[-7.5327e-02,  4.5474e-02,  9.2062e-02],\n",
       "                        [ 9.1208e-02, -7.0455e-02,  7.8201e-02],\n",
       "                        [ 6.6276e-02,  5.6767e-02,  9.2509e-02]],\n",
       "              \n",
       "                       [[ 7.6881e-02, -1.6417e-02, -6.2154e-02],\n",
       "                        [ 8.4804e-02,  1.0535e-01, -4.6882e-02],\n",
       "                        [-4.6395e-02,  4.8657e-02, -5.8968e-02]],\n",
       "              \n",
       "                       [[-4.0892e-02, -7.9122e-02, -1.4942e-02],\n",
       "                        [-8.6208e-02, -6.5016e-02,  6.8458e-02],\n",
       "                        [ 2.1496e-02, -6.4195e-02, -7.9333e-02]],\n",
       "              \n",
       "                       [[-9.1722e-02,  6.1460e-02,  7.7288e-02],\n",
       "                        [ 7.7525e-02,  9.3469e-02, -5.4862e-02],\n",
       "                        [ 7.8266e-02,  7.3527e-02,  3.0623e-02]],\n",
       "              \n",
       "                       [[ 6.8025e-02, -7.9548e-02,  7.8451e-02],\n",
       "                        [ 9.8744e-02, -2.4470e-02, -4.3936e-04],\n",
       "                        [ 5.5989e-03, -9.6047e-02,  1.8849e-02]],\n",
       "              \n",
       "                       [[ 9.8203e-02, -5.9202e-02, -9.6999e-02],\n",
       "                        [ 3.5470e-03,  1.1971e-02,  1.0082e-01],\n",
       "                        [-9.2010e-02,  6.5103e-02,  2.8382e-02]],\n",
       "              \n",
       "                       [[ 4.6891e-02, -7.2257e-02,  9.7713e-03],\n",
       "                        [-9.6467e-02,  3.2421e-02, -2.1212e-03],\n",
       "                        [ 9.8421e-02, -2.4171e-02, -5.5462e-04]]],\n",
       "              \n",
       "              \n",
       "                      [[[ 5.4640e-02, -7.0922e-02, -9.8773e-02],\n",
       "                        [ 2.1233e-02, -8.0574e-02,  3.7352e-02],\n",
       "                        [ 6.4795e-02,  9.0251e-02, -8.4025e-02]],\n",
       "              \n",
       "                       [[-4.8930e-02,  1.6444e-02,  9.7248e-02],\n",
       "                        [ 1.0199e-01, -9.7988e-02,  1.0487e-01],\n",
       "                        [-1.0348e-01, -1.0285e-02,  8.6134e-03]],\n",
       "              \n",
       "                       [[-1.2715e-02,  8.9949e-02,  3.7959e-02],\n",
       "                        [-1.7389e-02,  1.6755e-02, -1.0172e-01],\n",
       "                        [ 4.2371e-03, -6.0223e-02, -5.9930e-02]],\n",
       "              \n",
       "                       [[ 8.9466e-02,  3.6660e-02,  8.9706e-02],\n",
       "                        [-1.0139e-01,  4.4482e-02,  9.8151e-02],\n",
       "                        [-4.2244e-02, -3.9826e-02, -4.3798e-02]],\n",
       "              \n",
       "                       [[-7.3692e-02,  8.7534e-02, -2.7243e-02],\n",
       "                        [ 7.4847e-02, -9.2507e-02, -2.1219e-03],\n",
       "                        [-7.6330e-02,  1.0301e-02,  7.7827e-02]],\n",
       "              \n",
       "                       [[ 1.1640e-02,  5.7647e-02,  1.5937e-02],\n",
       "                        [ 1.2011e-02, -5.1914e-02, -8.9719e-02],\n",
       "                        [ 5.0597e-02, -1.0362e-01,  3.5723e-02]],\n",
       "              \n",
       "                       [[-8.6220e-02,  6.3676e-02, -6.6079e-03],\n",
       "                        [ 1.0395e-01, -5.6735e-02,  2.5652e-02],\n",
       "                        [ 2.5835e-02, -4.4386e-02, -9.0305e-02]],\n",
       "              \n",
       "                       [[ 1.0019e-01,  1.9072e-02, -9.6881e-02],\n",
       "                        [ 7.9524e-02,  4.9953e-02,  1.7862e-02],\n",
       "                        [-3.8392e-02, -3.7340e-02, -5.4402e-02]],\n",
       "              \n",
       "                       [[-5.9454e-02, -5.5278e-02, -9.6352e-02],\n",
       "                        [-8.3526e-02,  4.5665e-02,  8.7258e-02],\n",
       "                        [-4.7060e-02, -6.2993e-02, -1.3969e-02]],\n",
       "              \n",
       "                       [[ 2.6422e-02, -1.1367e-02, -3.0733e-02],\n",
       "                        [-3.6790e-02, -8.5005e-02, -9.2640e-02],\n",
       "                        [ 8.3872e-02, -6.1359e-03,  2.7992e-02]]],\n",
       "              \n",
       "              \n",
       "                      [[[-6.3683e-02, -2.0233e-02, -9.4289e-02],\n",
       "                        [ 3.7451e-02,  7.1535e-02, -2.6688e-02],\n",
       "                        [-9.9948e-02, -5.7695e-02, -9.9162e-02]],\n",
       "              \n",
       "                       [[ 7.5049e-02,  2.9854e-02, -3.1453e-02],\n",
       "                        [-1.0535e-01,  5.4940e-02,  4.6965e-02],\n",
       "                        [-1.0386e-01, -3.0289e-02, -3.8406e-02]],\n",
       "              \n",
       "                       [[-3.2066e-02, -5.1353e-02,  6.0447e-02],\n",
       "                        [ 4.5627e-02, -3.8853e-03,  4.1143e-02],\n",
       "                        [ 8.6548e-02,  7.5313e-02, -5.0723e-02]],\n",
       "              \n",
       "                       [[ 6.3500e-02, -6.9067e-02, -1.4355e-02],\n",
       "                        [-7.9957e-02,  9.6621e-02, -3.4255e-02],\n",
       "                        [ 1.4490e-02,  1.0514e-01,  7.6344e-02]],\n",
       "              \n",
       "                       [[ 9.1160e-02, -3.9775e-02,  4.5049e-02],\n",
       "                        [-1.5986e-02, -9.8922e-02,  6.3278e-03],\n",
       "                        [-8.5907e-02,  9.8840e-02, -5.9021e-02]],\n",
       "              \n",
       "                       [[ 8.7411e-02, -9.4850e-02, -2.3810e-02],\n",
       "                        [ 8.1051e-02, -5.8630e-02,  7.1660e-03],\n",
       "                        [ 3.2602e-02, -3.9765e-02, -3.5681e-03]],\n",
       "              \n",
       "                       [[-4.9299e-02,  5.5089e-02,  2.5934e-02],\n",
       "                        [ 1.3030e-02,  6.3251e-02,  3.9279e-02],\n",
       "                        [ 8.6023e-02,  5.4627e-02, -4.0437e-03]],\n",
       "              \n",
       "                       [[-2.2616e-02,  3.3988e-02, -1.3201e-02],\n",
       "                        [-3.7987e-03,  4.4754e-02,  2.9797e-02],\n",
       "                        [ 9.0519e-04, -5.0720e-02, -5.1228e-02]],\n",
       "              \n",
       "                       [[-1.9242e-02,  7.4384e-02,  5.2208e-02],\n",
       "                        [-4.2123e-02, -9.6843e-02,  4.4227e-02],\n",
       "                        [ 7.6281e-02, -1.6535e-02, -3.8417e-02]],\n",
       "              \n",
       "                       [[-4.0363e-02, -2.9130e-02,  1.2554e-02],\n",
       "                        [-1.6248e-02, -9.1672e-02,  3.0758e-02],\n",
       "                        [ 2.4512e-02, -9.1865e-02,  7.1026e-02]]]], device='cuda:0')),\n",
       "             ('conv_block_1.2.bias',\n",
       "              tensor([-0.0613,  0.0110, -0.0722,  0.0616, -0.0769, -0.0281, -0.0059, -0.0332,\n",
       "                       0.0078, -0.0723], device='cuda:0')),\n",
       "             ('conv_block_2.0.weight',\n",
       "              tensor([[[[-5.3094e-02, -8.0906e-02,  8.1658e-02],\n",
       "                        [ 8.3637e-02,  3.5952e-02, -1.3523e-02],\n",
       "                        [ 6.7817e-02, -9.9403e-02, -4.3509e-03]],\n",
       "              \n",
       "                       [[-7.8470e-02,  3.4325e-02,  2.7657e-02],\n",
       "                        [-7.8049e-02,  1.8455e-02, -1.6202e-02],\n",
       "                        [ 4.2610e-02, -5.8651e-02, -5.0546e-02]],\n",
       "              \n",
       "                       [[-1.5566e-03,  1.1934e-02,  3.4239e-02],\n",
       "                        [-8.1013e-02,  3.1402e-03,  7.0961e-02],\n",
       "                        [ 4.2876e-02, -7.9835e-02,  1.7187e-02]],\n",
       "              \n",
       "                       [[-9.7922e-04,  5.5529e-02, -8.5498e-02],\n",
       "                        [ 5.9141e-02,  2.8503e-02,  4.3191e-02],\n",
       "                        [ 6.0652e-02, -8.3012e-02,  4.0545e-02]],\n",
       "              \n",
       "                       [[ 2.3822e-02, -7.0524e-02, -1.0017e-01],\n",
       "                        [-6.3634e-02, -5.8185e-02, -1.2669e-02],\n",
       "                        [-7.4079e-02,  4.6846e-02, -1.7241e-02]],\n",
       "              \n",
       "                       [[ 4.6189e-02, -6.3986e-02,  8.4818e-02],\n",
       "                        [-8.9539e-02, -6.4001e-02,  6.6845e-02],\n",
       "                        [ 3.7776e-02, -3.8217e-02, -3.6576e-02]],\n",
       "              \n",
       "                       [[-1.0074e-01, -6.8965e-02, -6.3233e-02],\n",
       "                        [ 9.1641e-03, -1.4074e-02, -5.0413e-02],\n",
       "                        [ 2.2204e-02,  5.5099e-02,  9.4724e-02]],\n",
       "              \n",
       "                       [[ 5.2034e-02, -9.8712e-02,  2.7148e-03],\n",
       "                        [-2.5775e-02, -8.0021e-02, -6.6524e-03],\n",
       "                        [ 3.0784e-02,  3.3753e-02, -4.7668e-02]],\n",
       "              \n",
       "                       [[-7.9396e-02,  4.5954e-02, -7.3692e-02],\n",
       "                        [-7.5794e-02, -5.3899e-02,  1.6445e-02],\n",
       "                        [-1.8504e-02,  7.7162e-02, -9.3922e-02]],\n",
       "              \n",
       "                       [[-8.8623e-02, -3.0889e-02,  2.3546e-02],\n",
       "                        [-3.8593e-02, -4.1010e-02, -5.7775e-02],\n",
       "                        [ 1.8500e-02, -5.3775e-02,  4.5130e-02]]],\n",
       "              \n",
       "              \n",
       "                      [[[-3.7466e-02,  6.0122e-03,  8.9592e-03],\n",
       "                        [ 3.1031e-03, -1.8250e-02,  3.2183e-03],\n",
       "                        [ 6.8878e-02, -3.8049e-02, -8.7706e-02]],\n",
       "              \n",
       "                       [[ 7.7616e-02,  3.1737e-02, -3.5254e-02],\n",
       "                        [ 8.2010e-02,  1.0533e-01,  8.8472e-02],\n",
       "                        [-5.6023e-02,  4.0306e-02, -1.3638e-02]],\n",
       "              \n",
       "                       [[-9.8825e-02, -1.8790e-02,  5.3597e-02],\n",
       "                        [-3.3830e-02,  6.5296e-02, -6.6850e-02],\n",
       "                        [ 6.1704e-03, -5.0842e-02, -8.0574e-02]],\n",
       "              \n",
       "                       [[ 5.0197e-02,  7.3673e-02, -6.2149e-02],\n",
       "                        [-6.9154e-03, -3.7936e-02,  2.1363e-02],\n",
       "                        [-9.2239e-02, -5.9678e-02,  6.0972e-03]],\n",
       "              \n",
       "                       [[ 9.7783e-02, -4.5980e-02,  4.7364e-02],\n",
       "                        [ 1.0410e-01,  2.2101e-02,  1.1665e-02],\n",
       "                        [ 1.0468e-01,  1.2875e-02, -6.3870e-02]],\n",
       "              \n",
       "                       [[-2.4207e-03, -3.5409e-02,  1.0140e-01],\n",
       "                        [ 7.9337e-02,  6.1429e-02,  1.0326e-01],\n",
       "                        [-7.8632e-02, -4.6495e-02,  6.9502e-02]],\n",
       "              \n",
       "                       [[-6.3564e-02,  3.3270e-02, -8.2586e-02],\n",
       "                        [ 1.2898e-02,  8.9487e-02, -1.0128e-01],\n",
       "                        [-3.2709e-02,  1.8491e-02, -7.3040e-02]],\n",
       "              \n",
       "                       [[-7.6328e-02,  8.3642e-02, -3.9299e-02],\n",
       "                        [-9.8781e-03, -1.9436e-02, -2.2582e-02],\n",
       "                        [ 6.0339e-02, -9.6377e-02, -7.4570e-03]],\n",
       "              \n",
       "                       [[-6.7191e-02,  1.9766e-02,  1.4720e-02],\n",
       "                        [-6.1291e-02, -3.3359e-02,  4.9906e-02],\n",
       "                        [-5.6290e-02,  7.6039e-02,  4.2679e-02]],\n",
       "              \n",
       "                       [[-1.6777e-02,  7.4399e-02, -9.8483e-02],\n",
       "                        [ 6.4644e-02,  9.1853e-02, -7.1256e-02],\n",
       "                        [-9.4010e-02,  1.0404e-01, -5.9478e-02]]],\n",
       "              \n",
       "              \n",
       "                      [[[-4.4570e-02, -4.7312e-02,  2.6115e-03],\n",
       "                        [-2.9003e-02,  9.3576e-02, -1.7647e-02],\n",
       "                        [-9.6466e-02, -9.5949e-02,  8.3867e-02]],\n",
       "              \n",
       "                       [[-4.4561e-02, -7.9860e-02,  4.5548e-02],\n",
       "                        [-2.9069e-02,  5.0145e-02,  4.8946e-02],\n",
       "                        [-6.9902e-02,  4.6785e-02,  2.6926e-02]],\n",
       "              \n",
       "                       [[-7.6305e-02,  6.1926e-02,  2.9271e-02],\n",
       "                        [ 2.0934e-02,  4.9096e-02,  1.0313e-01],\n",
       "                        [-5.3922e-02,  3.9783e-02, -7.8279e-02]],\n",
       "              \n",
       "                       [[ 2.6941e-02, -3.1364e-02, -3.1092e-02],\n",
       "                        [ 4.9095e-02, -2.3473e-02, -1.0292e-01],\n",
       "                        [ 7.7438e-03, -5.0673e-03,  9.4831e-02]],\n",
       "              \n",
       "                       [[ 4.0180e-02,  4.1851e-02,  5.6567e-02],\n",
       "                        [-5.0868e-02, -4.9465e-02,  1.0517e-01],\n",
       "                        [-9.8366e-02, -2.0087e-02, -1.9829e-02]],\n",
       "              \n",
       "                       [[ 5.9011e-02, -1.9400e-02, -4.3144e-02],\n",
       "                        [ 6.0220e-02,  1.0259e-01,  5.4864e-02],\n",
       "                        [-8.9551e-02,  9.1561e-03,  2.4642e-02]],\n",
       "              \n",
       "                       [[ 2.9491e-02,  7.3835e-02,  1.8931e-02],\n",
       "                        [-5.6836e-02,  7.9897e-02, -5.5703e-02],\n",
       "                        [-7.8797e-02,  9.4024e-02, -1.0327e-01]],\n",
       "              \n",
       "                       [[-9.9811e-02, -6.7052e-02, -7.7879e-02],\n",
       "                        [ 3.2149e-02,  8.8909e-02,  1.1770e-02],\n",
       "                        [ 3.2583e-02, -7.8919e-03, -2.2653e-02]],\n",
       "              \n",
       "                       [[-5.2066e-03,  1.0061e-01, -2.9843e-02],\n",
       "                        [ 6.7540e-02, -5.7786e-03, -9.6708e-02],\n",
       "                        [-1.6390e-02, -2.7345e-02, -2.8645e-02]],\n",
       "              \n",
       "                       [[ 5.3122e-03, -4.9705e-02, -6.8198e-02],\n",
       "                        [ 1.4394e-02,  2.1951e-02, -5.1261e-02],\n",
       "                        [-6.7650e-02,  2.6456e-02, -1.0445e-01]]],\n",
       "              \n",
       "              \n",
       "                      [[[ 3.8553e-02, -4.0367e-02,  7.9245e-02],\n",
       "                        [-5.4344e-02, -7.4070e-02,  1.9883e-02],\n",
       "                        [-9.9262e-02,  2.0015e-02, -8.7969e-02]],\n",
       "              \n",
       "                       [[ 7.4634e-02, -4.3638e-02, -5.9275e-02],\n",
       "                        [-7.3823e-02, -3.0078e-02, -3.9296e-02],\n",
       "                        [ 8.2436e-02, -2.3040e-02, -9.6175e-02]],\n",
       "              \n",
       "                       [[ 3.4773e-02, -1.5394e-02,  7.4015e-02],\n",
       "                        [-1.5281e-02,  7.3693e-02,  7.8847e-02],\n",
       "                        [-6.2712e-04, -1.9289e-02,  6.1524e-02]],\n",
       "              \n",
       "                       [[-2.9402e-02, -3.4156e-02, -1.1491e-02],\n",
       "                        [-9.8675e-02, -2.2720e-03, -9.7425e-02],\n",
       "                        [ 2.5796e-02, -4.5417e-02, -5.9971e-03]],\n",
       "              \n",
       "                       [[ 8.3664e-02, -1.5207e-02,  6.2036e-02],\n",
       "                        [-1.7216e-02, -9.3310e-02, -7.4655e-02],\n",
       "                        [-7.4112e-03, -5.4407e-02,  1.0893e-02]],\n",
       "              \n",
       "                       [[-9.9469e-03, -1.4714e-02,  4.6491e-03],\n",
       "                        [ 1.8002e-03,  1.0101e-01,  6.4416e-04],\n",
       "                        [-4.6093e-02,  7.7055e-02,  2.4842e-02]],\n",
       "              \n",
       "                       [[-4.6979e-02, -5.1131e-02, -2.4708e-02],\n",
       "                        [-9.1686e-02,  5.4159e-02, -8.9253e-02],\n",
       "                        [ 9.1852e-02, -4.0510e-02, -9.9322e-03]],\n",
       "              \n",
       "                       [[-3.5248e-02,  1.6301e-03,  3.3367e-02],\n",
       "                        [-7.1026e-03,  4.8169e-02,  5.0214e-02],\n",
       "                        [ 5.2810e-02, -4.7953e-02,  8.0237e-02]],\n",
       "              \n",
       "                       [[ 1.7065e-02,  8.5847e-02,  5.5868e-02],\n",
       "                        [-7.0807e-03, -4.1925e-02,  2.8812e-02],\n",
       "                        [ 7.1321e-02,  6.9715e-02, -1.0511e-01]],\n",
       "              \n",
       "                       [[ 4.2728e-02, -1.1339e-02, -5.0142e-02],\n",
       "                        [-4.5943e-02, -6.9284e-02,  7.5382e-02],\n",
       "                        [-9.3155e-02, -6.5391e-02,  2.1189e-03]]],\n",
       "              \n",
       "              \n",
       "                      [[[-1.0350e-01,  1.0319e-01, -9.7358e-02],\n",
       "                        [ 1.0254e-01,  7.5269e-02, -1.6178e-02],\n",
       "                        [ 2.9840e-02, -7.8283e-02, -9.0824e-02]],\n",
       "              \n",
       "                       [[-8.9951e-02, -9.7247e-02, -1.2573e-02],\n",
       "                        [ 1.1496e-02, -1.2316e-02,  5.6837e-02],\n",
       "                        [ 8.9968e-02,  8.1953e-02,  5.4962e-02]],\n",
       "              \n",
       "                       [[-4.4094e-02, -6.2314e-02,  3.8358e-02],\n",
       "                        [ 6.8165e-02,  9.5326e-02, -8.0705e-02],\n",
       "                        [ 9.9774e-02, -2.7956e-02,  5.2901e-02]],\n",
       "              \n",
       "                       [[ 4.6555e-02, -8.4986e-03, -2.2983e-02],\n",
       "                        [-3.3605e-02, -7.9418e-02,  8.6625e-02],\n",
       "                        [-6.8924e-02, -1.0182e-01, -7.5803e-02]],\n",
       "              \n",
       "                       [[ 4.7263e-02,  9.2588e-02,  7.9783e-02],\n",
       "                        [-6.3043e-02, -7.2716e-02,  1.3971e-02],\n",
       "                        [ 1.0465e-01,  4.1722e-02, -5.0614e-02]],\n",
       "              \n",
       "                       [[-1.2892e-02, -5.1377e-03,  3.5903e-02],\n",
       "                        [ 9.7513e-02, -3.1512e-02,  6.0688e-02],\n",
       "                        [-2.3722e-02, -4.9406e-02,  5.1066e-02]],\n",
       "              \n",
       "                       [[-2.0383e-02,  4.9473e-02, -4.1808e-02],\n",
       "                        [-1.0360e-02, -7.4767e-02, -2.7178e-02],\n",
       "                        [-5.2775e-02, -5.8225e-02, -3.4676e-02]],\n",
       "              \n",
       "                       [[ 1.1736e-05,  9.0817e-02,  3.3666e-02],\n",
       "                        [ 6.1967e-02, -7.7259e-02,  6.1808e-02],\n",
       "                        [ 1.0741e-02,  8.8472e-02,  4.0594e-02]],\n",
       "              \n",
       "                       [[ 6.9219e-03, -9.6318e-02,  4.4494e-02],\n",
       "                        [-3.8853e-02,  4.3445e-03, -4.9681e-03],\n",
       "                        [ 9.7841e-02, -4.6743e-02,  6.0478e-02]],\n",
       "              \n",
       "                       [[ 7.5079e-02, -2.7713e-02, -6.3142e-02],\n",
       "                        [ 1.9063e-02,  7.4631e-02,  2.9240e-02],\n",
       "                        [-7.1910e-02,  2.1086e-02, -9.5322e-02]]],\n",
       "              \n",
       "              \n",
       "                      [[[-1.4972e-02,  5.6031e-02,  1.4973e-02],\n",
       "                        [ 8.2706e-02,  3.1644e-02,  5.1908e-02],\n",
       "                        [-3.8743e-02, -4.8040e-03, -5.1159e-02]],\n",
       "              \n",
       "                       [[-3.9088e-03, -8.3268e-02,  3.8348e-02],\n",
       "                        [-5.2326e-02,  4.3928e-02,  1.2701e-02],\n",
       "                        [ 9.1919e-02,  9.5737e-02, -4.8810e-02]],\n",
       "              \n",
       "                       [[-6.0875e-02, -6.6271e-02, -9.1120e-02],\n",
       "                        [-6.5860e-02, -1.0237e-01,  9.0828e-02],\n",
       "                        [-7.1834e-02, -7.2730e-02,  4.9155e-04]],\n",
       "              \n",
       "                       [[-5.9904e-02, -6.7493e-02,  2.8822e-02],\n",
       "                        [-1.3344e-03,  6.5019e-03, -3.3714e-02],\n",
       "                        [ 4.6450e-02,  4.4283e-02, -8.9511e-02]],\n",
       "              \n",
       "                       [[-2.8562e-03,  1.0378e-01, -1.8237e-02],\n",
       "                        [-9.4776e-02, -6.5051e-02, -4.2162e-02],\n",
       "                        [ 4.5083e-02,  2.8693e-02,  8.3374e-02]],\n",
       "              \n",
       "                       [[-8.9152e-02, -1.0352e-01,  2.9670e-04],\n",
       "                        [ 5.3330e-02, -2.7567e-03, -5.1600e-02],\n",
       "                        [ 6.3300e-02,  5.4823e-02, -1.0202e-01]],\n",
       "              \n",
       "                       [[-2.7544e-02,  3.8716e-03,  4.2328e-02],\n",
       "                        [ 1.0025e-01,  1.0515e-01, -3.3065e-02],\n",
       "                        [-4.0578e-02, -1.4023e-02, -4.9706e-02]],\n",
       "              \n",
       "                       [[ 7.6255e-03, -1.1520e-02,  1.1917e-02],\n",
       "                        [ 6.0729e-02,  7.2369e-04,  4.6333e-02],\n",
       "                        [ 9.3312e-02,  1.4545e-02,  6.6649e-02]],\n",
       "              \n",
       "                       [[-6.0905e-02, -5.4304e-03,  6.3503e-02],\n",
       "                        [-1.0088e-01,  5.3939e-02,  6.0086e-02],\n",
       "                        [ 7.3162e-02,  2.1671e-02,  6.9391e-02]],\n",
       "              \n",
       "                       [[-9.3044e-02, -7.0287e-02, -8.6917e-02],\n",
       "                        [-2.8039e-02, -9.2925e-02, -1.0228e-01],\n",
       "                        [ 3.1831e-02, -7.8690e-02,  8.1492e-02]]],\n",
       "              \n",
       "              \n",
       "                      [[[-6.7569e-02,  6.2557e-02, -8.4615e-02],\n",
       "                        [ 3.9360e-02, -8.3348e-02,  8.9358e-02],\n",
       "                        [ 3.5207e-02,  5.6356e-02,  7.2599e-02]],\n",
       "              \n",
       "                       [[-8.2600e-03, -9.3920e-02,  7.5340e-02],\n",
       "                        [-2.0090e-02, -7.5165e-02, -9.2168e-02],\n",
       "                        [ 9.4087e-02, -5.6768e-02,  2.9509e-02]],\n",
       "              \n",
       "                       [[ 6.2795e-02, -9.4300e-02, -4.9393e-02],\n",
       "                        [ 9.5712e-02,  1.4490e-02, -3.5993e-02],\n",
       "                        [-8.8127e-02, -8.4436e-03, -9.5671e-02]],\n",
       "              \n",
       "                       [[ 1.9508e-03,  8.9295e-02, -6.4445e-02],\n",
       "                        [-8.2520e-02,  5.4460e-02,  1.0132e-01],\n",
       "                        [-8.7460e-02,  1.6470e-02,  3.3202e-02]],\n",
       "              \n",
       "                       [[ 8.4870e-02,  4.4135e-02, -3.9471e-02],\n",
       "                        [ 3.8795e-02, -3.5500e-02,  4.0092e-03],\n",
       "                        [ 7.0230e-03,  3.0032e-02,  9.3791e-02]],\n",
       "              \n",
       "                       [[ 8.6195e-02,  6.6138e-02,  9.6053e-02],\n",
       "                        [-1.2557e-02,  7.5435e-02,  3.7700e-03],\n",
       "                        [-3.4885e-02, -8.6019e-02,  2.5787e-02]],\n",
       "              \n",
       "                       [[ 4.0842e-02, -3.6664e-02, -1.0009e-01],\n",
       "                        [-6.7285e-02, -5.9048e-02,  9.6997e-02],\n",
       "                        [ 5.6335e-02,  9.4082e-02,  1.2778e-02]],\n",
       "              \n",
       "                       [[-4.4686e-02, -5.7146e-02,  7.9492e-02],\n",
       "                        [ 5.2472e-02, -9.1731e-02, -4.7406e-02],\n",
       "                        [ 2.0573e-03, -8.0121e-02, -7.4653e-02]],\n",
       "              \n",
       "                       [[-5.6658e-02,  4.7284e-03,  6.6202e-02],\n",
       "                        [ 4.4737e-02,  8.6556e-02,  1.2686e-03],\n",
       "                        [ 3.8940e-02, -1.3835e-02, -4.8945e-02]],\n",
       "              \n",
       "                       [[ 8.5593e-02,  7.8969e-02,  8.8960e-02],\n",
       "                        [-1.1174e-02,  8.1406e-02, -9.3177e-02],\n",
       "                        [-6.3047e-02, -3.4529e-02, -1.3412e-02]]],\n",
       "              \n",
       "              \n",
       "                      [[[-4.9398e-02,  7.9109e-02,  9.7283e-02],\n",
       "                        [ 9.6350e-02,  8.2068e-02, -8.1852e-02],\n",
       "                        [-9.1720e-02, -6.7620e-02, -3.0041e-02]],\n",
       "              \n",
       "                       [[ 8.6827e-02, -5.7423e-03,  2.1662e-02],\n",
       "                        [-3.2810e-03, -7.1196e-03, -7.1370e-02],\n",
       "                        [ 9.2755e-02,  4.2879e-02,  9.9063e-02]],\n",
       "              \n",
       "                       [[ 9.2303e-02, -2.5255e-02, -3.4204e-02],\n",
       "                        [ 2.1543e-03, -7.5017e-02,  5.6625e-02],\n",
       "                        [-1.0519e-01,  3.6392e-02, -2.5452e-02]],\n",
       "              \n",
       "                       [[-1.6408e-02,  9.0688e-02, -8.6401e-03],\n",
       "                        [-4.4750e-02, -1.3299e-02, -8.0250e-02],\n",
       "                        [ 4.6129e-02, -6.8285e-02, -2.0641e-03]],\n",
       "              \n",
       "                       [[-4.4371e-02,  9.6559e-02, -1.0165e-01],\n",
       "                        [-2.7732e-02, -3.8718e-02,  9.9550e-02],\n",
       "                        [-1.0468e-01,  6.6417e-02,  5.7292e-02]],\n",
       "              \n",
       "                       [[ 4.2207e-02, -6.5079e-02,  5.3965e-02],\n",
       "                        [ 1.6370e-02, -6.4430e-02,  3.1448e-02],\n",
       "                        [ 2.9216e-02,  6.5483e-02,  9.5311e-02]],\n",
       "              \n",
       "                       [[-2.0925e-02,  8.4793e-02,  8.0294e-02],\n",
       "                        [-5.8318e-02,  4.1101e-02, -2.6346e-03],\n",
       "                        [-4.0306e-02, -4.6961e-02,  3.1901e-02]],\n",
       "              \n",
       "                       [[-2.4832e-02, -6.3545e-02, -4.0397e-02],\n",
       "                        [-9.9103e-02,  5.5240e-02,  2.3537e-02],\n",
       "                        [-1.0447e-01, -5.8960e-02, -3.7020e-02]],\n",
       "              \n",
       "                       [[ 3.9112e-02,  9.8993e-05, -1.2700e-02],\n",
       "                        [-7.7045e-02, -8.3426e-02, -1.6576e-02],\n",
       "                        [-3.3360e-02, -9.5087e-02,  1.0503e-01]],\n",
       "              \n",
       "                       [[-2.5971e-02,  4.7189e-02, -1.0045e-01],\n",
       "                        [ 2.6769e-02, -4.8575e-02,  2.4192e-02],\n",
       "                        [-4.3389e-02, -1.4384e-04, -3.0264e-03]]],\n",
       "              \n",
       "              \n",
       "                      [[[-7.3790e-02,  6.9402e-02,  8.5258e-02],\n",
       "                        [ 8.3012e-02,  4.6053e-02,  3.3978e-02],\n",
       "                        [ 4.5715e-02,  3.9323e-02, -5.5487e-02]],\n",
       "              \n",
       "                       [[ 6.4822e-02, -3.7178e-02,  7.0820e-02],\n",
       "                        [-9.1743e-02, -5.5445e-02,  7.4741e-02],\n",
       "                        [-2.2376e-02, -6.2096e-02,  3.2234e-02]],\n",
       "              \n",
       "                       [[-5.8260e-04,  8.0925e-02, -4.8028e-02],\n",
       "                        [ 1.0456e-01,  8.1682e-03,  2.6242e-02],\n",
       "                        [ 2.4233e-03,  4.1631e-02,  7.0824e-02]],\n",
       "              \n",
       "                       [[-6.2711e-02, -1.7870e-02,  9.0930e-02],\n",
       "                        [-6.1303e-02,  5.8313e-02,  2.7605e-02],\n",
       "                        [-1.9316e-02,  6.7772e-02, -1.7299e-02]],\n",
       "              \n",
       "                       [[-4.0664e-02,  9.8552e-02, -2.4746e-02],\n",
       "                        [-2.2570e-02,  8.7039e-02, -3.2287e-03],\n",
       "                        [ 8.9281e-02,  1.5399e-02,  3.1649e-02]],\n",
       "              \n",
       "                       [[ 6.3338e-02,  3.1002e-02,  3.4327e-02],\n",
       "                        [-8.1548e-02,  9.0119e-02, -1.9811e-03],\n",
       "                        [ 8.1431e-02,  5.7500e-02,  9.2148e-02]],\n",
       "              \n",
       "                       [[-3.2448e-02,  4.8397e-02, -6.7483e-02],\n",
       "                        [-1.2148e-02,  1.0373e-01, -5.2035e-02],\n",
       "                        [-3.8300e-03, -4.6496e-02, -4.4524e-02]],\n",
       "              \n",
       "                       [[-6.4729e-02,  4.1510e-02, -5.1430e-02],\n",
       "                        [-4.0852e-03, -8.0596e-02,  2.1220e-02],\n",
       "                        [-8.1470e-03,  3.9015e-02, -5.0469e-02]],\n",
       "              \n",
       "                       [[-7.1071e-02,  4.8443e-02, -4.3681e-02],\n",
       "                        [-2.7083e-02, -1.0472e-01, -1.0313e-01],\n",
       "                        [ 7.9527e-02, -9.9308e-02,  1.8922e-02]],\n",
       "              \n",
       "                       [[-9.8174e-02,  8.9505e-03,  1.2867e-02],\n",
       "                        [-4.4020e-02, -1.5435e-02,  9.2154e-02],\n",
       "                        [-8.9056e-02, -2.9252e-02, -3.0186e-02]]],\n",
       "              \n",
       "              \n",
       "                      [[[-1.2662e-02,  6.6219e-02, -4.5924e-02],\n",
       "                        [-7.6352e-02,  2.9576e-02, -3.7540e-02],\n",
       "                        [ 2.1702e-02, -7.2215e-03,  8.9236e-02]],\n",
       "              \n",
       "                       [[ 2.8375e-02,  6.4309e-02, -4.6843e-02],\n",
       "                        [ 4.7741e-02, -5.0805e-02, -9.5872e-03],\n",
       "                        [ 7.0223e-02, -2.0932e-02, -8.4281e-02]],\n",
       "              \n",
       "                       [[-6.3335e-02,  6.7330e-02, -9.9649e-02],\n",
       "                        [-1.5472e-02,  7.8523e-02, -7.9201e-02],\n",
       "                        [-4.1256e-04, -9.0833e-02,  6.1019e-02]],\n",
       "              \n",
       "                       [[-4.5681e-02, -1.4925e-02, -1.7572e-02],\n",
       "                        [-6.2337e-02, -5.2257e-02, -6.1410e-02],\n",
       "                        [-1.3145e-02, -5.9396e-02, -6.2496e-02]],\n",
       "              \n",
       "                       [[-1.0269e-01,  7.1799e-02, -2.9567e-02],\n",
       "                        [-4.2967e-02,  7.4135e-02,  9.1121e-02],\n",
       "                        [ 3.8843e-02, -7.9252e-02, -4.4966e-02]],\n",
       "              \n",
       "                       [[ 5.3025e-04, -9.3564e-02,  5.5321e-02],\n",
       "                        [ 1.7232e-02,  5.1234e-02, -3.3516e-02],\n",
       "                        [-6.9767e-02,  9.1555e-02, -3.2449e-02]],\n",
       "              \n",
       "                       [[-9.1071e-02, -6.7841e-02,  5.6930e-02],\n",
       "                        [ 1.7600e-02, -4.6694e-02, -1.0197e-01],\n",
       "                        [-1.9940e-03, -1.0533e-01,  1.4138e-02]],\n",
       "              \n",
       "                       [[-9.3557e-02,  7.3693e-02,  8.6818e-02],\n",
       "                        [ 5.6064e-02,  3.4888e-02, -4.4303e-02],\n",
       "                        [ 5.2943e-02, -6.0429e-02,  6.3004e-02]],\n",
       "              \n",
       "                       [[-8.7896e-02,  9.1130e-03,  1.0913e-02],\n",
       "                        [ 5.2689e-02,  1.3357e-02,  2.5154e-02],\n",
       "                        [ 3.1503e-03, -6.4434e-02, -3.6584e-02]],\n",
       "              \n",
       "                       [[-5.2107e-02, -1.1842e-02, -1.7499e-02],\n",
       "                        [-5.5365e-02, -2.6989e-04,  2.3042e-03],\n",
       "                        [ 6.2742e-02, -6.2118e-02, -2.8180e-02]]]], device='cuda:0')),\n",
       "             ('conv_block_2.0.bias',\n",
       "              tensor([ 0.0113,  0.0607,  0.0958, -0.0027,  0.0138, -0.0406,  0.0396, -0.0968,\n",
       "                       0.0813,  0.0931], device='cuda:0')),\n",
       "             ('conv_block_2.2.weight',\n",
       "              tensor([[[[ 8.2210e-02, -7.3288e-02, -2.9883e-02],\n",
       "                        [-4.9214e-02,  2.9713e-02, -5.3735e-02],\n",
       "                        [-5.4802e-02, -6.0292e-02, -6.3133e-02]],\n",
       "              \n",
       "                       [[-6.4461e-03,  3.8459e-02, -2.6398e-02],\n",
       "                        [ 3.8610e-02,  3.6553e-02,  6.1055e-02],\n",
       "                        [ 3.1263e-02,  8.0344e-02,  1.2452e-02]],\n",
       "              \n",
       "                       [[ 2.5931e-02,  4.0759e-02, -6.4424e-02],\n",
       "                        [ 1.9385e-02,  6.8404e-02,  3.5021e-02],\n",
       "                        [ 1.0477e-01, -5.1526e-02,  5.2561e-02]],\n",
       "              \n",
       "                       [[-9.2837e-02, -4.2755e-02,  8.9537e-04],\n",
       "                        [ 6.6939e-02,  9.7768e-02, -9.7720e-02],\n",
       "                        [ 3.2938e-02, -2.2181e-02,  9.3758e-02]],\n",
       "              \n",
       "                       [[ 4.7620e-02, -1.3351e-02, -3.1283e-02],\n",
       "                        [ 8.2408e-02,  7.2684e-02,  5.6318e-02],\n",
       "                        [ 9.2253e-02,  3.9633e-02,  3.2262e-02]],\n",
       "              \n",
       "                       [[ 7.4956e-02,  5.8743e-02,  4.3952e-02],\n",
       "                        [-3.3879e-02,  1.9574e-02,  1.4509e-02],\n",
       "                        [ 1.5694e-02, -4.9135e-02,  6.4679e-02]],\n",
       "              \n",
       "                       [[-4.8610e-02,  2.3381e-02,  8.0907e-02],\n",
       "                        [-3.9152e-03, -7.5546e-02,  3.0657e-04],\n",
       "                        [-8.8643e-02,  7.0985e-02,  5.7529e-02]],\n",
       "              \n",
       "                       [[ 8.1818e-02,  1.2857e-02,  8.7007e-02],\n",
       "                        [-4.2443e-03,  7.0316e-02, -9.9297e-02],\n",
       "                        [-5.3861e-02,  1.0306e-01,  5.8667e-02]],\n",
       "              \n",
       "                       [[-6.1149e-03,  1.0530e-01,  4.4601e-02],\n",
       "                        [-8.9304e-02, -2.3418e-02,  9.8160e-03],\n",
       "                        [ 3.2151e-02, -7.0051e-02,  3.1019e-02]],\n",
       "              \n",
       "                       [[ 9.6791e-02, -3.6692e-02, -8.2191e-02],\n",
       "                        [ 7.3893e-03, -1.4690e-02,  1.3398e-03],\n",
       "                        [-5.5811e-02, -2.4469e-02, -3.9047e-02]]],\n",
       "              \n",
       "              \n",
       "                      [[[ 5.9419e-03,  2.9996e-02,  7.3770e-02],\n",
       "                        [-9.2009e-02,  7.4599e-02, -3.8257e-02],\n",
       "                        [-1.2656e-02, -7.6315e-02,  6.1498e-02]],\n",
       "              \n",
       "                       [[-8.4271e-02, -4.5923e-02, -1.0184e-01],\n",
       "                        [-5.0483e-04, -2.9683e-02,  2.0332e-02],\n",
       "                        [ 4.7715e-03,  5.8863e-02,  9.2694e-03]],\n",
       "              \n",
       "                       [[-2.3853e-02, -7.3311e-02,  2.8721e-02],\n",
       "                        [-2.3391e-04,  1.0455e-02,  9.0075e-02],\n",
       "                        [ 4.7213e-02, -1.3632e-02,  1.0793e-02]],\n",
       "              \n",
       "                       [[-7.2599e-02, -8.7188e-02, -7.9163e-03],\n",
       "                        [-5.9988e-02, -7.9791e-02, -2.0336e-03],\n",
       "                        [ 7.0989e-02,  1.0035e-01,  4.8349e-03]],\n",
       "              \n",
       "                       [[-1.0537e-01, -3.4851e-02, -2.9481e-02],\n",
       "                        [-1.0140e-01,  3.5583e-02,  2.8293e-02],\n",
       "                        [ 4.7430e-03,  2.9437e-02,  6.6707e-02]],\n",
       "              \n",
       "                       [[-6.0625e-02, -9.4804e-02,  1.0183e-01],\n",
       "                        [ 7.9872e-02, -1.6118e-02, -7.1348e-02],\n",
       "                        [ 1.1687e-02, -9.7056e-02,  1.0075e-01]],\n",
       "              \n",
       "                       [[-3.3299e-02, -4.6608e-02, -3.5165e-02],\n",
       "                        [ 6.0284e-02, -1.3275e-02, -6.4689e-02],\n",
       "                        [-8.5741e-02,  8.7117e-03,  1.3646e-03]],\n",
       "              \n",
       "                       [[ 9.1127e-02, -9.9870e-03,  2.8418e-02],\n",
       "                        [ 7.3661e-02,  7.6652e-02,  8.2633e-02],\n",
       "                        [-8.1446e-02, -1.0448e-01, -3.1580e-02]],\n",
       "              \n",
       "                       [[-2.0142e-02,  4.6756e-02,  1.0279e-02],\n",
       "                        [-7.7391e-02,  9.3828e-02, -2.5046e-02],\n",
       "                        [-4.4427e-02,  1.8884e-03,  6.4433e-02]],\n",
       "              \n",
       "                       [[ 8.4930e-03,  1.8802e-02,  8.7790e-02],\n",
       "                        [-6.9602e-02,  9.8977e-03, -2.8394e-02],\n",
       "                        [-4.7409e-02,  2.7138e-02,  9.8890e-02]]],\n",
       "              \n",
       "              \n",
       "                      [[[-8.3520e-03, -9.3803e-02,  9.8202e-02],\n",
       "                        [-1.0246e-01,  5.2998e-02,  4.5656e-02],\n",
       "                        [-8.6196e-02,  1.2229e-03,  1.0112e-01]],\n",
       "              \n",
       "                       [[ 3.1284e-02,  3.1104e-02, -5.9081e-02],\n",
       "                        [ 2.9901e-02,  4.3936e-03,  6.0438e-02],\n",
       "                        [-7.6833e-02,  1.8346e-02, -6.7778e-02]],\n",
       "              \n",
       "                       [[ 3.7927e-02, -9.9880e-02,  6.3668e-02],\n",
       "                        [-2.2199e-02, -1.0023e-01, -8.8989e-02],\n",
       "                        [-6.0977e-02,  1.0287e-01, -1.0458e-01]],\n",
       "              \n",
       "                       [[ 7.0030e-02,  4.4132e-02, -1.5925e-02],\n",
       "                        [-1.0064e-01,  9.3951e-02,  6.7454e-03],\n",
       "                        [-5.6843e-02,  1.6138e-02, -2.6370e-02]],\n",
       "              \n",
       "                       [[-1.0377e-01, -6.7562e-02, -8.0614e-02],\n",
       "                        [ 5.0191e-02,  6.0974e-02, -1.2447e-03],\n",
       "                        [-1.0172e-01,  1.0121e-01, -8.5812e-02]],\n",
       "              \n",
       "                       [[-7.9409e-03, -3.5395e-02, -1.0510e-01],\n",
       "                        [ 2.6116e-02, -6.4729e-02,  2.6056e-02],\n",
       "                        [-8.9586e-02,  3.1466e-02,  8.9407e-03]],\n",
       "              \n",
       "                       [[ 7.0933e-03, -8.5881e-03, -5.6344e-02],\n",
       "                        [-1.0237e-02, -5.7205e-02,  4.9697e-02],\n",
       "                        [ 1.0281e-01,  5.0438e-02,  1.0186e-02]],\n",
       "              \n",
       "                       [[-8.7388e-02,  1.4881e-03, -3.9477e-02],\n",
       "                        [-3.5920e-04,  8.9194e-02, -7.9421e-02],\n",
       "                        [ 1.6889e-02, -8.2985e-02, -1.0338e-02]],\n",
       "              \n",
       "                       [[ 9.4342e-03, -1.5920e-02, -8.3751e-03],\n",
       "                        [ 8.3353e-02,  1.0848e-02,  5.1341e-02],\n",
       "                        [-3.8782e-02, -8.3763e-02, -8.5380e-02]],\n",
       "              \n",
       "                       [[ 2.5253e-02,  7.0070e-02,  7.4575e-02],\n",
       "                        [ 9.8960e-02,  5.4177e-03,  9.7520e-02],\n",
       "                        [ 8.9625e-02, -1.0831e-02, -8.5993e-02]]],\n",
       "              \n",
       "              \n",
       "                      [[[-6.6811e-02,  4.0059e-02, -5.3031e-02],\n",
       "                        [-1.0475e-01, -7.6064e-02, -6.0060e-02],\n",
       "                        [ 5.8103e-02, -8.7628e-02, -5.9436e-03]],\n",
       "              \n",
       "                       [[ 3.0812e-02,  8.0457e-02, -1.0466e-01],\n",
       "                        [-4.4326e-02, -6.7355e-02, -9.6776e-02],\n",
       "                        [ 3.6735e-02, -2.2044e-04,  6.0327e-02]],\n",
       "              \n",
       "                       [[ 9.4968e-02,  4.7242e-02,  2.8722e-02],\n",
       "                        [-8.5446e-02, -2.3434e-02, -2.6254e-02],\n",
       "                        [-9.1073e-02, -3.6549e-02, -6.3182e-02]],\n",
       "              \n",
       "                       [[ 4.7146e-03,  4.7122e-02,  3.4063e-02],\n",
       "                        [ 4.6623e-02, -6.7193e-02, -7.1798e-02],\n",
       "                        [-8.6808e-02, -2.5000e-02, -8.8852e-02]],\n",
       "              \n",
       "                       [[ 7.5580e-02,  9.4605e-02, -2.1679e-02],\n",
       "                        [ 8.1492e-02, -7.6122e-02, -1.3864e-02],\n",
       "                        [ 5.9142e-02,  2.9584e-02,  4.3738e-02]],\n",
       "              \n",
       "                       [[ 2.3950e-02, -1.1881e-02, -5.0617e-02],\n",
       "                        [ 6.0325e-02, -3.5925e-02, -8.6509e-03],\n",
       "                        [-5.2596e-02, -5.7009e-02,  6.9420e-02]],\n",
       "              \n",
       "                       [[ 1.6557e-02, -2.3415e-02, -9.8975e-02],\n",
       "                        [-9.0804e-02, -2.7384e-02,  2.4067e-02],\n",
       "                        [-9.0811e-02, -1.1217e-02, -2.2263e-02]],\n",
       "              \n",
       "                       [[ 1.7386e-02, -5.8646e-02, -7.9274e-02],\n",
       "                        [-3.8653e-02, -6.5656e-02, -4.0455e-02],\n",
       "                        [-6.6645e-02, -4.0077e-02,  3.4838e-02]],\n",
       "              \n",
       "                       [[-1.0071e-01,  4.7796e-02,  9.0104e-02],\n",
       "                        [ 7.4812e-02,  8.1289e-02,  1.0186e-01],\n",
       "                        [ 2.6029e-02,  7.8380e-02, -8.8458e-02]],\n",
       "              \n",
       "                       [[-2.4955e-03, -3.3147e-02,  5.0351e-02],\n",
       "                        [ 2.2768e-02,  8.2338e-02, -8.7384e-02],\n",
       "                        [ 1.0494e-01, -3.1724e-02, -1.0029e-01]]],\n",
       "              \n",
       "              \n",
       "                      [[[ 1.0522e-01, -1.4793e-02, -7.4832e-02],\n",
       "                        [ 3.1767e-02, -6.7607e-02,  1.8085e-02],\n",
       "                        [-5.6930e-02, -7.0794e-02,  1.0483e-02]],\n",
       "              \n",
       "                       [[-2.0100e-02, -1.0968e-03,  3.5984e-02],\n",
       "                        [ 7.9032e-02, -5.0179e-02, -5.6044e-02],\n",
       "                        [ 4.6263e-02,  7.1666e-02, -4.3037e-02]],\n",
       "              \n",
       "                       [[ 9.1725e-02,  5.2748e-02,  9.3273e-02],\n",
       "                        [-5.4401e-02, -5.5690e-02, -7.3733e-02],\n",
       "                        [-6.6936e-02, -1.8355e-02, -7.3382e-02]],\n",
       "              \n",
       "                       [[-9.9320e-02,  1.2393e-02, -5.0478e-02],\n",
       "                        [-6.5166e-02, -9.1159e-03,  9.8690e-03],\n",
       "                        [-4.8178e-03,  1.0149e-01, -3.0127e-02]],\n",
       "              \n",
       "                       [[-4.6459e-02, -9.6760e-02,  7.4905e-02],\n",
       "                        [-5.9736e-02, -5.4730e-02,  4.7904e-02],\n",
       "                        [ 7.9306e-02, -7.5175e-02,  1.2988e-02]],\n",
       "              \n",
       "                       [[ 3.0318e-02,  3.8202e-02,  3.2872e-02],\n",
       "                        [ 9.4817e-02,  3.2874e-03,  6.7935e-02],\n",
       "                        [-8.5616e-02, -1.5078e-02,  9.1403e-02]],\n",
       "              \n",
       "                       [[-8.0618e-02,  5.6694e-02, -1.0253e-01],\n",
       "                        [-7.1754e-02, -7.5179e-02,  9.9195e-03],\n",
       "                        [ 4.4616e-02, -1.8815e-02,  2.5374e-02]],\n",
       "              \n",
       "                       [[-8.9499e-02, -9.1775e-02, -3.1150e-02],\n",
       "                        [-6.5491e-02, -3.7269e-02, -5.6185e-02],\n",
       "                        [ 5.6862e-02,  8.7799e-02, -8.9255e-03]],\n",
       "              \n",
       "                       [[-9.5283e-02,  8.3673e-02,  5.6126e-02],\n",
       "                        [-2.8076e-03,  3.5658e-02, -1.0487e-01],\n",
       "                        [-9.2064e-02, -4.6634e-02,  1.8638e-02]],\n",
       "              \n",
       "                       [[-6.0348e-02,  4.3707e-02, -1.0254e-01],\n",
       "                        [ 3.4311e-02, -1.3329e-02, -4.5928e-02],\n",
       "                        [ 9.0340e-02,  4.5384e-02, -2.8829e-02]]],\n",
       "              \n",
       "              \n",
       "                      [[[ 8.5360e-02, -2.7868e-02, -2.8661e-02],\n",
       "                        [-3.8823e-02, -9.2490e-02,  1.2393e-02],\n",
       "                        [-4.0561e-03,  1.2801e-02, -5.8905e-02]],\n",
       "              \n",
       "                       [[ 7.6617e-02, -2.8538e-02,  3.6076e-02],\n",
       "                        [ 6.7521e-03, -9.6464e-02, -4.5468e-03],\n",
       "                        [-2.1677e-02,  1.1684e-02,  1.3926e-02]],\n",
       "              \n",
       "                       [[-8.3880e-02,  3.6386e-02, -7.9595e-02],\n",
       "                        [ 2.3299e-02,  1.0154e-01, -5.0551e-02],\n",
       "                        [ 3.5797e-02, -6.4387e-03,  4.6579e-02]],\n",
       "              \n",
       "                       [[-1.1937e-03, -2.1481e-02,  1.5669e-02],\n",
       "                        [ 3.9867e-02, -7.6787e-02,  2.6297e-02],\n",
       "                        [-4.0701e-02,  4.8601e-04, -1.1782e-02]],\n",
       "              \n",
       "                       [[ 5.3371e-02, -7.0262e-03,  4.3817e-02],\n",
       "                        [ 1.0228e-01, -6.1080e-02, -5.8017e-02],\n",
       "                        [ 3.5153e-02, -3.1283e-02,  9.1907e-02]],\n",
       "              \n",
       "                       [[ 7.7176e-02, -6.1801e-02, -3.9569e-02],\n",
       "                        [-8.7150e-02,  5.6280e-02, -7.6105e-02],\n",
       "                        [ 5.6204e-02, -7.7115e-02,  9.6749e-03]],\n",
       "              \n",
       "                       [[ 4.6241e-02,  5.2110e-02, -3.9021e-03],\n",
       "                        [-4.1118e-02, -8.6189e-02,  9.1858e-02],\n",
       "                        [-3.7504e-02, -8.8566e-02,  3.9259e-02]],\n",
       "              \n",
       "                       [[ 6.4330e-02, -3.5164e-02,  1.4962e-03],\n",
       "                        [ 5.7574e-02,  1.7630e-02,  1.0385e-01],\n",
       "                        [-7.7113e-02, -2.8915e-02, -7.8016e-02]],\n",
       "              \n",
       "                       [[ 2.4614e-02, -6.4454e-02, -9.9294e-02],\n",
       "                        [-8.7382e-02,  6.2144e-02, -8.2192e-02],\n",
       "                        [ 7.3637e-02, -7.8199e-02, -7.8604e-02]],\n",
       "              \n",
       "                       [[-4.8807e-02, -2.9467e-02, -2.8613e-02],\n",
       "                        [-8.5033e-02, -1.1417e-02, -1.7457e-03],\n",
       "                        [ 5.8066e-02,  3.5536e-02, -9.8044e-02]]],\n",
       "              \n",
       "              \n",
       "                      [[[-1.0379e-01, -9.3832e-02,  1.0055e-01],\n",
       "                        [-5.5243e-02, -3.4619e-02,  5.3643e-02],\n",
       "                        [ 2.3664e-02, -9.9136e-02, -4.2403e-02]],\n",
       "              \n",
       "                       [[-7.5610e-02, -5.9746e-02, -2.5297e-02],\n",
       "                        [ 6.7905e-02,  3.4282e-02,  9.3133e-02],\n",
       "                        [ 6.4220e-02,  9.9921e-02,  2.3849e-02]],\n",
       "              \n",
       "                       [[-9.0623e-02, -7.0954e-02,  1.7843e-02],\n",
       "                        [-3.1138e-02, -5.8603e-02,  4.1517e-02],\n",
       "                        [ 6.5834e-02,  6.8325e-02,  1.5016e-02]],\n",
       "              \n",
       "                       [[-4.0751e-02,  2.7114e-02, -6.7773e-02],\n",
       "                        [ 2.7416e-02,  5.1206e-02, -5.0974e-02],\n",
       "                        [ 7.6364e-02, -5.0243e-02, -3.5170e-02]],\n",
       "              \n",
       "                       [[-1.7779e-02,  8.9254e-02,  1.7676e-03],\n",
       "                        [ 5.8915e-02, -9.5510e-02,  3.7858e-02],\n",
       "                        [-2.9978e-02, -3.8957e-02, -6.8774e-02]],\n",
       "              \n",
       "                       [[ 1.2797e-02, -7.0521e-02,  1.0385e-01],\n",
       "                        [-2.2634e-03,  9.7493e-02,  7.8593e-02],\n",
       "                        [-9.0892e-02, -3.7840e-02, -2.1003e-02]],\n",
       "              \n",
       "                       [[-9.9612e-02,  5.5600e-02, -6.8559e-02],\n",
       "                        [ 4.5434e-02, -1.2747e-02, -3.2952e-03],\n",
       "                        [-9.1667e-02, -3.6403e-02,  6.2882e-02]],\n",
       "              \n",
       "                       [[ 4.3281e-02,  3.8225e-02,  2.3956e-03],\n",
       "                        [ 3.4210e-02, -3.7642e-02, -1.0451e-01],\n",
       "                        [ 1.0478e-01,  4.9577e-02, -8.6247e-02]],\n",
       "              \n",
       "                       [[ 1.3299e-02, -8.3922e-03, -1.0192e-02],\n",
       "                        [ 6.9110e-02, -1.3099e-02, -4.4535e-02],\n",
       "                        [ 9.4035e-02,  8.0412e-02, -9.2041e-02]],\n",
       "              \n",
       "                       [[ 7.8113e-02, -9.7472e-02,  1.0002e-02],\n",
       "                        [ 3.3571e-02,  7.4786e-02, -5.3420e-02],\n",
       "                        [ 1.4748e-02, -3.6972e-02,  4.0891e-02]]],\n",
       "              \n",
       "              \n",
       "                      [[[-5.1805e-02, -2.1169e-03,  8.8400e-02],\n",
       "                        [-3.4066e-02,  5.5619e-02,  1.6774e-02],\n",
       "                        [ 1.7473e-02, -7.7162e-02,  1.0299e-01]],\n",
       "              \n",
       "                       [[ 3.7137e-02, -1.0442e-01,  7.2544e-02],\n",
       "                        [ 5.7324e-03,  1.0820e-03,  4.2886e-02],\n",
       "                        [ 3.3656e-02, -9.2666e-02,  6.2628e-02]],\n",
       "              \n",
       "                       [[ 8.0994e-02, -3.6492e-02, -1.7731e-02],\n",
       "                        [ 3.2545e-03, -4.1326e-02,  5.8420e-02],\n",
       "                        [-6.1842e-02, -9.5000e-02, -5.2673e-02]],\n",
       "              \n",
       "                       [[ 4.8733e-02, -9.2022e-02, -3.6154e-02],\n",
       "                        [-1.5305e-02, -8.7218e-04, -2.0244e-02],\n",
       "                        [-8.1251e-02,  8.9038e-02,  1.6834e-02]],\n",
       "              \n",
       "                       [[ 4.9888e-02,  3.6195e-02, -3.6211e-02],\n",
       "                        [ 1.9902e-02, -7.6518e-02,  4.2000e-02],\n",
       "                        [-1.0291e-01, -3.0777e-02, -2.6265e-02]],\n",
       "              \n",
       "                       [[-1.0029e-01,  2.0320e-02,  7.8121e-02],\n",
       "                        [-9.9062e-02, -1.5993e-02,  3.9835e-02],\n",
       "                        [-6.6654e-02, -1.6195e-03, -5.6745e-02]],\n",
       "              \n",
       "                       [[-7.6046e-02,  9.1587e-02, -4.7698e-02],\n",
       "                        [ 6.6158e-02,  4.9206e-02,  6.4249e-02],\n",
       "                        [ 2.1523e-02, -7.7365e-02, -8.2728e-02]],\n",
       "              \n",
       "                       [[ 1.3370e-02,  3.5496e-02,  7.3279e-02],\n",
       "                        [-1.8045e-02, -4.3707e-02, -1.0373e-02],\n",
       "                        [ 1.3241e-02, -3.9770e-02,  1.0466e-01]],\n",
       "              \n",
       "                       [[-7.3213e-02,  9.2324e-02, -1.5852e-02],\n",
       "                        [ 5.8181e-02,  1.7651e-02, -6.0984e-02],\n",
       "                        [-2.0457e-02,  1.0055e-01,  7.4304e-02]],\n",
       "              \n",
       "                       [[ 9.4830e-02, -4.3322e-02,  3.0269e-02],\n",
       "                        [ 9.5342e-02, -4.3417e-03,  4.7954e-02],\n",
       "                        [-2.9545e-02,  3.8367e-02,  8.7942e-02]]],\n",
       "              \n",
       "              \n",
       "                      [[[-7.7714e-02, -7.6999e-02,  9.5396e-02],\n",
       "                        [ 1.0236e-01, -7.2664e-02, -3.5373e-02],\n",
       "                        [ 9.5560e-02, -1.0423e-01, -1.5857e-02]],\n",
       "              \n",
       "                       [[ 4.3613e-04, -3.8240e-02, -8.3809e-02],\n",
       "                        [ 7.0169e-02,  1.7032e-02, -7.9897e-02],\n",
       "                        [-5.2563e-05,  4.6130e-03,  8.6984e-02]],\n",
       "              \n",
       "                       [[-1.4004e-02,  4.4795e-03, -8.1193e-02],\n",
       "                        [ 2.6599e-02,  4.3836e-02,  1.5201e-02],\n",
       "                        [ 7.8217e-02,  3.0721e-02, -5.9396e-02]],\n",
       "              \n",
       "                       [[ 2.1531e-02,  6.1968e-02, -3.6784e-02],\n",
       "                        [ 7.2492e-02,  5.6739e-02,  5.1147e-02],\n",
       "                        [ 9.4463e-02,  6.0794e-02,  1.0893e-02]],\n",
       "              \n",
       "                       [[-8.5185e-02,  5.0389e-02, -2.6182e-03],\n",
       "                        [-5.3758e-02,  4.7606e-02, -1.0055e-01],\n",
       "                        [ 3.4016e-02,  1.0296e-01, -3.3820e-02]],\n",
       "              \n",
       "                       [[-9.2058e-02,  8.5602e-02, -1.7380e-02],\n",
       "                        [ 3.5792e-02, -5.7363e-02,  8.8707e-02],\n",
       "                        [ 8.3290e-03, -4.8631e-02, -1.0350e-01]],\n",
       "              \n",
       "                       [[-3.7922e-02,  5.0956e-02, -6.5636e-02],\n",
       "                        [-7.6165e-02, -4.5242e-03, -7.1049e-02],\n",
       "                        [ 4.2177e-02, -1.7002e-02, -4.1124e-02]],\n",
       "              \n",
       "                       [[ 8.6042e-02,  7.0516e-02, -1.6680e-03],\n",
       "                        [-1.0255e-02, -5.2352e-02,  5.9728e-02],\n",
       "                        [-2.0767e-02,  8.9457e-02,  3.1552e-02]],\n",
       "              \n",
       "                       [[-9.4407e-02, -9.0326e-02, -8.8979e-02],\n",
       "                        [ 3.7951e-02, -4.4864e-02,  1.9932e-02],\n",
       "                        [ 1.1656e-02, -3.2396e-02, -7.7289e-02]],\n",
       "              \n",
       "                       [[ 7.8094e-03, -2.2261e-02, -9.8619e-02],\n",
       "                        [ 3.3473e-02,  9.2421e-02, -7.2978e-02],\n",
       "                        [ 7.9355e-02, -2.6570e-02, -9.3622e-03]]],\n",
       "              \n",
       "              \n",
       "                      [[[ 2.4435e-02, -2.9585e-02,  5.1404e-02],\n",
       "                        [-2.1182e-02,  2.7561e-02, -2.2826e-02],\n",
       "                        [-8.2027e-02,  6.8146e-02, -3.7088e-02]],\n",
       "              \n",
       "                       [[-6.9044e-02, -1.0187e-01,  5.4154e-02],\n",
       "                        [ 4.7303e-04,  2.6889e-02,  6.6341e-02],\n",
       "                        [ 5.2804e-02, -4.4474e-02,  5.5034e-02]],\n",
       "              \n",
       "                       [[ 3.0398e-02, -8.8101e-02, -8.7938e-02],\n",
       "                        [ 6.2780e-02,  7.9533e-02, -7.8189e-02],\n",
       "                        [ 6.7131e-02, -2.7961e-02,  3.3813e-03]],\n",
       "              \n",
       "                       [[-7.1490e-02, -8.8147e-02, -5.4741e-03],\n",
       "                        [-7.6868e-02, -3.8057e-02, -4.5906e-02],\n",
       "                        [-7.0001e-02, -9.6905e-02, -8.9489e-02]],\n",
       "              \n",
       "                       [[-8.4085e-02,  9.5942e-03, -2.4578e-02],\n",
       "                        [ 5.9422e-02,  5.7364e-02,  8.4196e-02],\n",
       "                        [-4.9198e-02,  9.7425e-02, -8.2663e-02]],\n",
       "              \n",
       "                       [[ 9.4876e-02, -3.6147e-02, -4.9776e-02],\n",
       "                        [-7.7651e-02, -5.1046e-02,  9.1942e-02],\n",
       "                        [ 2.5306e-02,  9.1109e-02, -5.0974e-02]],\n",
       "              \n",
       "                       [[ 2.3495e-02, -5.3557e-03, -7.6215e-02],\n",
       "                        [-5.6432e-02,  5.9023e-02,  3.2088e-02],\n",
       "                        [-8.4896e-02, -3.2836e-02,  4.8738e-02]],\n",
       "              \n",
       "                       [[ 5.3878e-03,  5.5810e-02, -2.1412e-02],\n",
       "                        [-2.2767e-02, -1.4598e-03, -2.2661e-02],\n",
       "                        [-1.3933e-02,  1.2563e-02,  3.7431e-02]],\n",
       "              \n",
       "                       [[ 4.4086e-02, -7.7009e-02,  1.3300e-02],\n",
       "                        [-3.4556e-02,  3.8360e-02,  1.0745e-02],\n",
       "                        [ 7.5249e-02,  8.3066e-02,  1.0321e-01]],\n",
       "              \n",
       "                       [[ 9.8586e-02,  8.2850e-02, -3.1772e-02],\n",
       "                        [-6.4877e-02, -4.0575e-02,  9.3019e-02],\n",
       "                        [-1.0009e-01,  8.1671e-02,  2.2737e-02]]]], device='cuda:0')),\n",
       "             ('conv_block_2.2.bias',\n",
       "              tensor([ 0.0496,  0.0587, -0.0729,  0.0817, -0.0312, -0.0202, -0.1035, -0.0314,\n",
       "                      -0.0775, -0.0704], device='cuda:0')),\n",
       "             ('classifier.1.weight',\n",
       "              tensor([[-0.0171,  0.0236, -0.0054,  ..., -0.0071, -0.0270, -0.0202],\n",
       "                      [ 0.0083,  0.0353,  0.0420,  ...,  0.0379,  0.0053, -0.0163],\n",
       "                      [ 0.0161,  0.0270, -0.0067,  ...,  0.0390,  0.0006, -0.0418],\n",
       "                      ...,\n",
       "                      [-0.0242,  0.0224, -0.0334,  ...,  0.0350, -0.0016, -0.0210],\n",
       "                      [ 0.0027,  0.0251, -0.0102,  ..., -0.0385, -0.0318,  0.0152],\n",
       "                      [ 0.0338,  0.0203, -0.0234,  ..., -0.0092,  0.0266,  0.0055]],\n",
       "                     device='cuda:0')),\n",
       "             ('classifier.1.bias',\n",
       "              tensor([-0.0330,  0.0257, -0.0379,  0.0230,  0.0119, -0.0351,  0.0246, -0.0306,\n",
       "                      -0.0272,  0.0329], device='cuda:0'))])"
      ]
     },
     "execution_count": 46,
     "metadata": {},
     "output_type": "execute_result"
    }
   ],
   "source": [
    "# check ou the model state dict to find out what patterns the model wants to learn \n",
    "model.state_dict()"
   ]
  },
  {
   "cell_type": "code",
   "execution_count": 47,
   "metadata": {},
   "outputs": [
    {
     "data": {
      "text/plain": [
       "(tensor([[[5.1344e-01, 3.9822e-01, 3.7464e-02, 7.3198e-02, 2.8110e-01,\n",
       "           9.3792e-02, 7.4132e-01, 3.8829e-01, 4.7120e-01, 9.0316e-01,\n",
       "           7.3540e-01, 1.9010e-01, 8.5206e-01, 4.9924e-01, 5.5856e-01,\n",
       "           2.1542e-01, 6.1075e-01, 4.2329e-02, 2.7761e-01, 7.4485e-01,\n",
       "           4.7344e-01, 6.3977e-01, 5.9880e-01, 3.2807e-01, 7.9254e-01,\n",
       "           4.3693e-01, 3.6222e-01, 6.1275e-01],\n",
       "          [7.7668e-01, 2.6493e-01, 3.4432e-01, 7.2344e-01, 5.8423e-01,\n",
       "           3.9529e-02, 4.9971e-01, 1.5516e-01, 7.3281e-01, 9.7496e-01,\n",
       "           2.3423e-01, 7.9602e-01, 5.0895e-01, 1.3347e-03, 6.2870e-02,\n",
       "           3.7284e-02, 6.8269e-01, 9.4505e-01, 1.4011e-01, 3.7516e-02,\n",
       "           1.9818e-01, 2.6666e-01, 3.8614e-01, 1.5908e-01, 7.6158e-01,\n",
       "           3.2271e-01, 5.2149e-01, 7.8665e-01],\n",
       "          [4.0700e-01, 9.2450e-01, 4.7671e-01, 4.9165e-02, 5.7550e-01,\n",
       "           5.9195e-01, 9.3966e-01, 2.0645e-01, 8.2440e-03, 9.6268e-01,\n",
       "           9.6315e-01, 1.8155e-02, 5.9112e-01, 9.8895e-01, 2.1030e-01,\n",
       "           5.0235e-01, 9.3858e-01, 2.4014e-02, 1.2882e-01, 9.3685e-01,\n",
       "           4.3234e-01, 2.7992e-01, 8.9733e-01, 5.4835e-01, 3.6507e-02,\n",
       "           4.4500e-01, 4.0388e-01, 6.3283e-01],\n",
       "          [8.2291e-01, 5.3278e-01, 1.9225e-01, 9.5236e-01, 1.9135e-01,\n",
       "           7.8059e-01, 3.5299e-01, 9.2353e-01, 8.1020e-01, 6.2690e-01,\n",
       "           3.5885e-01, 5.9258e-01, 6.4919e-01, 2.7204e-01, 2.2538e-01,\n",
       "           3.1501e-01, 4.6736e-01, 2.8223e-01, 7.5248e-02, 2.8272e-01,\n",
       "           1.9220e-01, 8.4487e-01, 4.6687e-02, 2.6128e-01, 8.3439e-01,\n",
       "           4.7912e-01, 2.6592e-01, 7.0273e-01],\n",
       "          [4.9616e-01, 6.3527e-01, 6.9753e-01, 6.8343e-01, 7.9235e-01,\n",
       "           9.2790e-01, 7.7929e-01, 1.6201e-01, 2.2895e-01, 1.4191e-01,\n",
       "           5.0469e-01, 5.4123e-01, 7.1361e-01, 4.2073e-01, 4.7692e-01,\n",
       "           3.6684e-01, 7.8624e-01, 1.2931e-01, 9.8223e-01, 9.8883e-01,\n",
       "           1.8562e-01, 1.6552e-01, 2.7104e-01, 3.5935e-02, 2.2013e-01,\n",
       "           5.1374e-01, 1.9394e-01, 5.9698e-01],\n",
       "          [8.2584e-02, 8.6222e-01, 3.3442e-01, 5.5816e-01, 7.1922e-01,\n",
       "           9.1175e-01, 3.9800e-01, 4.0018e-01, 2.2755e-01, 1.2610e-02,\n",
       "           4.8430e-01, 6.5719e-03, 3.7437e-01, 6.0284e-04, 8.4775e-01,\n",
       "           2.7420e-01, 6.7853e-01, 7.1216e-01, 5.3048e-01, 4.0339e-01,\n",
       "           8.2572e-01, 5.2161e-01, 2.5226e-01, 9.2930e-01, 4.4487e-01,\n",
       "           4.4258e-01, 2.1889e-01, 6.2821e-01],\n",
       "          [4.5174e-01, 4.0770e-01, 7.3883e-02, 7.9668e-02, 7.2085e-01,\n",
       "           6.8181e-01, 1.9549e-01, 1.3853e-01, 1.5541e-01, 1.7110e-01,\n",
       "           6.1200e-01, 9.3815e-01, 1.2839e-01, 9.3259e-01, 7.2473e-01,\n",
       "           9.1578e-01, 7.1970e-01, 8.4706e-01, 3.1488e-01, 5.4823e-01,\n",
       "           4.6892e-01, 7.2446e-01, 9.2613e-02, 2.1468e-01, 1.9591e-02,\n",
       "           2.9033e-01, 7.5134e-01, 1.1828e-01],\n",
       "          [8.6065e-01, 9.5479e-01, 7.5167e-01, 5.6660e-01, 7.9847e-01,\n",
       "           6.3419e-01, 3.2004e-02, 9.9322e-01, 6.0686e-01, 7.5300e-02,\n",
       "           6.5174e-01, 2.6615e-01, 2.1310e-01, 9.1084e-01, 5.8482e-01,\n",
       "           8.5788e-01, 2.8533e-01, 7.4311e-01, 1.9773e-01, 2.7214e-02,\n",
       "           5.3255e-01, 2.0027e-01, 2.8148e-01, 2.2660e-01, 1.9694e-01,\n",
       "           7.7340e-01, 2.6374e-01, 1.0946e-01],\n",
       "          [8.3670e-01, 1.9405e-01, 5.2933e-01, 3.9068e-01, 3.6017e-01,\n",
       "           2.8304e-01, 1.4223e-01, 2.1513e-01, 9.5201e-01, 1.1504e-02,\n",
       "           7.5224e-01, 1.4512e-01, 9.3068e-01, 3.5440e-01, 7.8345e-01,\n",
       "           7.5445e-01, 4.7441e-01, 3.6294e-01, 3.3991e-01, 2.9886e-01,\n",
       "           8.1151e-01, 1.7859e-01, 4.5155e-01, 6.7888e-01, 1.6715e-01,\n",
       "           1.4533e-02, 3.2866e-01, 8.8248e-01],\n",
       "          [5.4321e-01, 7.4772e-01, 7.1795e-02, 4.6793e-01, 9.3483e-01,\n",
       "           8.4447e-01, 7.2569e-01, 6.3688e-01, 3.1040e-01, 4.6678e-01,\n",
       "           6.5819e-01, 6.1618e-01, 8.4590e-01, 9.4057e-02, 7.8461e-01,\n",
       "           1.3293e-01, 6.9656e-01, 1.6951e-01, 2.0249e-01, 1.0495e-02,\n",
       "           8.7393e-01, 8.0509e-01, 6.9228e-01, 9.7848e-01, 8.7774e-01,\n",
       "           6.4726e-01, 1.7547e-01, 4.9689e-01],\n",
       "          [7.9049e-01, 9.3594e-01, 1.0054e-01, 9.0318e-02, 2.6034e-01,\n",
       "           4.6514e-01, 3.7094e-01, 9.1088e-01, 8.6852e-01, 9.0075e-01,\n",
       "           7.5851e-02, 8.6411e-01, 9.3388e-01, 5.3312e-02, 1.8544e-01,\n",
       "           3.4173e-01, 2.4164e-02, 7.2383e-01, 2.3243e-01, 4.6059e-01,\n",
       "           5.3417e-01, 1.0114e-01, 6.4624e-02, 8.1151e-01, 9.2923e-01,\n",
       "           1.5430e-01, 8.6920e-01, 7.7674e-01],\n",
       "          [4.7076e-01, 3.0612e-01, 2.5169e-01, 2.1141e-01, 1.1364e-01,\n",
       "           8.6532e-01, 9.5915e-02, 2.1906e-01, 9.4836e-01, 8.8804e-01,\n",
       "           1.6090e-01, 2.8805e-01, 5.6354e-01, 5.1621e-01, 9.7609e-01,\n",
       "           2.9070e-01, 5.2108e-01, 3.3777e-01, 4.9306e-01, 7.4380e-01,\n",
       "           3.9970e-01, 4.4157e-01, 9.7239e-01, 4.4385e-01, 3.6617e-01,\n",
       "           8.8523e-01, 9.5715e-01, 4.2602e-01],\n",
       "          [5.9703e-01, 7.5337e-01, 1.3091e-01, 6.8478e-01, 3.5146e-01,\n",
       "           7.8018e-01, 6.6087e-01, 7.9509e-01, 2.3355e-01, 2.0770e-01,\n",
       "           7.1808e-01, 2.8996e-01, 5.0378e-02, 1.7789e-01, 8.6571e-01,\n",
       "           8.6827e-01, 1.1632e-01, 5.3679e-01, 4.0786e-01, 7.3853e-01,\n",
       "           4.0106e-01, 8.9740e-01, 3.6689e-01, 8.3945e-01, 7.5155e-01,\n",
       "           3.4030e-01, 4.1494e-01, 1.6464e-01],\n",
       "          [5.2087e-01, 1.0129e-01, 7.7982e-01, 4.3006e-01, 8.3246e-01,\n",
       "           9.4171e-01, 2.6915e-01, 7.6372e-01, 7.2898e-01, 8.2386e-01,\n",
       "           6.5895e-01, 1.3290e-01, 3.2154e-01, 6.2430e-01, 1.3709e-01,\n",
       "           3.3257e-01, 1.9062e-01, 7.9154e-01, 9.1771e-01, 7.0048e-01,\n",
       "           5.0209e-01, 3.2032e-01, 1.7340e-01, 9.2862e-01, 9.9833e-01,\n",
       "           4.4993e-01, 8.0714e-02, 2.2448e-01],\n",
       "          [8.9046e-01, 1.2602e-01, 3.9847e-01, 4.2810e-01, 6.0939e-01,\n",
       "           2.1533e-01, 5.0819e-01, 8.2675e-03, 8.9749e-01, 8.2158e-02,\n",
       "           1.6716e-01, 1.4862e-01, 9.6339e-01, 3.0497e-03, 2.4838e-01,\n",
       "           1.5199e-01, 5.2576e-02, 7.3781e-01, 9.7585e-01, 5.0414e-01,\n",
       "           8.9373e-01, 6.0474e-01, 6.8961e-02, 2.2591e-01, 1.3748e-01,\n",
       "           6.1206e-01, 6.0693e-01, 3.3429e-01],\n",
       "          [3.4933e-01, 2.5675e-01, 6.3690e-01, 6.9133e-02, 5.0962e-01,\n",
       "           2.6428e-02, 5.0322e-01, 5.7003e-01, 9.8321e-01, 6.4171e-01,\n",
       "           1.0363e-01, 6.1617e-01, 7.0318e-01, 6.3619e-01, 8.4111e-01,\n",
       "           7.3546e-01, 5.8851e-01, 4.5751e-01, 5.9044e-01, 2.5768e-01,\n",
       "           3.5685e-01, 9.4435e-01, 7.6149e-01, 6.7097e-01, 8.1011e-01,\n",
       "           3.6492e-01, 6.2396e-01, 6.6050e-01],\n",
       "          [3.0547e-01, 1.0249e-01, 3.9290e-01, 6.4967e-01, 7.3401e-01,\n",
       "           8.1383e-01, 6.2330e-02, 7.4001e-01, 4.5618e-01, 7.0480e-01,\n",
       "           1.4968e-01, 4.8399e-01, 4.7955e-01, 8.2911e-01, 6.0937e-01,\n",
       "           7.6524e-01, 5.5058e-01, 9.5038e-01, 1.9122e-01, 8.8615e-01,\n",
       "           8.8505e-01, 6.9617e-01, 7.5166e-02, 1.1635e-01, 6.7657e-01,\n",
       "           7.9656e-01, 7.7818e-01, 3.3820e-01],\n",
       "          [2.1785e-01, 8.8879e-01, 2.2083e-01, 5.5820e-01, 9.3588e-01,\n",
       "           7.8303e-01, 4.7759e-01, 9.6288e-02, 4.6636e-01, 1.9657e-02,\n",
       "           4.5280e-01, 4.3435e-01, 2.8983e-01, 4.0495e-01, 8.2317e-01,\n",
       "           8.5134e-01, 4.4785e-01, 4.4938e-01, 3.9234e-01, 2.1405e-02,\n",
       "           6.0355e-01, 7.3705e-01, 9.5441e-01, 3.5236e-01, 4.4061e-01,\n",
       "           8.6607e-01, 1.0324e-02, 9.0456e-01],\n",
       "          [8.5686e-02, 9.7208e-01, 9.9176e-01, 7.5039e-01, 7.1224e-01,\n",
       "           9.4602e-01, 5.8933e-01, 6.8271e-01, 9.1704e-01, 1.0435e-01,\n",
       "           6.7353e-01, 4.1798e-01, 3.7336e-01, 1.0811e-01, 9.4806e-01,\n",
       "           7.6610e-01, 4.7164e-01, 1.1006e-01, 3.4715e-02, 9.5350e-01,\n",
       "           8.5345e-01, 7.2899e-01, 5.5405e-01, 6.0749e-01, 3.1520e-01,\n",
       "           5.3323e-01, 3.3246e-01, 9.6350e-01],\n",
       "          [5.4573e-01, 5.3357e-01, 9.1798e-01, 1.5448e-01, 9.0377e-01,\n",
       "           9.4786e-01, 8.2820e-01, 9.5992e-01, 4.9624e-01, 1.0747e-01,\n",
       "           8.7985e-01, 7.8671e-01, 1.9551e-01, 3.2344e-01, 3.1350e-01,\n",
       "           3.6564e-01, 7.4839e-01, 9.5513e-01, 3.3076e-01, 5.4107e-01,\n",
       "           5.8726e-01, 8.4242e-01, 7.9279e-01, 6.5973e-01, 2.2255e-02,\n",
       "           2.9665e-01, 6.2434e-01, 7.3581e-01],\n",
       "          [3.0673e-01, 3.7191e-01, 6.2470e-01, 2.5520e-01, 8.2798e-01,\n",
       "           6.7724e-02, 3.8388e-01, 5.9023e-01, 6.7727e-01, 5.4723e-01,\n",
       "           2.1097e-01, 5.9891e-01, 2.1469e-01, 3.3475e-01, 1.4348e-01,\n",
       "           1.9976e-01, 5.4932e-01, 3.3854e-01, 3.4417e-01, 6.9395e-01,\n",
       "           8.3003e-01, 8.7929e-01, 3.3340e-01, 5.1811e-01, 7.4215e-02,\n",
       "           5.8062e-01, 5.6039e-01, 8.4029e-01],\n",
       "          [6.6164e-01, 6.3328e-01, 3.8959e-02, 8.4259e-02, 7.2197e-01,\n",
       "           5.8418e-01, 4.9228e-01, 2.9420e-01, 3.0450e-01, 7.7574e-01,\n",
       "           6.1407e-01, 2.0048e-01, 8.5498e-02, 1.3980e-01, 2.5633e-01,\n",
       "           9.6034e-01, 8.5163e-01, 2.7719e-01, 1.3369e-01, 8.5164e-01,\n",
       "           9.6843e-02, 2.9843e-01, 3.5965e-01, 6.3070e-01, 3.5035e-01,\n",
       "           6.9018e-02, 9.6883e-01, 7.2840e-01],\n",
       "          [6.8562e-03, 4.0089e-01, 7.1303e-01, 3.8296e-01, 6.1159e-01,\n",
       "           4.8373e-01, 7.6640e-01, 2.4829e-02, 4.3787e-01, 9.9279e-01,\n",
       "           5.7377e-01, 9.8512e-01, 9.6442e-01, 5.8654e-01, 9.6344e-01,\n",
       "           4.4183e-01, 6.2742e-01, 9.6625e-01, 6.3835e-01, 3.8243e-01,\n",
       "           3.6412e-01, 7.0519e-01, 1.4355e-01, 6.4325e-01, 4.8455e-02,\n",
       "           1.0455e-01, 5.8651e-01, 8.8513e-01],\n",
       "          [3.3245e-01, 7.3197e-01, 6.3283e-01, 1.7440e-01, 5.1606e-01,\n",
       "           2.3988e-01, 2.2661e-01, 9.0177e-01, 7.6863e-01, 6.0102e-01,\n",
       "           6.8950e-01, 6.6335e-01, 2.1153e-01, 6.3545e-01, 7.8731e-01,\n",
       "           4.6467e-01, 1.7841e-01, 2.9099e-01, 2.6002e-01, 1.3637e-01,\n",
       "           4.1172e-01, 5.4117e-01, 2.3175e-01, 3.7817e-01, 8.1488e-01,\n",
       "           7.8822e-01, 5.0270e-01, 5.1150e-01],\n",
       "          [8.4513e-02, 3.4696e-01, 6.5930e-01, 1.2765e-01, 1.5998e-01,\n",
       "           6.6440e-01, 4.7509e-01, 1.7527e-01, 8.1143e-01, 4.4028e-01,\n",
       "           4.1754e-01, 2.2106e-01, 4.8002e-01, 6.8797e-01, 8.7265e-01,\n",
       "           2.0896e-01, 1.7576e-01, 2.6244e-02, 7.3498e-01, 7.0552e-01,\n",
       "           1.4045e-01, 4.4581e-01, 9.6611e-01, 5.6404e-02, 4.6719e-01,\n",
       "           3.7165e-01, 9.4188e-01, 1.2730e-01],\n",
       "          [3.2395e-01, 7.2916e-01, 9.9868e-01, 8.9276e-02, 4.8148e-01,\n",
       "           7.8721e-02, 3.2741e-01, 3.5407e-01, 7.4503e-01, 5.0468e-01,\n",
       "           1.0115e-01, 9.4040e-01, 6.5648e-01, 2.4958e-02, 9.6392e-01,\n",
       "           9.4805e-01, 2.4027e-01, 3.1166e-02, 8.0859e-01, 9.0268e-01,\n",
       "           2.7171e-01, 1.1534e-01, 2.5808e-01, 7.4467e-01, 1.3024e-01,\n",
       "           4.3885e-01, 2.2153e-01, 5.4630e-01],\n",
       "          [6.2656e-01, 6.7592e-01, 7.5522e-01, 1.2344e-01, 9.4366e-01,\n",
       "           8.6203e-01, 8.0567e-01, 1.6053e-01, 7.2920e-02, 8.4982e-01,\n",
       "           7.8179e-02, 6.5118e-01, 8.5522e-01, 2.6400e-01, 8.9081e-01,\n",
       "           1.7214e-01, 5.4677e-01, 1.2274e-01, 6.8571e-01, 8.1630e-02,\n",
       "           6.3598e-01, 3.7405e-01, 4.3824e-01, 7.7894e-01, 7.1412e-01,\n",
       "           7.9042e-01, 2.6226e-01, 9.4815e-01],\n",
       "          [8.6047e-01, 6.4767e-01, 7.3636e-01, 5.5845e-01, 3.1223e-01,\n",
       "           1.3382e-01, 2.1402e-01, 3.1780e-01, 9.9608e-01, 4.1176e-01,\n",
       "           3.6780e-01, 9.5208e-01, 8.4374e-01, 8.2805e-01, 4.2371e-01,\n",
       "           3.0187e-01, 2.0518e-01, 3.2621e-01, 6.7472e-01, 2.4513e-02,\n",
       "           5.7478e-01, 7.0084e-01, 8.6166e-01, 6.2023e-01, 1.3533e-01,\n",
       "           4.3834e-01, 9.4682e-01, 6.3061e-01]]]),\n",
       " torch.Size([1, 28, 28]))"
      ]
     },
     "execution_count": 47,
     "metadata": {},
     "output_type": "execute_result"
    }
   ],
   "source": [
    "# try a dummy forward pass to see what happens our data is \n",
    "dummy_x = torch.rand(size=([1, 28, 28]))\n",
    "dummy_x, dummy_x.shape"
   ]
  },
  {
   "cell_type": "code",
   "execution_count": 48,
   "metadata": {},
   "outputs": [
    {
     "data": {
      "text/plain": [
       "(torch.Size([1, 1, 28, 28]),\n",
       " tensor([[[[0.8080, 0.7477, 0.3865, 0.4019, 0.2598, 0.4558, 0.0573, 0.7853,\n",
       "            0.4712, 0.2816, 0.0115, 0.1498, 0.6222, 0.3235, 0.7793, 0.8585,\n",
       "            0.6206, 0.8018, 0.3406, 0.2685, 0.6449, 0.4300, 0.7883, 0.0324,\n",
       "            0.9870, 0.3018, 0.0924, 0.5920],\n",
       "           [0.4474, 0.5188, 0.0918, 0.5851, 0.6923, 0.3491, 0.6169, 0.5039,\n",
       "            0.0209, 0.9407, 0.1387, 0.8898, 0.2616, 0.2489, 0.2821, 0.8557,\n",
       "            0.6738, 0.6543, 0.1726, 0.5197, 0.1990, 0.5026, 0.2953, 0.5209,\n",
       "            0.1002, 0.3364, 0.0010, 0.4295],\n",
       "           [0.5024, 0.2369, 0.1680, 0.6623, 0.5743, 0.6495, 0.4614, 0.0700,\n",
       "            0.9474, 0.4499, 0.3377, 0.4854, 0.3621, 0.7656, 0.1670, 0.5959,\n",
       "            0.9839, 0.6017, 0.0110, 0.6855, 0.2725, 0.1700, 0.8044, 0.3265,\n",
       "            0.1884, 0.4208, 0.2596, 0.5228],\n",
       "           [0.4357, 0.6933, 0.8914, 0.0277, 0.4001, 0.0592, 0.1648, 0.6690,\n",
       "            0.6698, 0.1204, 0.7345, 0.1967, 0.7933, 0.8536, 0.8585, 0.5722,\n",
       "            0.1800, 0.3535, 0.9513, 0.1446, 0.5351, 0.6454, 0.7559, 0.1508,\n",
       "            0.0504, 0.0533, 0.5021, 0.7742],\n",
       "           [0.7183, 0.1375, 0.6802, 0.7817, 0.4633, 0.4652, 0.7457, 0.0835,\n",
       "            0.1693, 0.4679, 0.4642, 0.1244, 0.3523, 0.8036, 0.2676, 0.7211,\n",
       "            0.5001, 0.4655, 0.1010, 0.4692, 0.0202, 0.6144, 0.9592, 0.8841,\n",
       "            0.0770, 0.7556, 0.0331, 0.6792],\n",
       "           [0.0865, 0.3049, 0.2438, 0.7771, 0.6220, 0.8135, 0.6512, 0.4777,\n",
       "            0.5451, 0.3450, 0.3129, 0.5385, 0.9278, 0.9058, 0.5770, 0.7569,\n",
       "            0.8390, 0.0507, 0.4353, 0.1107, 0.2932, 0.8119, 0.8810, 0.3473,\n",
       "            0.0787, 0.4925, 0.4780, 0.0862],\n",
       "           [0.5363, 0.4478, 0.6880, 0.6204, 0.4613, 0.1875, 0.7443, 0.6991,\n",
       "            0.6158, 0.4638, 0.7764, 0.1767, 0.1193, 0.5949, 0.7090, 0.0476,\n",
       "            0.9729, 0.5906, 0.5392, 0.1358, 0.4126, 0.3240, 0.3002, 0.0892,\n",
       "            0.3180, 0.6702, 0.2220, 0.5842],\n",
       "           [0.9286, 0.2619, 0.4873, 0.4960, 0.2953, 0.7052, 0.2401, 0.2496,\n",
       "            0.7390, 0.2315, 0.3253, 0.7805, 0.5221, 0.6784, 0.7883, 0.6215,\n",
       "            0.4307, 0.4991, 0.5072, 0.4052, 0.5715, 0.3593, 0.8217, 0.8953,\n",
       "            0.1334, 0.5349, 0.4171, 0.6908],\n",
       "           [0.4661, 0.7337, 0.7464, 0.6293, 0.5061, 0.7586, 0.2528, 0.1446,\n",
       "            0.2920, 0.7897, 0.9109, 0.4863, 0.4277, 0.4065, 0.0131, 0.1842,\n",
       "            0.5445, 0.0722, 0.7240, 0.4360, 0.6235, 0.9042, 0.3652, 0.3967,\n",
       "            0.9567, 0.7193, 0.6326, 0.6707],\n",
       "           [0.5643, 0.8533, 0.4468, 0.0063, 0.7279, 0.6044, 0.2562, 0.6724,\n",
       "            0.7017, 0.5463, 0.4173, 0.1376, 0.6124, 0.5542, 0.7971, 0.9296,\n",
       "            0.8404, 0.1873, 0.7701, 0.9275, 0.1458, 0.3106, 0.5246, 0.6218,\n",
       "            0.7385, 0.4408, 0.4797, 0.8059],\n",
       "           [0.5321, 0.3719, 0.3248, 0.9138, 0.8804, 0.9416, 0.7135, 0.5521,\n",
       "            0.1053, 0.7079, 0.0234, 0.1268, 0.9456, 0.2904, 0.7340, 0.6576,\n",
       "            0.3553, 0.1385, 0.5302, 0.2810, 0.9961, 0.2916, 0.7312, 0.4392,\n",
       "            0.4321, 0.7344, 0.1299, 0.5179],\n",
       "           [0.0731, 0.0761, 0.2758, 0.9943, 0.5358, 0.7684, 0.2677, 0.8262,\n",
       "            0.8500, 0.9973, 0.1431, 0.3540, 0.7016, 0.4715, 0.1010, 0.5003,\n",
       "            0.8771, 0.1892, 0.9362, 0.2547, 0.1076, 0.3158, 0.9825, 0.5430,\n",
       "            0.7932, 0.1053, 0.6089, 0.8176],\n",
       "           [0.4680, 0.1105, 0.1507, 0.1897, 0.8020, 0.2680, 0.4163, 0.8362,\n",
       "            0.6789, 0.6700, 0.3208, 0.5425, 0.3973, 0.7142, 0.9553, 0.0629,\n",
       "            0.5636, 0.2854, 0.5549, 0.1248, 0.2523, 0.9007, 0.5031, 0.9374,\n",
       "            0.4760, 0.3420, 0.6564, 0.4796],\n",
       "           [0.7242, 0.6076, 0.0645, 0.6322, 0.5737, 0.5337, 0.5956, 0.1082,\n",
       "            0.0287, 0.3937, 0.4577, 0.4678, 0.8325, 0.6081, 0.2850, 0.3272,\n",
       "            0.9029, 0.5716, 0.0855, 0.5018, 0.4827, 0.1384, 0.8472, 0.6128,\n",
       "            0.9515, 0.7206, 0.3107, 0.7784],\n",
       "           [0.1781, 0.2870, 0.4163, 0.9940, 0.4232, 0.9400, 0.7913, 0.2462,\n",
       "            0.5929, 0.4502, 0.0517, 0.9338, 0.3426, 0.7049, 0.6993, 0.9245,\n",
       "            0.5509, 0.5147, 0.9405, 0.7668, 0.5737, 0.0918, 0.4273, 0.4405,\n",
       "            0.4419, 0.0115, 0.1138, 0.0254],\n",
       "           [0.5884, 0.3148, 0.5675, 0.9464, 0.9455, 0.5549, 0.9872, 0.9030,\n",
       "            0.6091, 0.5679, 0.0893, 0.6270, 0.9931, 0.8127, 0.7577, 0.3972,\n",
       "            0.1928, 0.4000, 0.0678, 0.9873, 0.8889, 0.1533, 0.7245, 0.5491,\n",
       "            0.4167, 0.5782, 0.4282, 0.1575],\n",
       "           [0.3085, 0.9976, 0.5532, 0.2770, 0.6067, 0.1564, 0.7764, 0.0235,\n",
       "            0.1062, 0.5441, 0.7950, 0.1625, 0.0735, 0.2982, 0.6075, 0.2949,\n",
       "            0.8606, 0.4168, 0.2006, 0.2133, 0.5671, 0.9559, 0.4486, 0.6828,\n",
       "            0.7807, 0.6476, 0.5990, 0.5488],\n",
       "           [0.9250, 0.9026, 0.9906, 0.1587, 0.3045, 0.1884, 0.8320, 0.9251,\n",
       "            0.2647, 0.8729, 0.8340, 0.6226, 0.3113, 0.5244, 0.1242, 0.1588,\n",
       "            0.4155, 0.2878, 0.1156, 0.5802, 0.5248, 0.2827, 0.2311, 0.9137,\n",
       "            0.1574, 0.6129, 0.1963, 0.7040],\n",
       "           [0.3471, 0.0515, 0.7796, 0.2735, 0.7739, 0.8199, 0.3897, 0.7665,\n",
       "            0.4800, 0.1285, 0.0535, 0.1812, 0.0974, 0.6399, 0.4702, 0.2838,\n",
       "            0.3970, 0.1062, 0.3880, 0.9880, 0.7552, 0.6457, 0.6400, 0.9266,\n",
       "            0.3781, 0.7435, 0.4145, 0.4705],\n",
       "           [0.9519, 0.3276, 0.2173, 0.8843, 0.8929, 0.5945, 0.7648, 0.6714,\n",
       "            0.5273, 0.1386, 0.7597, 0.9777, 0.7718, 0.3208, 0.9332, 0.3446,\n",
       "            0.4133, 0.8904, 0.0483, 0.8853, 0.0089, 0.2704, 0.1961, 0.9609,\n",
       "            0.3237, 0.3026, 0.2339, 0.2409],\n",
       "           [0.7495, 0.4015, 0.0790, 0.3801, 0.4770, 0.0383, 0.3147, 0.6766,\n",
       "            0.9013, 0.7933, 0.1868, 0.9006, 0.8617, 0.0566, 0.7315, 0.1530,\n",
       "            0.7747, 0.8838, 0.6348, 0.7774, 0.1678, 0.2608, 0.4550, 0.0020,\n",
       "            0.1646, 0.7264, 0.8960, 0.2124],\n",
       "           [0.4241, 0.9511, 0.0335, 0.5816, 0.1148, 0.3894, 0.7846, 0.4226,\n",
       "            0.8843, 0.2075, 0.9948, 0.2533, 0.2682, 0.5760, 0.7216, 0.4477,\n",
       "            0.2185, 0.5887, 0.3067, 0.8333, 0.6985, 0.0583, 0.9102, 0.0601,\n",
       "            0.8589, 0.3470, 0.6349, 0.7962],\n",
       "           [0.8683, 0.6119, 0.6681, 0.0756, 0.9923, 0.4248, 0.6795, 0.0095,\n",
       "            0.2968, 0.9700, 0.0576, 0.8629, 0.0126, 0.0603, 0.9701, 0.8738,\n",
       "            0.5461, 0.7877, 0.0996, 0.1469, 0.5427, 0.2908, 0.9531, 0.6435,\n",
       "            0.3812, 0.0932, 0.0214, 0.2963],\n",
       "           [0.2231, 0.2766, 0.2188, 0.1662, 0.0860, 0.1482, 0.8308, 0.7951,\n",
       "            0.3880, 0.5906, 0.8907, 0.1926, 0.3114, 0.5001, 0.0327, 0.7037,\n",
       "            0.3125, 0.9142, 0.9648, 0.6328, 0.3672, 0.6056, 0.3617, 0.0528,\n",
       "            0.0616, 0.5237, 0.1433, 0.0143],\n",
       "           [0.7195, 0.5244, 0.5839, 0.8431, 0.6160, 0.3211, 0.4483, 0.0264,\n",
       "            0.2152, 0.2656, 0.1654, 0.8789, 0.6303, 0.6989, 0.1232, 0.7027,\n",
       "            0.2539, 0.9356, 0.3633, 0.4706, 0.8130, 0.0740, 0.5771, 0.8593,\n",
       "            0.8852, 0.6868, 0.3408, 0.0317],\n",
       "           [0.4532, 0.9987, 0.8390, 0.1160, 0.3659, 0.2001, 0.9168, 0.4673,\n",
       "            0.0645, 0.7055, 0.8230, 0.0356, 0.3085, 0.5028, 0.8277, 0.7990,\n",
       "            0.8428, 0.3127, 0.0039, 0.8002, 0.1771, 0.4159, 0.6201, 0.0385,\n",
       "            0.9689, 0.1684, 0.4808, 0.7530],\n",
       "           [0.7994, 0.4821, 0.3841, 0.6295, 0.1158, 0.3467, 0.9740, 0.2451,\n",
       "            0.8524, 0.3768, 0.1973, 0.1349, 0.9673, 0.8505, 0.8916, 0.6277,\n",
       "            0.4187, 0.1040, 0.9269, 0.6552, 0.4845, 0.8825, 0.3382, 0.4271,\n",
       "            0.8313, 0.8627, 0.5051, 0.0984],\n",
       "           [0.8940, 0.0597, 0.3912, 0.4936, 0.7407, 0.3150, 0.4094, 0.5871,\n",
       "            0.4340, 0.2355, 0.1926, 0.7510, 0.0656, 0.4802, 0.1384, 0.4233,\n",
       "            0.7246, 0.8552, 0.2442, 0.7741, 0.4339, 0.3586, 0.5394, 0.6364,\n",
       "            0.3154, 0.4311, 0.5961, 0.0442]]]], device='cuda:0'))"
      ]
     },
     "execution_count": 48,
     "metadata": {},
     "output_type": "execute_result"
    }
   ],
   "source": [
    "dummy_x = torch.rand(size=(1, 28, 28)).unsqueeze(dim=0).to(device)\n",
    "dummy_x.shape, dummy_x"
   ]
  },
  {
   "cell_type": "code",
   "execution_count": 49,
   "metadata": {},
   "outputs": [
    {
     "data": {
      "text/plain": [
       "(tensor([[[[[0.8080, 0.7477, 0.3865, 0.4019, 0.2598, 0.4558, 0.0573, 0.7853,\n",
       "             0.4712, 0.2816, 0.0115, 0.1498, 0.6222, 0.3235, 0.7793, 0.8585,\n",
       "             0.6206, 0.8018, 0.3406, 0.2685, 0.6449, 0.4300, 0.7883, 0.0324,\n",
       "             0.9870, 0.3018, 0.0924, 0.5920],\n",
       "            [0.4474, 0.5188, 0.0918, 0.5851, 0.6923, 0.3491, 0.6169, 0.5039,\n",
       "             0.0209, 0.9407, 0.1387, 0.8898, 0.2616, 0.2489, 0.2821, 0.8557,\n",
       "             0.6738, 0.6543, 0.1726, 0.5197, 0.1990, 0.5026, 0.2953, 0.5209,\n",
       "             0.1002, 0.3364, 0.0010, 0.4295],\n",
       "            [0.5024, 0.2369, 0.1680, 0.6623, 0.5743, 0.6495, 0.4614, 0.0700,\n",
       "             0.9474, 0.4499, 0.3377, 0.4854, 0.3621, 0.7656, 0.1670, 0.5959,\n",
       "             0.9839, 0.6017, 0.0110, 0.6855, 0.2725, 0.1700, 0.8044, 0.3265,\n",
       "             0.1884, 0.4208, 0.2596, 0.5228],\n",
       "            [0.4357, 0.6933, 0.8914, 0.0277, 0.4001, 0.0592, 0.1648, 0.6690,\n",
       "             0.6698, 0.1204, 0.7345, 0.1967, 0.7933, 0.8536, 0.8585, 0.5722,\n",
       "             0.1800, 0.3535, 0.9513, 0.1446, 0.5351, 0.6454, 0.7559, 0.1508,\n",
       "             0.0504, 0.0533, 0.5021, 0.7742],\n",
       "            [0.7183, 0.1375, 0.6802, 0.7817, 0.4633, 0.4652, 0.7457, 0.0835,\n",
       "             0.1693, 0.4679, 0.4642, 0.1244, 0.3523, 0.8036, 0.2676, 0.7211,\n",
       "             0.5001, 0.4655, 0.1010, 0.4692, 0.0202, 0.6144, 0.9592, 0.8841,\n",
       "             0.0770, 0.7556, 0.0331, 0.6792],\n",
       "            [0.0865, 0.3049, 0.2438, 0.7771, 0.6220, 0.8135, 0.6512, 0.4777,\n",
       "             0.5451, 0.3450, 0.3129, 0.5385, 0.9278, 0.9058, 0.5770, 0.7569,\n",
       "             0.8390, 0.0507, 0.4353, 0.1107, 0.2932, 0.8119, 0.8810, 0.3473,\n",
       "             0.0787, 0.4925, 0.4780, 0.0862],\n",
       "            [0.5363, 0.4478, 0.6880, 0.6204, 0.4613, 0.1875, 0.7443, 0.6991,\n",
       "             0.6158, 0.4638, 0.7764, 0.1767, 0.1193, 0.5949, 0.7090, 0.0476,\n",
       "             0.9729, 0.5906, 0.5392, 0.1358, 0.4126, 0.3240, 0.3002, 0.0892,\n",
       "             0.3180, 0.6702, 0.2220, 0.5842],\n",
       "            [0.9286, 0.2619, 0.4873, 0.4960, 0.2953, 0.7052, 0.2401, 0.2496,\n",
       "             0.7390, 0.2315, 0.3253, 0.7805, 0.5221, 0.6784, 0.7883, 0.6215,\n",
       "             0.4307, 0.4991, 0.5072, 0.4052, 0.5715, 0.3593, 0.8217, 0.8953,\n",
       "             0.1334, 0.5349, 0.4171, 0.6908],\n",
       "            [0.4661, 0.7337, 0.7464, 0.6293, 0.5061, 0.7586, 0.2528, 0.1446,\n",
       "             0.2920, 0.7897, 0.9109, 0.4863, 0.4277, 0.4065, 0.0131, 0.1842,\n",
       "             0.5445, 0.0722, 0.7240, 0.4360, 0.6235, 0.9042, 0.3652, 0.3967,\n",
       "             0.9567, 0.7193, 0.6326, 0.6707],\n",
       "            [0.5643, 0.8533, 0.4468, 0.0063, 0.7279, 0.6044, 0.2562, 0.6724,\n",
       "             0.7017, 0.5463, 0.4173, 0.1376, 0.6124, 0.5542, 0.7971, 0.9296,\n",
       "             0.8404, 0.1873, 0.7701, 0.9275, 0.1458, 0.3106, 0.5246, 0.6218,\n",
       "             0.7385, 0.4408, 0.4797, 0.8059],\n",
       "            [0.5321, 0.3719, 0.3248, 0.9138, 0.8804, 0.9416, 0.7135, 0.5521,\n",
       "             0.1053, 0.7079, 0.0234, 0.1268, 0.9456, 0.2904, 0.7340, 0.6576,\n",
       "             0.3553, 0.1385, 0.5302, 0.2810, 0.9961, 0.2916, 0.7312, 0.4392,\n",
       "             0.4321, 0.7344, 0.1299, 0.5179],\n",
       "            [0.0731, 0.0761, 0.2758, 0.9943, 0.5358, 0.7684, 0.2677, 0.8262,\n",
       "             0.8500, 0.9973, 0.1431, 0.3540, 0.7016, 0.4715, 0.1010, 0.5003,\n",
       "             0.8771, 0.1892, 0.9362, 0.2547, 0.1076, 0.3158, 0.9825, 0.5430,\n",
       "             0.7932, 0.1053, 0.6089, 0.8176],\n",
       "            [0.4680, 0.1105, 0.1507, 0.1897, 0.8020, 0.2680, 0.4163, 0.8362,\n",
       "             0.6789, 0.6700, 0.3208, 0.5425, 0.3973, 0.7142, 0.9553, 0.0629,\n",
       "             0.5636, 0.2854, 0.5549, 0.1248, 0.2523, 0.9007, 0.5031, 0.9374,\n",
       "             0.4760, 0.3420, 0.6564, 0.4796],\n",
       "            [0.7242, 0.6076, 0.0645, 0.6322, 0.5737, 0.5337, 0.5956, 0.1082,\n",
       "             0.0287, 0.3937, 0.4577, 0.4678, 0.8325, 0.6081, 0.2850, 0.3272,\n",
       "             0.9029, 0.5716, 0.0855, 0.5018, 0.4827, 0.1384, 0.8472, 0.6128,\n",
       "             0.9515, 0.7206, 0.3107, 0.7784],\n",
       "            [0.1781, 0.2870, 0.4163, 0.9940, 0.4232, 0.9400, 0.7913, 0.2462,\n",
       "             0.5929, 0.4502, 0.0517, 0.9338, 0.3426, 0.7049, 0.6993, 0.9245,\n",
       "             0.5509, 0.5147, 0.9405, 0.7668, 0.5737, 0.0918, 0.4273, 0.4405,\n",
       "             0.4419, 0.0115, 0.1138, 0.0254],\n",
       "            [0.5884, 0.3148, 0.5675, 0.9464, 0.9455, 0.5549, 0.9872, 0.9030,\n",
       "             0.6091, 0.5679, 0.0893, 0.6270, 0.9931, 0.8127, 0.7577, 0.3972,\n",
       "             0.1928, 0.4000, 0.0678, 0.9873, 0.8889, 0.1533, 0.7245, 0.5491,\n",
       "             0.4167, 0.5782, 0.4282, 0.1575],\n",
       "            [0.3085, 0.9976, 0.5532, 0.2770, 0.6067, 0.1564, 0.7764, 0.0235,\n",
       "             0.1062, 0.5441, 0.7950, 0.1625, 0.0735, 0.2982, 0.6075, 0.2949,\n",
       "             0.8606, 0.4168, 0.2006, 0.2133, 0.5671, 0.9559, 0.4486, 0.6828,\n",
       "             0.7807, 0.6476, 0.5990, 0.5488],\n",
       "            [0.9250, 0.9026, 0.9906, 0.1587, 0.3045, 0.1884, 0.8320, 0.9251,\n",
       "             0.2647, 0.8729, 0.8340, 0.6226, 0.3113, 0.5244, 0.1242, 0.1588,\n",
       "             0.4155, 0.2878, 0.1156, 0.5802, 0.5248, 0.2827, 0.2311, 0.9137,\n",
       "             0.1574, 0.6129, 0.1963, 0.7040],\n",
       "            [0.3471, 0.0515, 0.7796, 0.2735, 0.7739, 0.8199, 0.3897, 0.7665,\n",
       "             0.4800, 0.1285, 0.0535, 0.1812, 0.0974, 0.6399, 0.4702, 0.2838,\n",
       "             0.3970, 0.1062, 0.3880, 0.9880, 0.7552, 0.6457, 0.6400, 0.9266,\n",
       "             0.3781, 0.7435, 0.4145, 0.4705],\n",
       "            [0.9519, 0.3276, 0.2173, 0.8843, 0.8929, 0.5945, 0.7648, 0.6714,\n",
       "             0.5273, 0.1386, 0.7597, 0.9777, 0.7718, 0.3208, 0.9332, 0.3446,\n",
       "             0.4133, 0.8904, 0.0483, 0.8853, 0.0089, 0.2704, 0.1961, 0.9609,\n",
       "             0.3237, 0.3026, 0.2339, 0.2409],\n",
       "            [0.7495, 0.4015, 0.0790, 0.3801, 0.4770, 0.0383, 0.3147, 0.6766,\n",
       "             0.9013, 0.7933, 0.1868, 0.9006, 0.8617, 0.0566, 0.7315, 0.1530,\n",
       "             0.7747, 0.8838, 0.6348, 0.7774, 0.1678, 0.2608, 0.4550, 0.0020,\n",
       "             0.1646, 0.7264, 0.8960, 0.2124],\n",
       "            [0.4241, 0.9511, 0.0335, 0.5816, 0.1148, 0.3894, 0.7846, 0.4226,\n",
       "             0.8843, 0.2075, 0.9948, 0.2533, 0.2682, 0.5760, 0.7216, 0.4477,\n",
       "             0.2185, 0.5887, 0.3067, 0.8333, 0.6985, 0.0583, 0.9102, 0.0601,\n",
       "             0.8589, 0.3470, 0.6349, 0.7962],\n",
       "            [0.8683, 0.6119, 0.6681, 0.0756, 0.9923, 0.4248, 0.6795, 0.0095,\n",
       "             0.2968, 0.9700, 0.0576, 0.8629, 0.0126, 0.0603, 0.9701, 0.8738,\n",
       "             0.5461, 0.7877, 0.0996, 0.1469, 0.5427, 0.2908, 0.9531, 0.6435,\n",
       "             0.3812, 0.0932, 0.0214, 0.2963],\n",
       "            [0.2231, 0.2766, 0.2188, 0.1662, 0.0860, 0.1482, 0.8308, 0.7951,\n",
       "             0.3880, 0.5906, 0.8907, 0.1926, 0.3114, 0.5001, 0.0327, 0.7037,\n",
       "             0.3125, 0.9142, 0.9648, 0.6328, 0.3672, 0.6056, 0.3617, 0.0528,\n",
       "             0.0616, 0.5237, 0.1433, 0.0143],\n",
       "            [0.7195, 0.5244, 0.5839, 0.8431, 0.6160, 0.3211, 0.4483, 0.0264,\n",
       "             0.2152, 0.2656, 0.1654, 0.8789, 0.6303, 0.6989, 0.1232, 0.7027,\n",
       "             0.2539, 0.9356, 0.3633, 0.4706, 0.8130, 0.0740, 0.5771, 0.8593,\n",
       "             0.8852, 0.6868, 0.3408, 0.0317],\n",
       "            [0.4532, 0.9987, 0.8390, 0.1160, 0.3659, 0.2001, 0.9168, 0.4673,\n",
       "             0.0645, 0.7055, 0.8230, 0.0356, 0.3085, 0.5028, 0.8277, 0.7990,\n",
       "             0.8428, 0.3127, 0.0039, 0.8002, 0.1771, 0.4159, 0.6201, 0.0385,\n",
       "             0.9689, 0.1684, 0.4808, 0.7530],\n",
       "            [0.7994, 0.4821, 0.3841, 0.6295, 0.1158, 0.3467, 0.9740, 0.2451,\n",
       "             0.8524, 0.3768, 0.1973, 0.1349, 0.9673, 0.8505, 0.8916, 0.6277,\n",
       "             0.4187, 0.1040, 0.9269, 0.6552, 0.4845, 0.8825, 0.3382, 0.4271,\n",
       "             0.8313, 0.8627, 0.5051, 0.0984],\n",
       "            [0.8940, 0.0597, 0.3912, 0.4936, 0.7407, 0.3150, 0.4094, 0.5871,\n",
       "             0.4340, 0.2355, 0.1926, 0.7510, 0.0656, 0.4802, 0.1384, 0.4233,\n",
       "             0.7246, 0.8552, 0.2442, 0.7741, 0.4339, 0.3586, 0.5394, 0.6364,\n",
       "             0.3154, 0.4311, 0.5961, 0.0442]]]]], device='cuda:0'),\n",
       " torch.Size([1, 1, 1, 28, 28]))"
      ]
     },
     "execution_count": 49,
     "metadata": {},
     "output_type": "execute_result"
    }
   ],
   "source": [
    "dummy_x_unsqueezed = dummy_x.unsqueeze(dim=0)\n",
    "dummy_x_unsqueezed, dummy_x_unsqueezed.shape"
   ]
  },
  {
   "cell_type": "code",
   "execution_count": 52,
   "metadata": {},
   "outputs": [
    {
     "data": {
      "text/plain": [
       "tensor([[-0.0033,  0.0293, -0.0041,  0.0346,  0.0418, -0.0692,  0.0496,  0.0104,\n",
       "         -0.0038, -0.0165]], device='cuda:0', grad_fn=<AddmmBackward0>)"
      ]
     },
     "execution_count": 52,
     "metadata": {},
     "output_type": "execute_result"
    }
   ],
   "source": [
    "torch.manual_seed(42)\n",
    "torch.cuda.manual_seed(42)\n",
    "model(dummy_x)"
   ]
  },
  {
   "cell_type": "code",
   "execution_count": 57,
   "metadata": {},
   "outputs": [
    {
     "data": {
      "text/plain": [
       "torch.Size([1, 10, 7, 7])"
      ]
     },
     "execution_count": 57,
     "metadata": {},
     "output_type": "execute_result"
    }
   ],
   "source": [
    "dummy_x_2 = torch.rand(size=([1, 10, 7, 7]))\n",
    "dummy_x_2.shape"
   ]
  },
  {
   "cell_type": "code",
   "execution_count": 58,
   "metadata": {},
   "outputs": [
    {
     "data": {
      "text/plain": [
       "(tensor([[0.1952, 0.0050, 0.3068, 0.1165, 0.9103, 0.6440, 0.7071, 0.6581, 0.4913,\n",
       "          0.8913, 0.1447, 0.5315, 0.1587, 0.6542, 0.3278, 0.6532, 0.3958, 0.9147,\n",
       "          0.2036, 0.2018, 0.2018, 0.9497, 0.6666, 0.9811, 0.0874, 0.0041, 0.1088,\n",
       "          0.1637, 0.7025, 0.6790, 0.9155, 0.2418, 0.1591, 0.7653, 0.2979, 0.8035,\n",
       "          0.3813, 0.7860, 0.1115, 0.2477, 0.6524, 0.6057, 0.3725, 0.7980, 0.8399,\n",
       "          0.1374, 0.2331, 0.9578, 0.3313, 0.3227, 0.0162, 0.2137, 0.6249, 0.4340,\n",
       "          0.1371, 0.5117, 0.1585, 0.0758, 0.2247, 0.0624, 0.1816, 0.9998, 0.5944,\n",
       "          0.6541, 0.0337, 0.1716, 0.3336, 0.5782, 0.0600, 0.2846, 0.2007, 0.5014,\n",
       "          0.3139, 0.4654, 0.1612, 0.1568, 0.2083, 0.3289, 0.1054, 0.9192, 0.4008,\n",
       "          0.9302, 0.6558, 0.0766, 0.8460, 0.3624, 0.3083, 0.0850, 0.0029, 0.6431,\n",
       "          0.3908, 0.6947, 0.0897, 0.8712, 0.1330, 0.4137, 0.6044, 0.7581, 0.9037,\n",
       "          0.9555, 0.1035, 0.6258, 0.2849, 0.4452, 0.1258, 0.9554, 0.1330, 0.7672,\n",
       "          0.6757, 0.6625, 0.2297, 0.9545, 0.6099, 0.5643, 0.0594, 0.7099, 0.4250,\n",
       "          0.2709, 0.9295, 0.6115, 0.2234, 0.2469, 0.4761, 0.7792, 0.3722, 0.2147,\n",
       "          0.3288, 0.1265, 0.6783, 0.8870, 0.0293, 0.6161, 0.7583, 0.5907, 0.3219,\n",
       "          0.7610, 0.7628, 0.6870, 0.4121, 0.3676, 0.5535, 0.4117, 0.3510, 0.8196,\n",
       "          0.9297, 0.4505, 0.3881, 0.5073, 0.4701, 0.6202, 0.6401, 0.0459, 0.3155,\n",
       "          0.9211, 0.6948, 0.4751, 0.1985, 0.1941, 0.0521, 0.3370, 0.6689, 0.8188,\n",
       "          0.7308, 0.0580, 0.1993, 0.4211, 0.9837, 0.5723, 0.3705, 0.7069, 0.3096,\n",
       "          0.1764, 0.8649, 0.2726, 0.3998, 0.0026, 0.8346, 0.8788, 0.6822, 0.1514,\n",
       "          0.0065, 0.0939, 0.8729, 0.7401, 0.9208, 0.7619, 0.6265, 0.4951, 0.1197,\n",
       "          0.0716, 0.0323, 0.7047, 0.2545, 0.3994, 0.2122, 0.4089, 0.1481, 0.1733,\n",
       "          0.6659, 0.3514, 0.8087, 0.3396, 0.1332, 0.4118, 0.2576, 0.3470, 0.0240,\n",
       "          0.7797, 0.1519, 0.7513, 0.7269, 0.8572, 0.1165, 0.8596, 0.2636, 0.6855,\n",
       "          0.9696, 0.4295, 0.4961, 0.3849, 0.0825, 0.7400, 0.0036, 0.8104, 0.8741,\n",
       "          0.9729, 0.3821, 0.0892, 0.6124, 0.7762, 0.0023, 0.3865, 0.2003, 0.4563,\n",
       "          0.2539, 0.2956, 0.3413, 0.0248, 0.9103, 0.9192, 0.4216, 0.4431, 0.2959,\n",
       "          0.0485, 0.0134, 0.6858, 0.2255, 0.1786, 0.4610, 0.3335, 0.3382, 0.5161,\n",
       "          0.3939, 0.3278, 0.2606, 0.0931, 0.9193, 0.2999, 0.6325, 0.3265, 0.5406,\n",
       "          0.9662, 0.7304, 0.0667, 0.6985, 0.9746, 0.6315, 0.8352, 0.9929, 0.4234,\n",
       "          0.6038, 0.1525, 0.3970, 0.8703, 0.7563, 0.1836, 0.0991, 0.1583, 0.0066,\n",
       "          0.1142, 0.3764, 0.8374, 0.5837, 0.1197, 0.0989, 0.7487, 0.1281, 0.4384,\n",
       "          0.7399, 0.2686, 0.4455, 0.4565, 0.3817, 0.2465, 0.0543, 0.0958, 0.2323,\n",
       "          0.9829, 0.2585, 0.1642, 0.6212, 0.6378, 0.7740, 0.8801, 0.7784, 0.0042,\n",
       "          0.5443, 0.8029, 0.4538, 0.2054, 0.9767, 0.3130, 0.2153, 0.0492, 0.5223,\n",
       "          0.7216, 0.6107, 0.5989, 0.1208, 0.0331, 0.5088, 0.9559, 0.7885, 0.2089,\n",
       "          0.4351, 0.1314, 0.2588, 0.5905, 0.7723, 0.9142, 0.0409, 0.8343, 0.1474,\n",
       "          0.6872, 0.9231, 0.5070, 0.9549, 0.0740, 0.3090, 0.7916, 0.3911, 0.3976,\n",
       "          0.2916, 0.8447, 0.7453, 0.6602, 0.2190, 0.0941, 0.5541, 0.6481, 0.2691,\n",
       "          0.3601, 0.8377, 0.5398, 0.5226, 0.3769, 0.0472, 0.0299, 0.2610, 0.2458,\n",
       "          0.6558, 0.3544, 0.3044, 0.9767, 0.6742, 0.8565, 0.2579, 0.2958, 0.6838,\n",
       "          0.1669, 0.1731, 0.4759, 0.3171, 0.1252, 0.7966, 0.9021, 0.5811, 0.4129,\n",
       "          0.0369, 0.3179, 0.6273, 0.7358, 0.4368, 0.3023, 0.7786, 0.1018, 0.8160,\n",
       "          0.3060, 0.5077, 0.4012, 0.5606, 0.3489, 0.8636, 0.4870, 0.8903, 0.9807,\n",
       "          0.2564, 0.1352, 0.9012, 0.8918, 0.1182, 0.4613, 0.0069, 0.0907, 0.5966,\n",
       "          0.6330, 0.6060, 0.3639, 0.9613, 0.5715, 0.2050, 0.4717, 0.6201, 0.6751,\n",
       "          0.1465, 0.6874, 0.2446, 0.0845, 0.2269, 0.9822, 0.9274, 0.9477, 0.7935,\n",
       "          0.8777, 0.4331, 0.2249, 0.7498, 0.2409, 0.1626, 0.3403, 0.6049, 0.7574,\n",
       "          0.3058, 0.2057, 0.5674, 0.2053, 0.1745, 0.7606, 0.4160, 0.9569, 0.9864,\n",
       "          0.6496, 0.6721, 0.6151, 0.5078, 0.4636, 0.5069, 0.6867, 0.9649, 0.3704,\n",
       "          0.2886, 0.3789, 0.2584, 0.5850, 0.8732, 0.8910, 0.7296, 0.1320, 0.2316,\n",
       "          0.3901, 0.4078, 0.5411, 0.0410, 0.6556, 0.1186, 0.1836, 0.0843, 0.9357,\n",
       "          0.0265, 0.8772, 0.4832, 0.4419, 0.8127, 0.4538, 0.8136, 0.8615, 0.0659,\n",
       "          0.6924, 0.5944, 0.6075, 0.5730, 0.6368, 0.2595, 0.4360, 0.9751, 0.8359,\n",
       "          0.4812, 0.0297, 0.5219, 0.1595]]),\n",
       " torch.Size([1, 490]))"
      ]
     },
     "execution_count": 58,
     "metadata": {},
     "output_type": "execute_result"
    }
   ],
   "source": [
    "flatten_layer =nn.Flatten()\n",
    "flatten_layer(dummy_x_2), flatten_layer(dummy_x_2).shape"
   ]
  },
  {
   "cell_type": "markdown",
   "metadata": {
    "id": "sf_3zUr7xlhy"
   },
   "source": [
    "## 9. Train the model you built in exercise 8. for 5 epochs on CPU and GPU and see how long it takes on each."
   ]
  },
  {
   "cell_type": "code",
   "execution_count": 59,
   "metadata": {
    "id": "jSo6vVWFbNLD"
   },
   "outputs": [
    {
     "data": {
      "application/json": {
       "ascii": false,
       "bar_format": null,
       "colour": null,
       "elapsed": 0.022990942001342773,
       "initial": 0,
       "n": 0,
       "ncols": null,
       "nrows": 27,
       "postfix": null,
       "prefix": "",
       "rate": null,
       "total": 5,
       "unit": "it",
       "unit_divisor": 1000,
       "unit_scale": false
      },
      "application/vnd.jupyter.widget-view+json": {
       "model_id": "864a8e2086d04e58a8cf0fc924522fd0",
       "version_major": 2,
       "version_minor": 0
      },
      "text/plain": [
       "  0%|          | 0/5 [00:00<?, ?it/s]"
      ]
     },
     "metadata": {},
     "output_type": "display_data"
    },
    {
     "name": "stdout",
     "output_type": "stream",
     "text": [
      "Epoch: 0 | Loss: 0.278 | Test loss: 0.092\n",
      "Epoch: 1 | Loss: 0.069 | Test loss: 0.053\n",
      "Epoch: 2 | Loss: 0.055 | Test loss: 0.045\n",
      "Epoch: 3 | Loss: 0.046 | Test loss: 0.059\n",
      "Epoch: 4 | Loss: 0.041 | Test loss: 0.042\n",
      "CPU times: user 31min 42s, sys: 2.32 s, total: 31min 44s\n",
      "Wall time: 1min 35s\n"
     ]
    }
   ],
   "source": [
    "%%time\n",
    "from tqdm.auto import tqdm\n",
    "\n",
    "#Train on CPU\n",
    "model_cpu = MNIST_model(input_shape=1,\n",
    "                       hidden_units=10,\n",
    "                       output_shape=10).to(\"cpu\")\n",
    "\n",
    "# create a loss function and optimizer \n",
    "loss_fn = nn.CrossEntropyLoss()\n",
    "optimizer = torch.optim.SGD(model_cpu.parameters(),\n",
    "                           lr=0.1)\n",
    "\n",
    "### Training loop \n",
    "epochs = 5\n",
    "for epoch in tqdm(range(epochs)):\n",
    "    train_loss = 0\n",
    "    for batch, (X, y) in enumerate(train_dataloader):\n",
    "        model_cpu.train()\n",
    "        \n",
    "        #Put data on CPU\n",
    "        X, y = X.to(\"cpu\"), y.to(\"cpu\")\n",
    "        \n",
    "        # Forward pass\n",
    "        y_pred = model_cpu(X)\n",
    "        \n",
    "        # Loss calculation \n",
    "        loss = loss_fn(y_pred, y)\n",
    "        train_loss += loss\n",
    "        \n",
    "        # Optimizer zero grad\n",
    "        optimizer.zero_grad()\n",
    "        \n",
    "        # Loss backward\n",
    "        loss.backward()\n",
    "        \n",
    "        # Step the optimizer\n",
    "        optimizer.step()\n",
    "        \n",
    "    # Adjust train loss for number of batches \n",
    "    train_loss /= len(train_dataloader)\n",
    "    \n",
    "    \n",
    "    \n",
    "    \n",
    "    ### Test loop\n",
    "    test_loss_total = 0\n",
    "    \n",
    "    # put the model in eval modde\n",
    "    model.eval()\n",
    "    \n",
    "    # Turn on inference mode \n",
    "    with torch.inference_mode():\n",
    "        for batch, (X_test, y_test) in enumerate(test_dataloader):\n",
    "            # to device data\n",
    "            X_test, y_test = X_test.to(\"cpu\"), y_test.to(\"cpu\")\n",
    "            #Forward pass\n",
    "            test_pred = model_cpu(X_test)\n",
    "            #Calculate the loss\n",
    "            test_loss = loss_fn(test_pred, y_test)\n",
    "            \n",
    "            test_loss_total += test_loss\n",
    "            \n",
    "        test_loss_total /= len(test_dataloader)\n",
    "        \n",
    "    # Print out what's happening\n",
    "    print(f\"Epoch: {epoch} | Loss: {train_loss:.3f} | Test loss: {test_loss_total:.3f}\")"
   ]
  },
  {
   "cell_type": "code",
   "execution_count": 60,
   "metadata": {},
   "outputs": [
    {
     "data": {
      "application/json": {
       "ascii": false,
       "bar_format": null,
       "colour": null,
       "elapsed": 0.01624011993408203,
       "initial": 0,
       "n": 0,
       "ncols": null,
       "nrows": 27,
       "postfix": null,
       "prefix": "",
       "rate": null,
       "total": 5,
       "unit": "it",
       "unit_divisor": 1000,
       "unit_scale": false
      },
      "application/vnd.jupyter.widget-view+json": {
       "model_id": "07a5fc670dc648c7a2abe81df9e0f82c",
       "version_major": 2,
       "version_minor": 0
      },
      "text/plain": [
       "  0%|          | 0/5 [00:00<?, ?it/s]"
      ]
     },
     "metadata": {},
     "output_type": "display_data"
    },
    {
     "name": "stdout",
     "output_type": "stream",
     "text": [
      "Epoch: 0 | Loss: 0.326 | Test loss: 0.104\n",
      "Epoch: 1 | Loss: 0.086 | Test loss: 0.068\n",
      "Epoch: 2 | Loss: 0.066 | Test loss: 0.046\n",
      "Epoch: 3 | Loss: 0.056 | Test loss: 0.057\n",
      "Epoch: 4 | Loss: 0.050 | Test loss: 0.046\n",
      "CPU times: user 51.6 s, sys: 380 ms, total: 52 s\n",
      "Wall time: 49.4 s\n"
     ]
    }
   ],
   "source": [
    "%%time\n",
    "from tqdm.auto import tqdm \n",
    "\n",
    "device = \"cuda\" if torch.cuda.is_available() else \"cpu\"\n",
    "\n",
    "# Train on GPU\n",
    "model_gpu = MNIST_model(input_shape=1,\n",
    "                        hidden_units=10,\n",
    "                        output_shape=10).to(device)\n",
    "\n",
    "# Create a loss function and optimizer\n",
    "loss_fn = nn.CrossEntropyLoss()\n",
    "optimizer = torch.optim.SGD(model_gpu.parameters(), lr=0.1)\n",
    "\n",
    "# Training loop\n",
    "epochs = 5\n",
    "for epoch in tqdm(range(epochs)):\n",
    "  train_loss = 0\n",
    "  model_gpu.train()\n",
    "  for batch, (X, y) in enumerate(train_dataloader):\n",
    "    # Put data on target device\n",
    "    X, y = X.to(device), y.to(device)\n",
    "\n",
    "    # Forward pass\n",
    "    y_pred = model_gpu(X)\n",
    "\n",
    "    # Loss calculation\n",
    "    loss = loss_fn(y_pred, y)\n",
    "    train_loss += loss\n",
    "\n",
    "    # Optimizer zero grad\n",
    "    optimizer.zero_grad()\n",
    "\n",
    "    # Loss backward\n",
    "    loss.backward()\n",
    "\n",
    "    # Step the optimizer\n",
    "    optimizer.step()\n",
    "  \n",
    "  # Adjust train loss to number of batches\n",
    "  train_loss /= len(train_dataloader)\n",
    "\n",
    "  ### Testing loop\n",
    "  test_loss_total = 0\n",
    "  # Put model in eval mode and turn on inference mode\n",
    "  model_gpu.eval()\n",
    "  with torch.inference_mode():\n",
    "    for batch, (X_test, y_test) in enumerate(test_dataloader):\n",
    "      # Make sure test data on target device\n",
    "      X_test, y_test = X_test.to(device), y_test.to(device)\n",
    "      \n",
    "      test_pred = model_gpu(X_test)\n",
    "      test_loss = loss_fn(test_pred, y_test)\n",
    "\n",
    "      test_loss_total += test_loss\n",
    "\n",
    "    # Adjust test loss total for number of batches\n",
    "    test_loss_total /= len(test_dataloader)\n",
    "  \n",
    "  # Print out what's happening\n",
    "  print(f\"Epoch: {epoch} | Loss: {train_loss:.3f} | Test loss: {test_loss_total:.3f}\")"
   ]
  },
  {
   "cell_type": "markdown",
   "metadata": {
    "id": "w1CsHhPpxp1w"
   },
   "source": [
    "## 10. Make predictions using your trained model and visualize at least 5 of them comparing the prediciton to the target label."
   ]
  },
  {
   "cell_type": "code",
   "execution_count": 61,
   "metadata": {
    "id": "_YGgZvSobNxu"
   },
   "outputs": [
    {
     "data": {
      "text/plain": [
       "<matplotlib.image.AxesImage at 0x7fcd5845e370>"
      ]
     },
     "execution_count": 61,
     "metadata": {},
     "output_type": "execute_result"
    },
    {
     "data": {
      "image/png": "[encoded data removed]",
      "text/plain": [
       "<Figure size 640x480 with 1 Axes>"
      ]
     },
     "metadata": {},
     "output_type": "display_data"
    }
   ],
   "source": [
    "# Make predictions with the trained model\n",
    "plt.imshow(test_data[0][0].squeeze(), cmap=\"gray\")"
   ]
  },
  {
   "cell_type": "code",
   "execution_count": 62,
   "metadata": {},
   "outputs": [
    {
     "data": {
      "text/plain": [
       "tensor([7], device='cuda:0')"
      ]
     },
     "execution_count": 62,
     "metadata": {},
     "output_type": "execute_result"
    }
   ],
   "source": [
    "# Logits -> Prediction probabilities -> Prediction labels\n",
    "model_pred_logits = model_gpu(test_data[0][0].unsqueeze(dim=0).to(device)) # make sure image is right shape + on right device\n",
    "model_pred_probs = torch.softmax(model_pred_logits, dim=1)\n",
    "model_pred_label = torch.argmax(model_pred_probs, dim=1)\n",
    "model_pred_label"
   ]
  },
  {
   "cell_type": "code",
   "execution_count": 63,
   "metadata": {},
   "outputs": [
    {
     "data": {
      "image/png": "[encoded data removed]",
      "text/plain": [
       "<Figure size 640x480 with 1 Axes>"
      ]
     },
     "metadata": {},
     "output_type": "display_data"
    },
    {
     "data": {
      "image/png": "[encoded data removed]",
      "text/plain": [
       "<Figure size 640x480 with 1 Axes>"
      ]
     },
     "metadata": {},
     "output_type": "display_data"
    },
    {
     "data": {
      "image/png": "[encoded data removed]",
      "text/plain": [
       "<Figure size 640x480 with 1 Axes>"
      ]
     },
     "metadata": {},
     "output_type": "display_data"
    },
    {
     "data": {
      "image/png": "[encoded data removed]",
      "text/plain": [
       "<Figure size 640x480 with 1 Axes>"
      ]
     },
     "metadata": {},
     "output_type": "display_data"
    },
    {
     "data": {
      "image/png": "[encoded data removed]",
      "text/plain": [
       "<Figure size 640x480 with 1 Axes>"
      ]
     },
     "metadata": {},
     "output_type": "display_data"
    }
   ],
   "source": [
    "num_to_plot = 5 \n",
    "for i in range(num_to_plot):\n",
    "  # Get image and labels from the test data\n",
    "  img = test_data[i][0]\n",
    "  label = test_data[i][1]\n",
    "\n",
    "  # Make prediction on image\n",
    "  model_pred_logits = model_gpu(img.unsqueeze(dim=0).to(device))\n",
    "  model_pred_probs = torch.softmax(model_pred_logits, dim=1)\n",
    "  model_pred_label = torch.argmax(model_pred_probs, dim=1)\n",
    "\n",
    "  # Plot the image and prediction\n",
    "  plt.figure()\n",
    "  plt.imshow(img.squeeze(), cmap=\"gray\")\n",
    "  plt.title(f\"Truth: {label} | Pred: {model_pred_label.cpu().item()}\") \n",
    "  plt.axis(False);"
   ]
  },
  {
   "cell_type": "markdown",
   "metadata": {
    "id": "qQwzqlBWxrpG"
   },
   "source": [
    "## 11. Plot a confusion matrix comparing your model's predictions to the truth labels."
   ]
  },
  {
   "cell_type": "code",
   "execution_count": 64,
   "metadata": {},
   "outputs": [
    {
     "name": "stdout",
     "output_type": "stream",
     "text": [
      "mlxtend version: 0.20.0\n"
     ]
    }
   ],
   "source": [
    "# See if torchmetrics exists, if not, install it\n",
    "try:\n",
    "    import torchmetrics, mlxtend\n",
    "    print(f\"mlxtend version: {mlxtend.__version__}\")\n",
    "    assert int(mlxtend.__version__.split(\".\")[1]) >= 19, \"mlxtend verison should be 0.19.0 or higher\"\n",
    "except:\n",
    "    !pip install -q torchmetrics -U mlxtend # <- Note: If you're using Google Colab, this may require restarting the runtime\n",
    "    import torchmetrics, mlxtend\n",
    "    print(f\"mlxtend version: {mlxtend.__version__}\")"
   ]
  },
  {
   "cell_type": "code",
   "execution_count": 65,
   "metadata": {
    "id": "vSrXiT_AbQ6e"
   },
   "outputs": [
    {
     "name": "stdout",
     "output_type": "stream",
     "text": [
      "0.20.0\n"
     ]
    }
   ],
   "source": [
    "# Import mlxtend upgraded version\n",
    "import mlxtend \n",
    "print(mlxtend.__version__)\n",
    "assert int(mlxtend.__version__.split(\".\")[1]) >= 19 # should be version 0.19.0 or higher"
   ]
  },
  {
   "cell_type": "code",
   "execution_count": 66,
   "metadata": {},
   "outputs": [
    {
     "data": {
      "application/json": {
       "ascii": false,
       "bar_format": null,
       "colour": null,
       "elapsed": 0.02564096450805664,
       "initial": 0,
       "n": 0,
       "ncols": null,
       "nrows": 27,
       "postfix": null,
       "prefix": "",
       "rate": null,
       "total": null,
       "unit": "it",
       "unit_divisor": 1000,
       "unit_scale": false
      },
      "application/vnd.jupyter.widget-view+json": {
       "model_id": "376e955fcc0d428fa1600029429af814",
       "version_major": 2,
       "version_minor": 0
      },
      "text/plain": [
       "0it [00:00, ?it/s]"
      ]
     },
     "metadata": {},
     "output_type": "display_data"
    },
    {
     "data": {
      "text/plain": [
       "10000"
      ]
     },
     "execution_count": 66,
     "metadata": {},
     "output_type": "execute_result"
    }
   ],
   "source": [
    "# Make predictions across all test data\n",
    "from tqdm.auto import tqdm\n",
    "model_gpu.eval()\n",
    "y_preds = []\n",
    "with torch.inference_mode():\n",
    "  for batch, (X, y) in tqdm(enumerate(test_dataloader)):\n",
    "    # Make sure data on right device\n",
    "    X, y = X.to(device), y.to(device)\n",
    "    # Forward pass\n",
    "    y_pred_logits = model_gpu(X)\n",
    "    # Logits -> Pred probs -> Pred label\n",
    "    y_pred_labels = torch.argmax(torch.softmax(y_pred_logits, dim=1), dim=1)\n",
    "    # Append the labels to the preds list\n",
    "    y_preds.append(y_pred_labels)\n",
    "  y_preds=torch.cat(y_preds).cpu()\n",
    "len(y_preds)"
   ]
  },
  {
   "cell_type": "code",
   "execution_count": 67,
   "metadata": {},
   "outputs": [
    {
     "data": {
      "text/plain": [
       "(tensor([7, 2, 1, 0, 4, 1, 4, 9, 5, 9]),\n",
       " tensor([7, 2, 1, 0, 4, 1, 4, 9, 5, 9]))"
      ]
     },
     "execution_count": 67,
     "metadata": {},
     "output_type": "execute_result"
    }
   ],
   "source": [
    "test_data.targets[:10], y_preds[:10]\n"
   ]
  },
  {
   "cell_type": "code",
   "execution_count": 68,
   "metadata": {},
   "outputs": [
    {
     "data": {
      "image/png": "[encoded data removed]",
      "text/plain": [
       "<Figure size 1000x700 with 1 Axes>"
      ]
     },
     "metadata": {},
     "output_type": "display_data"
    }
   ],
   "source": [
    "from torchmetrics import ConfusionMatrix\n",
    "from mlxtend.plotting import plot_confusion_matrix\n",
    "\n",
    "# Setup confusion matrix \n",
    "confmat = ConfusionMatrix(num_classes=len(class_names))\n",
    "confmat_tensor = confmat(preds=y_preds,\n",
    "                         target=test_data.targets)\n",
    "\n",
    "# Plot the confusion matrix\n",
    "fix, ax = plot_confusion_matrix(\n",
    "    conf_mat=confmat_tensor.numpy(),\n",
    "    class_names=class_names,\n",
    "    figsize=(10, 7)\n",
    ")"
   ]
  },
  {
   "cell_type": "code",
   "execution_count": null,
   "metadata": {},
   "outputs": [],
   "source": []
  },
  {
   "cell_type": "markdown",
   "metadata": {
    "id": "lj6bDhoWxt2y"
   },
   "source": [
    "## 12. Create a random tensor of shape `[1, 3, 64, 64]` and pass it through a `nn.Conv2d()` layer with various hyperparameter settings (these can be any settings you choose), what do you notice if the `kernel_size` parameter goes up and down?"
   ]
  },
  {
   "cell_type": "code",
   "execution_count": 69,
   "metadata": {
    "id": "leCTsqtSbR5P"
   },
   "outputs": [
    {
     "data": {
      "text/plain": [
       "torch.Size([1, 3, 64, 64])"
      ]
     },
     "execution_count": 69,
     "metadata": {},
     "output_type": "execute_result"
    }
   ],
   "source": [
    "random_tensor = torch.rand([1, 3, 64, 64])\n",
    "random_tensor.shape"
   ]
  },
  {
   "cell_type": "code",
   "execution_count": 70,
   "metadata": {},
   "outputs": [
    {
     "name": "stdout",
     "output_type": "stream",
     "text": [
      "Random tensor original shape: torch.Size([1, 3, 64, 64])\n",
      "Random tensor through conv layer shape: torch.Size([1, 64, 32, 32])\n"
     ]
    }
   ],
   "source": [
    "conv_layer = nn.Conv2d(in_channels=3,\n",
    "                       out_channels=64,\n",
    "                       kernel_size=3,\n",
    "                       stride=2,\n",
    "                       padding=1)\n",
    "\n",
    "print(f\"Random tensor original shape: {random_tensor.shape}\")\n",
    "random_tensor_through_conv_layer = conv_layer(random_tensor)\n",
    "print(f\"Random tensor through conv layer shape: {random_tensor_through_conv_layer.shape}\")"
   ]
  },
  {
   "cell_type": "markdown",
   "metadata": {
    "id": "VHS20cNTxwSi"
   },
   "source": [
    "## 13. Use a model similar to the trained `model_2` from notebook 03 to make predictions on the test [`torchvision.datasets.FashionMNIST`](https://pytorch.org/vision/main/generated/torchvision.datasets.FashionMNIST.html) dataset. \n",
    "* Then plot some predictions where the model was wrong alongside what the label of the image should've been. \n",
    "* After visualing these predictions do you think it's more of a modelling error or a data error? \n",
    "* As in, could the model do better or are the labels of the data too close to each other (e.g. a \"Shirt\" label is too close to \"T-shirt/top\")?"
   ]
  },
  {
   "cell_type": "code",
   "execution_count": 73,
   "metadata": {
    "id": "78a8LjtdbSZj"
   },
   "outputs": [
    {
     "name": "stdout",
     "output_type": "stream",
     "text": [
      "Downloading http://fashion-mnist.s3-website.eu-central-1.amazonaws.com/train-images-idx3-ubyte.gz\n",
      "Downloading http://fashion-mnist.s3-website.eu-central-1.amazonaws.com/train-images-idx3-ubyte.gz to datasets/FashionMNIST/raw/train-images-idx3-ubyte.gz\n"
     ]
    },
    {
     "data": {
      "application/json": {
       "ascii": false,
       "bar_format": null,
       "colour": null,
       "elapsed": 0.029867887496948242,
       "initial": 0,
       "n": 0,
       "ncols": null,
       "nrows": 27,
       "postfix": null,
       "prefix": "",
       "rate": null,
       "total": 26421880,
       "unit": "it",
       "unit_divisor": 1000,
       "unit_scale": false
      },
      "application/vnd.jupyter.widget-view+json": {
       "model_id": "98fb9826372242c9b9fa8a2ea3d0b754",
       "version_major": 2,
       "version_minor": 0
      },
      "text/plain": [
       "  0%|          | 0/26421880 [00:00<?, ?it/s]"
      ]
     },
     "metadata": {},
     "output_type": "display_data"
    },
    {
     "name": "stdout",
     "output_type": "stream",
     "text": [
      "Extracting datasets/FashionMNIST/raw/train-images-idx3-ubyte.gz to datasets/FashionMNIST/raw\n",
      "\n",
      "Downloading http://fashion-mnist.s3-website.eu-central-1.amazonaws.com/train-labels-idx1-ubyte.gz\n",
      "Downloading http://fashion-mnist.s3-website.eu-central-1.amazonaws.com/train-labels-idx1-ubyte.gz to datasets/FashionMNIST/raw/train-labels-idx1-ubyte.gz\n"
     ]
    },
    {
     "data": {
      "application/json": {
       "ascii": false,
       "bar_format": null,
       "colour": null,
       "elapsed": 0.029470443725585938,
       "initial": 0,
       "n": 0,
       "ncols": null,
       "nrows": 27,
       "postfix": null,
       "prefix": "",
       "rate": null,
       "total": 29515,
       "unit": "it",
       "unit_divisor": 1000,
       "unit_scale": false
      },
      "application/vnd.jupyter.widget-view+json": {
       "model_id": "61fc40088e764a91a74c883c7bd8f122",
       "version_major": 2,
       "version_minor": 0
      },
      "text/plain": [
       "  0%|          | 0/29515 [00:00<?, ?it/s]"
      ]
     },
     "metadata": {},
     "output_type": "display_data"
    },
    {
     "name": "stdout",
     "output_type": "stream",
     "text": [
      "Extracting datasets/FashionMNIST/raw/train-labels-idx1-ubyte.gz to datasets/FashionMNIST/raw\n",
      "\n",
      "Downloading http://fashion-mnist.s3-website.eu-central-1.amazonaws.com/t10k-images-idx3-ubyte.gz\n",
      "Downloading http://fashion-mnist.s3-website.eu-central-1.amazonaws.com/t10k-images-idx3-ubyte.gz to datasets/FashionMNIST/raw/t10k-images-idx3-ubyte.gz\n"
     ]
    },
    {
     "data": {
      "application/json": {
       "ascii": false,
       "bar_format": null,
       "colour": null,
       "elapsed": 0.028337717056274414,
       "initial": 0,
       "n": 0,
       "ncols": null,
       "nrows": 27,
       "postfix": null,
       "prefix": "",
       "rate": null,
       "total": 4422102,
       "unit": "it",
       "unit_divisor": 1000,
       "unit_scale": false
      },
      "application/vnd.jupyter.widget-view+json": {
       "model_id": "4c5c009e184d4696b4c4951bdc93bdb2",
       "version_major": 2,
       "version_minor": 0
      },
      "text/plain": [
       "  0%|          | 0/4422102 [00:00<?, ?it/s]"
      ]
     },
     "metadata": {},
     "output_type": "display_data"
    },
    {
     "name": "stdout",
     "output_type": "stream",
     "text": [
      "Extracting datasets/FashionMNIST/raw/t10k-images-idx3-ubyte.gz to datasets/FashionMNIST/raw\n",
      "\n",
      "Downloading http://fashion-mnist.s3-website.eu-central-1.amazonaws.com/t10k-labels-idx1-ubyte.gz\n",
      "Downloading http://fashion-mnist.s3-website.eu-central-1.amazonaws.com/t10k-labels-idx1-ubyte.gz to datasets/FashionMNIST/raw/t10k-labels-idx1-ubyte.gz\n"
     ]
    },
    {
     "data": {
      "application/json": {
       "ascii": false,
       "bar_format": null,
       "colour": null,
       "elapsed": 0.02982020378112793,
       "initial": 0,
       "n": 0,
       "ncols": null,
       "nrows": 27,
       "postfix": null,
       "prefix": "",
       "rate": null,
       "total": 5148,
       "unit": "it",
       "unit_divisor": 1000,
       "unit_scale": false
      },
      "application/vnd.jupyter.widget-view+json": {
       "model_id": "2e9c76cc50a44af39ff909a714815d8d",
       "version_major": 2,
       "version_minor": 0
      },
      "text/plain": [
       "  0%|          | 0/5148 [00:00<?, ?it/s]"
      ]
     },
     "metadata": {},
     "output_type": "display_data"
    },
    {
     "name": "stdout",
     "output_type": "stream",
     "text": [
      "Extracting datasets/FashionMNIST/raw/t10k-labels-idx1-ubyte.gz to datasets/FashionMNIST/raw\n",
      "\n"
     ]
    },
    {
     "data": {
      "text/plain": [
       "(60000, 10000)"
      ]
     },
     "execution_count": 73,
     "metadata": {},
     "output_type": "execute_result"
    }
   ],
   "source": [
    "# Download FashionMNIST train & test\n",
    "from torchvision import datasets\n",
    "from torchvision import transforms\n",
    "\n",
    "fashion_mnist_train = datasets.FashionMNIST(root=rootDir,\n",
    "                                            download=True,\n",
    "                                            train=True,\n",
    "                                            transform=transforms.ToTensor())\n",
    "\n",
    "fashion_mnist_test = datasets.FashionMNIST(root=rootDir,\n",
    "                                           train=False,\n",
    "                                           download=True,\n",
    "                                           transform=transforms.ToTensor())\n",
    "\n",
    "len(fashion_mnist_train), len(fashion_mnist_test)"
   ]
  },
  {
   "cell_type": "code",
   "execution_count": 78,
   "metadata": {},
   "outputs": [
    {
     "data": {
      "text/plain": [
       "(1875, 313)"
      ]
     },
     "execution_count": 78,
     "metadata": {},
     "output_type": "execute_result"
    }
   ],
   "source": [
    "# Turn FashionMNIST datasets into dataloaders\n",
    "from torch.utils.data import DataLoader\n",
    "\n",
    "fashion_mnist_train_dataloader = DataLoader(fashion_mnist_train,\n",
    "                                            batch_size=32,\n",
    "                                            shuffle=True)\n",
    "\n",
    "fashion_mnist_test_dataloader = DataLoader(fashion_mnist_test,\n",
    "                                           batch_size=32,\n",
    "                                           shuffle=False)\n",
    "\n",
    "len(fashion_mnist_train_dataloader), len(fashion_mnist_test_dataloader)"
   ]
  },
  {
   "cell_type": "code",
   "execution_count": 74,
   "metadata": {},
   "outputs": [
    {
     "data": {
      "text/plain": [
       "['T-shirt/top',\n",
       " 'Trouser',\n",
       " 'Pullover',\n",
       " 'Dress',\n",
       " 'Coat',\n",
       " 'Sandal',\n",
       " 'Shirt',\n",
       " 'Sneaker',\n",
       " 'Bag',\n",
       " 'Ankle boot']"
      ]
     },
     "execution_count": 74,
     "metadata": {},
     "output_type": "execute_result"
    }
   ],
   "source": [
    "# Get the class names of the Fashion MNIST dataset\n",
    "fashion_mnist_class_names = fashion_mnist_train.classes\n",
    "fashion_mnist_class_names"
   ]
  },
  {
   "cell_type": "code",
   "execution_count": 75,
   "metadata": {},
   "outputs": [
    {
     "data": {
      "text/plain": [
       "MNIST_model(\n",
       "  (conv_block_1): Sequential(\n",
       "    (0): Conv2d(1, 10, kernel_size=(3, 3), stride=(1, 1), padding=(1, 1))\n",
       "    (1): ReLU()\n",
       "    (2): Conv2d(10, 10, kernel_size=(3, 3), stride=(1, 1), padding=(1, 1))\n",
       "    (3): ReLU()\n",
       "    (4): MaxPool2d(kernel_size=2, stride=2, padding=0, dilation=1, ceil_mode=False)\n",
       "  )\n",
       "  (conv_block_2): Sequential(\n",
       "    (0): Conv2d(10, 10, kernel_size=(3, 3), stride=(1, 1), padding=(1, 1))\n",
       "    (1): ReLU()\n",
       "    (2): Conv2d(10, 10, kernel_size=(3, 3), stride=(1, 1), padding=(1, 1))\n",
       "    (3): ReLU()\n",
       "    (4): MaxPool2d(kernel_size=2, stride=2, padding=0, dilation=1, ceil_mode=False)\n",
       "  )\n",
       "  (classifier): Sequential(\n",
       "    (0): Flatten(start_dim=1, end_dim=-1)\n",
       "    (1): Linear(in_features=490, out_features=10, bias=True)\n",
       "  )\n",
       ")"
      ]
     },
     "execution_count": 75,
     "metadata": {},
     "output_type": "execute_result"
    }
   ],
   "source": [
    "# model_2 is the same architecture as MNIST_model\n",
    "model_2 = MNIST_model(input_shape=1,\n",
    "                      hidden_units=10,\n",
    "                      output_shape=10).to(device)\n",
    "model_2"
   ]
  },
  {
   "cell_type": "code",
   "execution_count": 76,
   "metadata": {},
   "outputs": [],
   "source": [
    "# Setup loss and optimizer\n",
    "from torch import nn\n",
    "loss_fn = nn.CrossEntropyLoss()\n",
    "optimizer = torch.optim.SGD(model_2.parameters(), lr=0.01)"
   ]
  },
  {
   "cell_type": "code",
   "execution_count": 79,
   "metadata": {},
   "outputs": [
    {
     "data": {
      "application/json": {
       "ascii": false,
       "bar_format": null,
       "colour": null,
       "elapsed": 0.014698505401611328,
       "initial": 0,
       "n": 0,
       "ncols": null,
       "nrows": 27,
       "postfix": null,
       "prefix": "",
       "rate": null,
       "total": 5,
       "unit": "it",
       "unit_divisor": 1000,
       "unit_scale": false
      },
      "application/vnd.jupyter.widget-view+json": {
       "model_id": "815b96fd6b6842e18a5e51869bd55813",
       "version_major": 2,
       "version_minor": 0
      },
      "text/plain": [
       "  0%|          | 0/5 [00:00<?, ?it/s]"
      ]
     },
     "metadata": {},
     "output_type": "display_data"
    },
    {
     "name": "stdout",
     "output_type": "stream",
     "text": [
      "Epoch: 0 | Train loss: 1.289 | Train acc: 0.54 | Test loss: 183.932 | Test acc: 0.79\n",
      "Epoch: 1 | Train loss: 0.504 | Train acc: 0.82 | Test loss: 149.974 | Test acc: 0.83\n",
      "Epoch: 2 | Train loss: 0.423 | Train acc: 0.85 | Test loss: 135.534 | Test acc: 0.84\n",
      "Epoch: 3 | Train loss: 0.387 | Train acc: 0.86 | Test loss: 125.762 | Test acc: 0.86\n",
      "Epoch: 4 | Train loss: 0.364 | Train acc: 0.87 | Test loss: 129.790 | Test acc: 0.84\n"
     ]
    }
   ],
   "source": [
    "# Setup metrics\n",
    "from tqdm.auto import tqdm\n",
    "from torchmetrics import Accuracy\n",
    "\n",
    "acc_fn = Accuracy(num_classes=len(fashion_mnist_class_names)).to(device) \n",
    "\n",
    "# Setup training/testing loop\n",
    "epochs = 5\n",
    "for epoch in tqdm(range(epochs)):\n",
    "  train_loss, test_loss_total = 0, 0\n",
    "  train_acc, test_acc = 0, 0 \n",
    "\n",
    "  ### Training\n",
    "  model_2.train()\n",
    "  for batch, (X_train, y_train) in enumerate(fashion_mnist_train_dataloader):\n",
    "    X_train, y_train = X_train.to(device), y_train.to(device)\n",
    "\n",
    "    # Forward pass and loss\n",
    "    y_pred = model_2(X_train)\n",
    "    loss = loss_fn(y_pred, y_train)\n",
    "    train_loss += loss\n",
    "    train_acc += acc_fn(y_pred, y_train)\n",
    "\n",
    "    # Backprop and gradient descent\n",
    "    optimizer.zero_grad()\n",
    "    loss.backward() \n",
    "    optimizer.step()\n",
    "\n",
    "  # Adjust the loss/acc (find the loss/acc per epoch)\n",
    "  train_loss /= len(fashion_mnist_train_dataloader)\n",
    "  train_acc /= len(fashion_mnist_train_dataloader)\n",
    "\n",
    "  ### Testing\n",
    "  model_2.eval()\n",
    "  with torch.inference_mode():\n",
    "    for batch, (X_test, y_test) in enumerate(fashion_mnist_test_dataloader):\n",
    "      X_test, y_test = X_test.to(device), y_test.to(device)\n",
    "\n",
    "      # Forward pass and loss\n",
    "      y_pred_test = model_2(X_test)\n",
    "      test_loss = loss_fn(y_pred_test, y_test)\n",
    "      test_loss_total += test_loss\n",
    "\n",
    "      test_acc += acc_fn(y_pred_test, y_test)\n",
    "  \n",
    "    # Adjust the loss/acc (find the loss/acc per epoch)\n",
    "    test_loss /= len(fashion_mnist_test_dataloader)\n",
    "    test_acc /= len(fashion_mnist_test_dataloader)\n",
    "    \n",
    "  # Print out what's happening\n",
    "  print(f\"Epoch: {epoch} | Train loss: {train_loss:.3f} | Train acc: {train_acc:.2f} | Test loss: {test_loss_total:.3f} | Test acc: {test_acc:.2f}\")\n"
   ]
  },
  {
   "cell_type": "code",
   "execution_count": 80,
   "metadata": {},
   "outputs": [
    {
     "data": {
      "application/json": {
       "ascii": false,
       "bar_format": null,
       "colour": null,
       "elapsed": 0.015599489212036133,
       "initial": 0,
       "n": 0,
       "ncols": null,
       "nrows": 27,
       "postfix": null,
       "prefix": "",
       "rate": null,
       "total": 313,
       "unit": "it",
       "unit_divisor": 1000,
       "unit_scale": false
      },
      "application/vnd.jupyter.widget-view+json": {
       "model_id": "e8b1cef405d34e57b703d72b1aa47307",
       "version_major": 2,
       "version_minor": 0
      },
      "text/plain": [
       "  0%|          | 0/313 [00:00<?, ?it/s]"
      ]
     },
     "metadata": {},
     "output_type": "display_data"
    },
    {
     "data": {
      "text/plain": [
       "(tensor([9, 2, 1, 1, 6, 1, 4, 6, 5, 7]), 10000)"
      ]
     },
     "execution_count": 80,
     "metadata": {},
     "output_type": "execute_result"
    }
   ],
   "source": [
    "# Make predictions with trained model_2\n",
    "test_preds = []\n",
    "model_2.eval()\n",
    "with torch.inference_mode():\n",
    "  for X_test, y_test in tqdm(fashion_mnist_test_dataloader):\n",
    "    y_logits = model_2(X_test.to(device))\n",
    "    y_pred_probs = torch.softmax(y_logits, dim=1)\n",
    "    y_pred_labels = torch.argmax(y_pred_probs, dim=1)\n",
    "    test_preds.append(y_pred_labels)\n",
    "test_preds = torch.cat(test_preds).cpu() # matplotlib likes CPU\n",
    "test_preds[:10], len(test_preds)"
   ]
  },
  {
   "cell_type": "code",
   "execution_count": 81,
   "metadata": {},
   "outputs": [
    {
     "data": {
      "text/plain": [
       "1564"
      ]
     },
     "execution_count": 81,
     "metadata": {},
     "output_type": "execute_result"
    }
   ],
   "source": [
    "# Get wrong prediction indexes\n",
    "import numpy as np\n",
    "wrong_pred_indexes = np.where(test_preds != fashion_mnist_test.targets)[0]\n",
    "len(wrong_pred_indexes)"
   ]
  },
  {
   "cell_type": "code",
   "execution_count": 82,
   "metadata": {},
   "outputs": [
    {
     "data": {
      "image/png": "[encoded data removed]",
      "text/plain": [
       "<Figure size 1000x1000 with 9 Axes>"
      ]
     },
     "metadata": {},
     "output_type": "display_data"
    }
   ],
   "source": [
    "# Select random 9 wrong predictions and plot them\n",
    "import random\n",
    "random_selection = random.sample(list(wrong_pred_indexes), k=9)\n",
    "\n",
    "plt.figure(figsize=(10, 10))\n",
    "for i, idx in enumerate(random_selection):\n",
    "  # Get true and pred labels\n",
    "  true_label = fashion_mnist_class_names[fashion_mnist_test[idx][1]]\n",
    "  pred_label = fashion_mnist_class_names[test_preds[idx]]\n",
    "\n",
    "  # Plot the wrong prediction with its original label\n",
    "  plt.subplot(3, 3, i+1)\n",
    "  plt.imshow(fashion_mnist_test[idx][0].squeeze(), cmap=\"gray\")\n",
    "  plt.title(f\"True: {true_label} | Pred: {pred_label}\", c=\"r\")\n",
    "  plt.axis(False);"
   ]
  },
  {
   "cell_type": "markdown",
   "metadata": {},
   "source": [
    "As seeing from the above predicitons the classes are overlapped over, as I got confused when looking at Sneekers and Ankle both are confused but "
   ]
  }
 ],
 "metadata": {
  "accelerator": "GPU",
  "colab": {
   "collapsed_sections": [],
   "name": "03_pytorch_computer_vision_exercises.ipynb",
   "provenance": []
  },
  "kernelspec": {
   "display_name": "Python 3 (ipykernel)",
   "language": "python",
   "name": "python3"
  },
  "language_info": {
   "codemirror_mode": {
    "name": "ipython",
    "version": 3
   },
   "file_extension": ".py",
   "mimetype": "text/x-python",
   "name": "python",
   "nbconvert_exporter": "python",
   "pygments_lexer": "ipython3",
   "version": "3.8.12"
  }
 },
 "nbformat": 4,
 "nbformat_minor": 1
}
